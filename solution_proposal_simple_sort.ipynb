{
 "cells": [
  {
   "cell_type": "code",
   "execution_count": 1,
   "metadata": {},
   "outputs": [],
   "source": [
    "from matplotlib import pyplot as plt\n",
    "import random\n",
    "import numpy as np"
   ]
  },
  {
   "cell_type": "code",
   "execution_count": 2,
   "metadata": {},
   "outputs": [
    {
     "name": "stdout",
     "output_type": "stream",
     "text": [
      "Populating the interactive namespace from numpy and matplotlib\n"
     ]
    },
    {
     "name": "stderr",
     "output_type": "stream",
     "text": [
      "/Users/uweschmitt/Projects/python3-advanced-challenges/venv3.6/lib/python3.6/site-packages/IPython/core/magics/pylab.py:160: UserWarning: pylab import has clobbered these variables: ['random']\n",
      "`%matplotlib` prevents importing * from pylab and numpy\n",
      "  \"\\n`%matplotlib` prevents importing * from pylab and numpy\"\n"
     ]
    }
   ],
   "source": [
    "%pylab inline"
   ]
  },
  {
   "cell_type": "code",
   "execution_count": 3,
   "metadata": {},
   "outputs": [],
   "source": [
    "def min_position(li, start_at):\n",
    "    assert len(li) > 0\n",
    "    assert start_at < len(li)\n",
    "    \n",
    "    min_value = li[start_at]\n",
    "    min_position = start_at\n",
    "    \n",
    "    for i, value in enumerate(li[start_at + 1:]):\n",
    "    \n",
    "        if value < min_value:\n",
    "            min_value = value\n",
    "            min_position = start_at + 1 + i\n",
    "    \n",
    "    return min_position"
   ]
  },
  {
   "cell_type": "code",
   "execution_count": 4,
   "metadata": {},
   "outputs": [],
   "source": [
    "li = [1, 2, 3, 1, 2]\n",
    "assert min_position(li, 0) == 0\n",
    "assert min_position(li, 1) == 3\n",
    "assert min_position(li, 2) == 3\n",
    "assert min_position(li, 3) == 3\n",
    "assert min_position(li, 4) == 4"
   ]
  },
  {
   "cell_type": "code",
   "execution_count": 5,
   "metadata": {},
   "outputs": [],
   "source": [
    "def step(i, li):\n",
    "    idx = min_position(li, i)\n",
    "    li[i], li[idx] = li[idx], li[i]  # tuple unpacking\n",
    "\n",
    "    \n",
    "def selection_sort(li, debug=False):\n",
    "    # copy li first so that li is not sorted inplace\n",
    "    # but the function returns a new list with sorted\n",
    "    # values:\n",
    "    li = li[:]\n",
    "    \n",
    "    if debug:\n",
    "        print(\"  \", li)\n",
    "    \n",
    "    for i in range(len(li) - 1):\n",
    "        step(i, li)\n",
    "        if debug:\n",
    "            print(\"{:2d} {}\".format(i, li))\n",
    "       \n",
    "    return li"
   ]
  },
  {
   "cell_type": "code",
   "execution_count": 6,
   "metadata": {},
   "outputs": [
    {
     "name": "stdout",
     "output_type": "stream",
     "text": [
      "   [0, 1, 2, 3, 4, 5, 6, 7, 8, 9]\n",
      " 0 [0, 1, 2, 3, 4, 5, 6, 7, 8, 9]\n",
      " 1 [0, 1, 2, 3, 4, 5, 6, 7, 8, 9]\n",
      " 2 [0, 1, 2, 3, 4, 5, 6, 7, 8, 9]\n",
      " 3 [0, 1, 2, 3, 4, 5, 6, 7, 8, 9]\n",
      " 4 [0, 1, 2, 3, 4, 5, 6, 7, 8, 9]\n",
      " 5 [0, 1, 2, 3, 4, 5, 6, 7, 8, 9]\n",
      " 6 [0, 1, 2, 3, 4, 5, 6, 7, 8, 9]\n",
      " 7 [0, 1, 2, 3, 4, 5, 6, 7, 8, 9]\n",
      " 8 [0, 1, 2, 3, 4, 5, 6, 7, 8, 9]\n",
      "\n",
      "   [9, 2, 3, 6, 1, 5, 8, 0, 7, 4]\n",
      " 0 [0, 2, 3, 6, 1, 5, 8, 9, 7, 4]\n",
      " 1 [0, 1, 3, 6, 2, 5, 8, 9, 7, 4]\n",
      " 2 [0, 1, 2, 6, 3, 5, 8, 9, 7, 4]\n",
      " 3 [0, 1, 2, 3, 6, 5, 8, 9, 7, 4]\n",
      " 4 [0, 1, 2, 3, 4, 5, 8, 9, 7, 6]\n",
      " 5 [0, 1, 2, 3, 4, 5, 8, 9, 7, 6]\n",
      " 6 [0, 1, 2, 3, 4, 5, 6, 9, 7, 8]\n",
      " 7 [0, 1, 2, 3, 4, 5, 6, 7, 9, 8]\n",
      " 8 [0, 1, 2, 3, 4, 5, 6, 7, 8, 9]\n"
     ]
    }
   ],
   "source": [
    "import random\n",
    "\n",
    "data = list(range(10))\n",
    "selection_sort(data, True)\n",
    "\n",
    "print()\n",
    "\n",
    "random.shuffle(data)\n",
    "selection_sort(data, True)\n",
    "\n",
    "for i in range(100000):\n",
    "    random.shuffle(data)\n",
    "    assert sorted(data) == selection_sort(data), data"
   ]
  },
  {
   "cell_type": "code",
   "execution_count": 7,
   "metadata": {},
   "outputs": [],
   "source": [
    "import time\n",
    "from statistics import median\n",
    "\n",
    "def measure(n):\n",
    "    data = list(range(n))\n",
    "    times = []\n",
    "    for _ in range(5):\n",
    "        random.shuffle(data)\n",
    "        started = time.time()\n",
    "        selection_sort(data)\n",
    "        times.append(time.time() - started)\n",
    "    return median(times)"
   ]
  },
  {
   "cell_type": "code",
   "execution_count": 8,
   "metadata": {},
   "outputs": [
    {
     "name": "stdout",
     "output_type": "stream",
     "text": [
      "100\n",
      "300\n",
      "500\n",
      "750\n",
      "1000\n",
      "1500\n",
      "2000\n",
      "2500\n",
      "3000\n"
     ]
    }
   ],
   "source": [
    "times = []\n",
    "sizes = np.array((100, 300, 500, 750, 1000, 1500, 2000, 2500, 3000))\n",
    "\n",
    "for size in sizes:\n",
    "    print(size)\n",
    "    times.append(measure(size))"
   ]
  },
  {
   "cell_type": "markdown",
   "metadata": {},
   "source": [
    "### Runtime analysis"
   ]
  },
  {
   "cell_type": "markdown",
   "metadata": {},
   "source": [
    "`step(i)` scans `n - i` elements which needs time `a (n - i)`. the swap has constant time `c`. This adds up to:"
   ]
  },
  {
   "cell_type": "markdown",
   "metadata": {},
   "source": [
    " $ a n + a (n - 1) + a (n - 2) + ... + a + n c = a \\frac{(n + 1) n}{2} + n c = \\frac{a}{2} n^2 + (\\frac{a}{2} + c) n $"
   ]
  },
  {
   "cell_type": "markdown",
   "metadata": {},
   "source": [
    "Thus the runtime is dominated by $n^2$:"
   ]
  },
  {
   "cell_type": "code",
   "execution_count": 9,
   "metadata": {},
   "outputs": [
    {
     "data": {
      "image/png": "[encoded data removed]",
      "text/plain": [
       "<matplotlib.figure.Figure at 0x10761da58>"
      ]
     },
     "metadata": {},
     "output_type": "display_data"
    }
   ],
   "source": [
    "plt.plot(sizes, times)\n",
    "plt.show()"
   ]
  },
  {
   "cell_type": "code",
   "execution_count": 10,
   "metadata": {},
   "outputs": [
    {
     "data": {
      "text/html": [
       "<style>\n",
       "    \n",
       "    @import url('http://fonts.googleapis.com/css?family=Source+Code+Pro');\n",
       "    \n",
       "    @import url('http://fonts.googleapis.com/css?family=Kameron');\n",
       "    @import url('http://fonts.googleapis.com/css?family=Crimson+Text');\n",
       "    \n",
       "    @import url('http://fonts.googleapis.com/css?family=Lato');\n",
       "    @import url('http://fonts.googleapis.com/css?family=Source+Sans+Pro');\n",
       "    \n",
       "    @import url('http://fonts.googleapis.com/css?family=Lora'); \n",
       "\n",
       "    \n",
       "    body {\n",
       "        font-family: 'Lora', Consolas, sans-serif;\n",
       "      \n",
       "    }\n",
       "    .rendered_html code\n",
       "    {\n",
       "        color: black;\n",
       "        background: #eaf0ff;\n",
       "        padding: 1pt;\n",
       "        font-family:  'Source Code Pro', Consolas, monocco, monospace;\n",
       "    }\n",
       "    \n",
       "    .CodeMirror pre {\n",
       "    font-family: 'Source Code Pro', monocco, Consolas, monocco, monospace;\n",
       "    }\n",
       "    \n",
       "    .cm-s-ipython span.cm-keyword {\n",
       "        font-weight: normal;\n",
       "     }\n",
       "     \n",
       "     strong {\n",
       "         background: #ffe7e7;\n",
       "         padding: 1pt;\n",
       "     }\n",
       "     \n",
       "    \n",
       "    div #notebook {\n",
       "        # font-size: 10pt; \n",
       "        line-height: 145%;\n",
       "        }\n",
       "        \n",
       "    li {\n",
       "        line-heigt: 145%;\n",
       "    }\n",
       "\n",
       "    div.output_area pre {\n",
       "        background: #fffdf0;\n",
       "        padding: 3pt;\n",
       "    }\n",
       "    h1, h2, h3, h4 {\n",
       "        font-family: Kameron, arial;\n",
       "    }\n",
       "    \n",
       "    div#maintoolbar {display: none !important;}\n",
       "    </style>"
      ],
      "text/plain": [
       "<IPython.core.display.HTML object>"
      ]
     },
     "execution_count": 10,
     "metadata": {},
     "output_type": "execute_result"
    }
   ],
   "source": [
    "#REMOVEBEGIN\n",
    "# THE LINES BELOW ARE JUST FOR FORMATTING THE INSTRUCTIONS ABOVE !\n",
    "from IPython import utils, paths\n",
    "from IPython.core.display import HTML\n",
    "import os\n",
    "def css_styling():\n",
    "    \"\"\"Load default custom.css file from ipython profile\"\"\"\n",
    "    # base = utils.path.get_ipython_dir()\n",
    "    base = paths.get_ipython_dir()\n",
    "    styles = \"\"\"<style>\n",
    "    \n",
    "    @import url('http://fonts.googleapis.com/css?family=Source+Code+Pro');\n",
    "    \n",
    "    @import url('http://fonts.googleapis.com/css?family=Kameron');\n",
    "    @import url('http://fonts.googleapis.com/css?family=Crimson+Text');\n",
    "    \n",
    "    @import url('http://fonts.googleapis.com/css?family=Lato');\n",
    "    @import url('http://fonts.googleapis.com/css?family=Source+Sans+Pro');\n",
    "    \n",
    "    @import url('http://fonts.googleapis.com/css?family=Lora'); \n",
    "\n",
    "    \n",
    "    body {\n",
    "        font-family: 'Lora', Consolas, sans-serif;\n",
    "      \n",
    "    }\n",
    "    .rendered_html code\n",
    "    {\n",
    "        color: black;\n",
    "        background: #eaf0ff;\n",
    "        padding: 1pt;\n",
    "        font-family:  'Source Code Pro', Consolas, monocco, monospace;\n",
    "    }\n",
    "    \n",
    "    .CodeMirror pre {\n",
    "    font-family: 'Source Code Pro', monocco, Consolas, monocco, monospace;\n",
    "    }\n",
    "    \n",
    "    .cm-s-ipython span.cm-keyword {\n",
    "        font-weight: normal;\n",
    "     }\n",
    "     \n",
    "     strong {\n",
    "         background: #ffe7e7;\n",
    "         padding: 1pt;\n",
    "     }\n",
    "     \n",
    "    \n",
    "    div #notebook {\n",
    "        # font-size: 10pt; \n",
    "        line-height: 145%;\n",
    "        }\n",
    "        \n",
    "    li {\n",
    "        line-heigt: 145%;\n",
    "    }\n",
    "\n",
    "    div.output_area pre {\n",
    "        background: #fffdf0;\n",
    "        padding: 3pt;\n",
    "    }\n",
    "    h1, h2, h3, h4 {\n",
    "        font-family: Kameron, arial;\n",
    "    }\n",
    "    \n",
    "    div#maintoolbar {display: none !important;}\n",
    "    </style>\"\"\"\n",
    "    return HTML(styles)\n",
    "css_styling()\n",
    "#REMOVEEND"
   ]
  },
  {
   "cell_type": "code",
   "execution_count": null,
   "metadata": {},
   "outputs": [],
   "source": []
  }
 ],
 "metadata": {
  "kernelspec": {
   "display_name": "Python 3",
   "language": "python",
   "name": "python3"
  },
  "language_info": {
   "codemirror_mode": {
    "name": "ipython",
    "version": 3
   },
   "file_extension": ".py",
   "mimetype": "text/x-python",
   "name": "python",
   "nbconvert_exporter": "python",
   "pygments_lexer": "ipython3",
   "version": "3.6.0"
  }
 },
 "nbformat": 4,
 "nbformat_minor": 2
}
