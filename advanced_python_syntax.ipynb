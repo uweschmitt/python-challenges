{
 "cells": [
  {
   "cell_type": "markdown",
   "metadata": {},
   "source": [
    "# Some advanced topics\n",
    "\n",
    "This script introduces some advanced topics and helpful functions to bridge the gap from the Python Introduction course to the Python Challenges."
   ]
  },
  {
   "cell_type": "markdown",
   "metadata": {},
   "source": [
    "## More about functions\n",
    "\n",
    "Python functions support so called \"default\" arguments"
   ]
  },
  {
   "cell_type": "code",
   "execution_count": 49,
   "metadata": {},
   "outputs": [],
   "source": [
    "def greet(name, ending=\"!\"):\n",
    "    print(\"hi\", name, ending)"
   ]
  },
  {
   "cell_type": "markdown",
   "metadata": {},
   "source": [
    "If we now call `greet` with one argument, Python uses the default value of the second:"
   ]
  },
  {
   "cell_type": "code",
   "execution_count": 50,
   "metadata": {},
   "outputs": [
    {
     "name": "stdout",
     "output_type": "stream",
     "text": [
      "hi jesus !\n"
     ]
    }
   ],
   "source": [
    "greet(\"jesus\")"
   ]
  },
  {
   "cell_type": "markdown",
   "metadata": {},
   "source": [
    "But we still can overrun this:"
   ]
  },
  {
   "cell_type": "code",
   "execution_count": 51,
   "metadata": {},
   "outputs": [
    {
     "name": "stdout",
     "output_type": "stream",
     "text": [
      "hi darling <3\n"
     ]
    }
   ],
   "source": [
    "greet(\"darling\", \"<3\")"
   ]
  },
  {
   "cell_type": "markdown",
   "metadata": {},
   "source": [
    "This is very usefull to provide sensible default values of algorithms for \"non-expert\" users, which an expert still can overrun."
   ]
  },
  {
   "cell_type": "markdown",
   "metadata": {},
   "source": [
    "Python functions also support multiple return values. If a function computes more than one value, we list the results separated with \",\":"
   ]
  },
  {
   "cell_type": "code",
   "execution_count": 52,
   "metadata": {},
   "outputs": [],
   "source": [
    "def sum_and_diff(x, y):\n",
    "    return x + y, x - y"
   ]
  },
  {
   "cell_type": "markdown",
   "metadata": {},
   "source": [
    "If we call this function, we must use the same number of variables on the left side of `=`."
   ]
  },
  {
   "cell_type": "code",
   "execution_count": 54,
   "metadata": {},
   "outputs": [
    {
     "name": "stdout",
     "output_type": "stream",
     "text": [
      "13 7\n"
     ]
    }
   ],
   "source": [
    "s, d = sum_and_diff(10, 3)\n",
    "print(s, d)"
   ]
  },
  {
   "cell_type": "markdown",
   "metadata": {},
   "source": [
    "## Exercise:\n",
    "\n",
    "- Implement a function `product` which takes up to three values to compute their product. Using right default values helps. Called as `product(1, 2, 3)`, `product(2, 3)` or `product(6)` it should always return `6`.\n",
    "\n",
    "- Implement a function which returns sum and average of a given list of numbers."
   ]
  },
  {
   "cell_type": "markdown",
   "metadata": {},
   "source": [
    "## Tuples and tuple unpacking\n",
    "\n",
    "Tuples are \"immutable lists\". This means: once constructed you can not change them any more (no append, no replacement of single entries).\n",
    "\n",
    "The main reason for this is that keys in dictionares must be immutable. The consequence is that lists are not allowed, but tuples.\n"
   ]
  },
  {
   "cell_type": "markdown",
   "metadata": {},
   "source": [
    "To extract all elements of a tuple (or list) at the same time, we can write:"
   ]
  },
  {
   "cell_type": "code",
   "execution_count": 55,
   "metadata": {},
   "outputs": [],
   "source": [
    "tp = (1, 2, 3)\n",
    "a, b, c = tp"
   ]
  },
  {
   "cell_type": "markdown",
   "metadata": {},
   "source": [
    "instead of"
   ]
  },
  {
   "cell_type": "code",
   "execution_count": 56,
   "metadata": {},
   "outputs": [],
   "source": [
    "a = tp[0]\n",
    "b = tp[1]\n",
    "c = tp[2]"
   ]
  },
  {
   "cell_type": "markdown",
   "metadata": {},
   "source": [
    "We can write tuples shorter without brackets:"
   ]
  },
  {
   "cell_type": "code",
   "execution_count": 57,
   "metadata": {},
   "outputs": [],
   "source": [
    "tp = 1, 2, 3"
   ]
  },
  {
   "cell_type": "markdown",
   "metadata": {},
   "source": [
    "So if a function returns multiple, comma separated values, it still returns one single item which is a tuple. And when we extract the return values, we do tuple unpacking:"
   ]
  },
  {
   "cell_type": "code",
   "execution_count": 58,
   "metadata": {},
   "outputs": [],
   "source": [
    "# repeated from above\n",
    "\n",
    "def sum_and_diff(x, y):\n",
    "    # returns tuple with two elements:\n",
    "    return x + y, x - y\n",
    "\n",
    "# unpack tuple:\n",
    "a, b = sum_and_diff(10, 3)"
   ]
  },
  {
   "cell_type": "markdown",
   "metadata": {},
   "source": [
    "And as keys in a dictionary:"
   ]
  },
  {
   "cell_type": "code",
   "execution_count": 61,
   "metadata": {},
   "outputs": [
    {
     "name": "stdout",
     "output_type": "stream",
     "text": [
      "6\n"
     ]
    }
   ],
   "source": [
    "def matrix():\n",
    "    result = {}\n",
    "    for i in range(1, 5):\n",
    "        for j in range(1, 5):\n",
    "            result[i, j] = i * j   # tuple as key!\n",
    "    return result\n",
    "\n",
    "m = matrix()\n",
    "print(m[2, 3])"
   ]
  },
  {
   "cell_type": "markdown",
   "metadata": {},
   "source": [
    "### When lists, when tuples ?\n",
    "\n",
    "There is no clear rule when to use lists and when to use tuples. But a rule of thumb is:\n",
    "\n",
    "- use tuples for grouping heterogenous data (eg one entry of an address book)\n",
    "- use lists to collect items of same \"type\" (list of addresses)"
   ]
  },
  {
   "cell_type": "code",
   "execution_count": 63,
   "metadata": {},
   "outputs": [],
   "source": [
    "address_1 = (\"jesus\", \"heaven\", 17)\n",
    "address_2 = (\"devil\", \"hell\", 666)\n",
    "address_3 = (\"eth zurich\", \"rämistrasse\", 1)\n",
    "\n",
    "addresses = [address_1, address_2, address_3]"
   ]
  },
  {
   "cell_type": "markdown",
   "metadata": {},
   "source": [
    "## Sets\n",
    "\n",
    "Python has a container data type `set` to represent mathematical sets. In a set all elements are unique and have no ordering."
   ]
  },
  {
   "cell_type": "code",
   "execution_count": 68,
   "metadata": {},
   "outputs": [
    {
     "name": "stdout",
     "output_type": "stream",
     "text": [
      "{1, 2, 3}\n"
     ]
    }
   ],
   "source": [
    "numbers = {1, 2, 3}\n",
    "print(numbers)"
   ]
  },
  {
   "cell_type": "markdown",
   "metadata": {},
   "source": [
    "Using `{}` for an empty set is not possible, `{}` already is an empty dictionary. Instead we write:"
   ]
  },
  {
   "cell_type": "code",
   "execution_count": 70,
   "metadata": {},
   "outputs": [],
   "source": [
    "a = set()"
   ]
  },
  {
   "cell_type": "markdown",
   "metadata": {},
   "source": [
    "To add elements to the set:"
   ]
  },
  {
   "cell_type": "code",
   "execution_count": 72,
   "metadata": {},
   "outputs": [
    {
     "name": "stdout",
     "output_type": "stream",
     "text": [
      "{1, 2}\n"
     ]
    }
   ],
   "source": [
    "a.add(1)\n",
    "a.add(2)\n",
    "a.add(1)  # does nothing, 1 is already in the set !\n",
    "print(a)"
   ]
  },
  {
   "cell_type": "markdown",
   "metadata": {},
   "source": [
    "Sets are optimized for \"membership lookup\". The time to check if a given element is in a given set, is more or less independent of the size of the set, may it have 1000 or 1000.000 elements."
   ]
  },
  {
   "cell_type": "code",
   "execution_count": 73,
   "metadata": {},
   "outputs": [
    {
     "name": "stdout",
     "output_type": "stream",
     "text": [
      "True\n",
      "False\n"
     ]
    }
   ],
   "source": [
    "print(1 in a)\n",
    "print(3 in a)"
   ]
  },
  {
   "cell_type": "markdown",
   "metadata": {},
   "source": [
    "Further the data type supports standard mathematical set operation as intersection, union and set differences:"
   ]
  },
  {
   "cell_type": "code",
   "execution_count": 77,
   "metadata": {},
   "outputs": [],
   "source": [
    "numbers = {1, 2, 3, 4}\n",
    "even = {2, 4, 6, 8}"
   ]
  },
  {
   "cell_type": "markdown",
   "metadata": {},
   "source": [
    "For set operations we have usually two alternatives"
   ]
  },
  {
   "cell_type": "code",
   "execution_count": 82,
   "metadata": {},
   "outputs": [
    {
     "name": "stdout",
     "output_type": "stream",
     "text": [
      "{2, 4}\n",
      "{2, 4}\n"
     ]
    }
   ],
   "source": [
    "# intersection\n",
    "print(numbers & even)\n",
    "print(numbers.intersection(even))"
   ]
  },
  {
   "cell_type": "code",
   "execution_count": 83,
   "metadata": {},
   "outputs": [
    {
     "name": "stdout",
     "output_type": "stream",
     "text": [
      "{1, 2, 3, 4, 6, 8}\n",
      "{1, 2, 3, 4, 6, 8}\n"
     ]
    }
   ],
   "source": [
    "# union\n",
    "print(numbers | even)\n",
    "print(numbers.union(even))"
   ]
  },
  {
   "cell_type": "code",
   "execution_count": 84,
   "metadata": {},
   "outputs": [
    {
     "name": "stdout",
     "output_type": "stream",
     "text": [
      "{1, 3}\n",
      "{1, 3}\n"
     ]
    }
   ],
   "source": [
    "# difference\n",
    "print(numbers - even)\n",
    "print(numbers.difference(even))"
   ]
  },
  {
   "cell_type": "markdown",
   "metadata": {},
   "source": [
    "## More about iterators\n",
    "\n",
    "Most iterators we have seen so far are used after `in` in a `for` statement:"
   ]
  },
  {
   "cell_type": "code",
   "execution_count": 39,
   "metadata": {},
   "outputs": [
    {
     "name": "stdout",
     "output_type": "stream",
     "text": [
      "0\n",
      "1\n",
      "2\n"
     ]
    }
   ],
   "source": [
    "for i in range(3):\n",
    "    print(i)"
   ]
  },
  {
   "cell_type": "markdown",
   "metadata": {},
   "source": [
    "Other examples for iterators are:\n",
    "- file handles (`for line in fh:`)\n",
    "- strings (`for character in \"abcde\":`)\n",
    "- dictionaries (`for key in ...:`)  (always iterates over keys)"
   ]
  },
  {
   "cell_type": "markdown",
   "metadata": {},
   "source": [
    "The functions `list`, `set` and `tuple` take arbitrary iterators and construct a list, set or tuple from them."
   ]
  },
  {
   "cell_type": "code",
   "execution_count": 85,
   "metadata": {},
   "outputs": [
    {
     "name": "stdout",
     "output_type": "stream",
     "text": [
      "range(0, 4)\n",
      "[0, 1, 2, 3]\n"
     ]
    }
   ],
   "source": [
    "print(range(4))\n",
    "print(list(range(4)))"
   ]
  },
  {
   "cell_type": "code",
   "execution_count": 86,
   "metadata": {},
   "outputs": [
    {
     "name": "stdout",
     "output_type": "stream",
     "text": [
      "[1, 2, 3]\n",
      "(1, 2)\n"
     ]
    }
   ],
   "source": [
    "print(list((1, 2, 3)))\n",
    "print(tuple([1, 2]))"
   ]
  },
  {
   "cell_type": "code",
   "execution_count": 88,
   "metadata": {},
   "outputs": [
    {
     "name": "stdout",
     "output_type": "stream",
     "text": [
      "['s', 'f', 'd', 'k', 'a', 'd', 'j', 'f']\n"
     ]
    }
   ],
   "source": [
    "print(list(\"sfdkadjf\"))"
   ]
  },
  {
   "cell_type": "markdown",
   "metadata": {},
   "source": [
    "Another useful function is `sorted` which takes an iterator and computes a sorted list:"
   ]
  },
  {
   "cell_type": "code",
   "execution_count": 91,
   "metadata": {},
   "outputs": [
    {
     "name": "stdout",
     "output_type": "stream",
     "text": [
      "['d', 'f', 'j', 'k', 's']\n"
     ]
    }
   ],
   "source": [
    "print(sorted(\"dskfj\"))"
   ]
  },
  {
   "cell_type": "markdown",
   "metadata": {},
   "source": [
    "Together with `set` we can implement efficient operations:"
   ]
  },
  {
   "cell_type": "code",
   "execution_count": 92,
   "metadata": {},
   "outputs": [
    {
     "name": "stdout",
     "output_type": "stream",
     "text": [
      "{1, 2, 3}\n"
     ]
    }
   ],
   "source": [
    "li = [1, 2, 1, 3, 2]\n",
    "unique_elements = set(li)\n",
    "print(unique_elements)"
   ]
  },
  {
   "cell_type": "code",
   "execution_count": 95,
   "metadata": {},
   "outputs": [
    {
     "name": "stdout",
     "output_type": "stream",
     "text": [
      "True\n",
      "False\n",
      "True\n"
     ]
    }
   ],
   "source": [
    "def unique_elements(data):\n",
    "    return len(set(data)) == len(data)\n",
    "\n",
    "print(unique_elements(\"abcde\"))\n",
    "print(unique_elements(\"abcdea\"))\n",
    "print(unique_elements([1, 2, 3]))"
   ]
  },
  {
   "cell_type": "markdown",
   "metadata": {},
   "source": [
    "## List comprehensions\n",
    "\n",
    "Python has some shortcuts (\"syntactic sugar\") for common list operations:"
   ]
  },
  {
   "cell_type": "code",
   "execution_count": 7,
   "metadata": {},
   "outputs": [
    {
     "name": "stdout",
     "output_type": "stream",
     "text": [
      "[0, 1, 4, 9, 16, 25, 36, 49, 64, 81]\n"
     ]
    }
   ],
   "source": [
    "a = [i**2 for i in range(10)]\n",
    "print(a)"
   ]
  },
  {
   "cell_type": "markdown",
   "metadata": {},
   "source": [
    "is the same as"
   ]
  },
  {
   "cell_type": "code",
   "execution_count": 8,
   "metadata": {},
   "outputs": [
    {
     "name": "stdout",
     "output_type": "stream",
     "text": [
      "[0, 1, 4, 9, 16, 25, 36, 49, 64, 81]\n"
     ]
    }
   ],
   "source": [
    "a = []\n",
    "for i in range(10):\n",
    "    a.append(i**2)\n",
    "print(a)"
   ]
  },
  {
   "cell_type": "markdown",
   "metadata": {},
   "source": [
    "and"
   ]
  },
  {
   "cell_type": "code",
   "execution_count": 15,
   "metadata": {},
   "outputs": [
    {
     "name": "stdout",
     "output_type": "stream",
     "text": [
      "[1, 5, 17, 37, 65]\n"
     ]
    }
   ],
   "source": [
    "b = [ai + 1 for ai in a if ai % 2 == 0]\n",
    "print(b)"
   ]
  },
  {
   "cell_type": "markdown",
   "metadata": {},
   "source": [
    "is the same as"
   ]
  },
  {
   "cell_type": "code",
   "execution_count": 16,
   "metadata": {},
   "outputs": [
    {
     "name": "stdout",
     "output_type": "stream",
     "text": [
      "[1, 5, 17, 37, 65]\n"
     ]
    }
   ],
   "source": [
    "b = []\n",
    "for ai in a:\n",
    "    if ai % 2 == 0:\n",
    "        b.append(ai + 1)\n",
    "print(b)"
   ]
  },
  {
   "cell_type": "markdown",
   "metadata": {},
   "source": [
    "The general form is `[ f(xi) for xi in <iterable>]` resp. `[ f(xi) for xi in <iterable> if <condition>]`."
   ]
  },
  {
   "cell_type": "markdown",
   "metadata": {},
   "source": [
    "## Dictionary expressions"
   ]
  },
  {
   "cell_type": "markdown",
   "metadata": {},
   "source": [
    "Constructing dictionarys works using dictionary comprehensions works similar to list comprehensions:"
   ]
  },
  {
   "cell_type": "code",
   "execution_count": 37,
   "metadata": {},
   "outputs": [
    {
     "name": "stdout",
     "output_type": "stream",
     "text": [
      "{'bc': 2, 'def': 3, 'ghij': 4}\n"
     ]
    }
   ],
   "source": [
    "sizes = {word: len(word) for word in \"a bc def ghij\".split() if len(word) > 1}\n",
    "print(sizes)"
   ]
  },
  {
   "cell_type": "markdown",
   "metadata": {},
   "source": [
    "## Exercise\n",
    "\n",
    "What do the following list comprehensions compute ?"
   ]
  },
  {
   "cell_type": "code",
   "execution_count": 33,
   "metadata": {},
   "outputs": [],
   "source": [
    "%%capture\n",
    "[ai.upper() for ai in \"hello you\" if ai != \"o\"]\n",
    "[i for i in range(10) if i % 2 == 0]\n",
    "[word.upper() for word in [\"hi\", \"you\", \"how\", \"do\", \"you\", \"do\"] if word[0] in \"hy\"]"
   ]
  },
  {
   "cell_type": "markdown",
   "metadata": {},
   "source": [
    "## `assert` statement\n",
    "\n",
    "`assert` checks if a given condition is `True` and \"throws an exception\" if not. It can be used to check if function arguments fullfill a given condition to ensure that the function works as expected. You also can specify a helpful error message.\n",
    "\n",
    "The following function only works for non empty lists, else we divide by zero:"
   ]
  },
  {
   "cell_type": "code",
   "execution_count": 27,
   "metadata": {},
   "outputs": [],
   "source": [
    "def average_1(li):\n",
    "    return sum(li) / len(li)"
   ]
  },
  {
   "cell_type": "markdown",
   "metadata": {},
   "source": [
    "To avoid this, we write:"
   ]
  },
  {
   "cell_type": "code",
   "execution_count": 34,
   "metadata": {},
   "outputs": [],
   "source": [
    "def average_2(li):\n",
    "    assert len(li) > 0, \"this function only works for non-empty lists\"\n",
    "    return sum(li) / len(li)"
   ]
  },
  {
   "cell_type": "markdown",
   "metadata": {},
   "source": [
    "We can also introduce type checks:"
   ]
  },
  {
   "cell_type": "code",
   "execution_count": 30,
   "metadata": {},
   "outputs": [],
   "source": [
    "def average_3(li):\n",
    "    assert isinstance(li, list), \"this function only works for lists\"\n",
    "    assert len(li) > 0, \"this function only works for non-empty lists\"\n",
    "    return sum(li) / len(li)"
   ]
  },
  {
   "cell_type": "markdown",
   "metadata": {},
   "source": [
    "## Exercise:\n",
    "- type the examples above\n",
    "- compare the error message of `average_1([])` to the error message of `average_2([])`\n",
    "- compare the error message of `average_1(17)` to the error message of `average_3(17)`\n"
   ]
  },
  {
   "cell_type": "markdown",
   "metadata": {},
   "source": [
    "## Helpful modules: `os`,  `glob`, `collections`."
   ]
  },
  {
   "cell_type": "markdown",
   "metadata": {},
   "source": [
    "`os` provides operating specific operations, mostly about file handling:"
   ]
  },
  {
   "cell_type": "code",
   "execution_count": 10,
   "metadata": {},
   "outputs": [
    {
     "name": "stdout",
     "output_type": "stream",
     "text": [
      "False\n",
      "True\n",
      "False\n"
     ]
    }
   ],
   "source": [
    "import os\n",
    "print(os.path.exists(\"abc.txt\"))\n",
    "with open(\"abc.txt\", \"w\") as fh:\n",
    "    pass  # pass is needed for empty code blocks !\n",
    "print(os.path.exists(\"abc.txt\"))\n",
    "os.remove(\"abc.txt\")\n",
    "print(os.path.exists(\"abc.txt\"))\n"
   ]
  },
  {
   "cell_type": "code",
   "execution_count": 11,
   "metadata": {},
   "outputs": [
    {
     "name": "stdout",
     "output_type": "stream",
     "text": [
      "['codon_table.txt', 'logistic_data.txt', 'logistic_data_multi.txt', 'requirements.txt']\n"
     ]
    }
   ],
   "source": [
    "print([name for name in os.listdir(\".\") if name.endswith(\".txt\")])"
   ]
  },
  {
   "cell_type": "markdown",
   "metadata": {},
   "source": [
    "`glob` allow iteration based on wildcards:"
   ]
  },
  {
   "cell_type": "code",
   "execution_count": 9,
   "metadata": {},
   "outputs": [
    {
     "name": "stdout",
     "output_type": "stream",
     "text": [
      "['codon_table.txt', 'logistic_data.txt', 'logistic_data_multi.txt', 'requirements.txt']\n"
     ]
    }
   ],
   "source": [
    "import glob\n",
    "print(glob.glob(\"*.tx?\"))"
   ]
  },
  {
   "cell_type": "markdown",
   "metadata": {},
   "source": [
    "`defaultdict` can be used to define default values for undefined keys."
   ]
  },
  {
   "cell_type": "code",
   "execution_count": 12,
   "metadata": {},
   "outputs": [
    {
     "name": "stdout",
     "output_type": "stream",
     "text": [
      "{'a': 3, 'b': 2, 'c': 2, 'd': 2}\n"
     ]
    }
   ],
   "source": [
    "# without defaultdict\n",
    "counts = {}\n",
    "for letter in \"abcdabcda\":\n",
    "    if letter not in counts.keys():\n",
    "        counts[letter] = 0\n",
    "    counts[letter] += 1\n",
    "    \n",
    "print(counts)"
   ]
  },
  {
   "cell_type": "code",
   "execution_count": 22,
   "metadata": {},
   "outputs": [
    {
     "name": "stdout",
     "output_type": "stream",
     "text": [
      "0\n",
      "defaultdict(<class 'int'>, {3: 0})\n"
     ]
    }
   ],
   "source": [
    "from collections import defaultdict\n",
    "\n",
    "dd = defaultdict(int)\n",
    "print(dd[3])  # creates \"0\" entry for unknown key\n",
    "print(dd)     # now you see the entry "
   ]
  },
  {
   "cell_type": "code",
   "execution_count": 13,
   "metadata": {},
   "outputs": [
    {
     "name": "stdout",
     "output_type": "stream",
     "text": [
      "defaultdict(<class 'int'>, {'a': 3, 'b': 2, 'c': 2, 'd': 2})\n"
     ]
    }
   ],
   "source": [
    "counts = defaultdict(int)\n",
    "for letter in \"abcdabcda\":\n",
    "    counts[letter] += 1\n",
    "    \n",
    "print(counts)"
   ]
  },
  {
   "cell_type": "markdown",
   "metadata": {},
   "source": [
    "The argument of `defaultdict` is a function, which returns the default value:"
   ]
  },
  {
   "cell_type": "code",
   "execution_count": 14,
   "metadata": {},
   "outputs": [
    {
     "name": "stdout",
     "output_type": "stream",
     "text": [
      "0\n"
     ]
    }
   ],
   "source": [
    "# for defaultdict(int):\n",
    "print(int())"
   ]
  },
  {
   "cell_type": "code",
   "execution_count": 23,
   "metadata": {},
   "outputs": [
    {
     "name": "stdout",
     "output_type": "stream",
     "text": [
      "[]\n"
     ]
    }
   ],
   "source": [
    "dd = defaultdict(list)\n",
    "print(dd[0])"
   ]
  },
  {
   "cell_type": "code",
   "execution_count": 24,
   "metadata": {},
   "outputs": [
    {
     "name": "stdout",
     "output_type": "stream",
     "text": [
      "0 0.5306118160044974\n",
      "1 0.27278478920589166\n",
      "2 0.12325868154686914\n",
      "3 0.7767983744253266\n",
      "4 0.9034008545348685\n",
      "defaultdict(<built-in method random of Random object at 0x7fb602862e18>, {0: 0.5306118160044974, 1: 0.27278478920589166, 2: 0.12325868154686914, 3: 0.7767983744253266, 4: 0.9034008545348685})\n"
     ]
    }
   ],
   "source": [
    "# just for fun, quite useless\n",
    "\n",
    "import random\n",
    "\n",
    "dd = defaultdict(random.random)\n",
    "\n",
    "for i in range(5):\n",
    "    print(i, dd[i])\n",
    "\n",
    "print(dd)"
   ]
  },
  {
   "cell_type": "markdown",
   "metadata": {},
   "source": [
    "## String formatting"
   ]
  },
  {
   "cell_type": "markdown",
   "metadata": {},
   "source": [
    "To fill in place holders in a string by given values we can use the `.format` method of strings. The simples form of a place holder is `{}`:"
   ]
  },
  {
   "cell_type": "code",
   "execution_count": 29,
   "metadata": {},
   "outputs": [
    {
     "name": "stdout",
     "output_type": "stream",
     "text": [
      "1 + 2 = 3\n"
     ]
    }
   ],
   "source": [
    "print(\"{} + {} = {}\".format(1, 2, 3))"
   ]
  },
  {
   "cell_type": "markdown",
   "metadata": {},
   "source": [
    "We can instruct formatting like this: `:e` is scientific notation, `:f` for floats and `:d` for integer numbers:"
   ]
  },
  {
   "cell_type": "code",
   "execution_count": 31,
   "metadata": {},
   "outputs": [
    {
     "name": "stdout",
     "output_type": "stream",
     "text": [
      "1.000000e+00 + 2.000000 = 3\n"
     ]
    }
   ],
   "source": [
    "print(\"{:e} + {:f} = {:d}\".format(1, 2, 3))"
   ]
  },
  {
   "cell_type": "markdown",
   "metadata": {},
   "source": [
    "The specification for such format instructions is quite complex, see https://mkaz.tech/code/python-string-format-cookbook/\n",
    "\n",
    "A few more examples: `+` indicates to print always the sign, `.2` means two numbers after the decimal point, and `7` means \"at least 7 characters\":"
   ]
  },
  {
   "cell_type": "code",
   "execution_count": 28,
   "metadata": {},
   "outputs": [
    {
     "name": "stdout",
     "output_type": "stream",
     "text": [
      "+1.000000e+00 + 2.00 =       3\n"
     ]
    }
   ],
   "source": [
    "print(\"{:+e} + {:.2f} = {:7d}\".format(1, 2, 3))"
   ]
  },
  {
   "cell_type": "markdown",
   "metadata": {},
   "source": [
    "You can also use different order when substituting the \"template\":"
   ]
  },
  {
   "cell_type": "code",
   "execution_count": 32,
   "metadata": {},
   "outputs": [
    {
     "name": "stdout",
     "output_type": "stream",
     "text": [
      "3 = 1 + 2\n"
     ]
    }
   ],
   "source": [
    "print(\"{2} = {0} + {1}\".format(1, 2, 3))"
   ]
  },
  {
   "cell_type": "code",
   "execution_count": 33,
   "metadata": {},
   "outputs": [
    {
     "name": "stdout",
     "output_type": "stream",
     "text": [
      "3 = 1 + 2\n"
     ]
    }
   ],
   "source": [
    "print(\"{c} = {a} + {b}\".format(a=1, b=2, c=3))"
   ]
  },
  {
   "cell_type": "markdown",
   "metadata": {},
   "source": [
    "And mixed : (Name or position before `:`, format specification after `:`):"
   ]
  },
  {
   "cell_type": "code",
   "execution_count": 36,
   "metadata": {},
   "outputs": [
    {
     "name": "stdout",
     "output_type": "stream",
     "text": [
      "+1.200000e+01    3.14\n",
      "+1.200000e+01    3.14\n"
     ]
    }
   ],
   "source": [
    "# field names:\n",
    "print(\"{c:+e} {b:7.2f}\".format(b=3.14141, c=12))\n",
    "\n",
    "# positions:\n",
    "print(\"{1:+e} {0:7.2f}\".format(3.14141, 12))"
   ]
  },
  {
   "cell_type": "code",
   "execution_count": 96,
   "metadata": {},
   "outputs": [
    {
     "data": {
      "text/html": [
       "<style>\n",
       "    \n",
       "    @import url('http://fonts.googleapis.com/css?family=Source+Code+Pro');\n",
       "    \n",
       "    @import url('http://fonts.googleapis.com/css?family=Kameron');\n",
       "    @import url('http://fonts.googleapis.com/css?family=Crimson+Text');\n",
       "    \n",
       "    @import url('http://fonts.googleapis.com/css?family=Lato');\n",
       "    @import url('http://fonts.googleapis.com/css?family=Source+Sans+Pro');\n",
       "    \n",
       "    @import url('http://fonts.googleapis.com/css?family=Lora'); \n",
       "\n",
       "    \n",
       "    body {\n",
       "        font-family: 'Lora', Consolas, sans-serif;\n",
       "      \n",
       "    }\n",
       "    .rendered_html code\n",
       "    {\n",
       "        color: black;\n",
       "        background: #eaf0ff;\n",
       "        padding: 1pt;\n",
       "        font-family:  'Source Code Pro', Consolas, monocco, monospace;\n",
       "    }\n",
       "    \n",
       "    .CodeMirror pre {\n",
       "    font-family: 'Source Code Pro', monocco, Consolas, monocco, monospace;\n",
       "    }\n",
       "    \n",
       "    .cm-s-ipython span.cm-keyword {\n",
       "        font-weight: normal;\n",
       "     }\n",
       "     \n",
       "     strong {\n",
       "         background: #ffe7e7;\n",
       "         padding: 1pt;\n",
       "     }\n",
       "     \n",
       "    \n",
       "    div #notebook {\n",
       "        # font-size: 10pt; \n",
       "        line-height: 145%;\n",
       "        }\n",
       "        \n",
       "    li {\n",
       "        line-heigt: 145%;\n",
       "    }\n",
       "\n",
       "    div.output_area pre {\n",
       "        background: #fffdf0;\n",
       "        padding: 3pt;\n",
       "    }\n",
       "    h1, h2, h3, h4 {\n",
       "        font-family: Kameron, arial;\n",
       "    }\n",
       "    \n",
       "    div#maintoolbar {display: none !important;}\n",
       "    </style>"
      ],
      "text/plain": [
       "<IPython.core.display.HTML object>"
      ]
     },
     "execution_count": 96,
     "metadata": {},
     "output_type": "execute_result"
    }
   ],
   "source": [
    "#REMOVEBEGIN\n",
    "# THE LINES BELOW ARE JUST FOR FORMATTING THE INSTRUCTIONS ABOVE !\n",
    "from IPython import utils, paths\n",
    "from IPython.core.display import HTML\n",
    "import os\n",
    "def css_styling():\n",
    "    \"\"\"Load default custom.css file from ipython profile\"\"\"\n",
    "    # base = utils.path.get_ipython_dir()\n",
    "    base = paths.get_ipython_dir()\n",
    "    styles = \"\"\"<style>\n",
    "    \n",
    "    @import url('http://fonts.googleapis.com/css?family=Source+Code+Pro');\n",
    "    \n",
    "    @import url('http://fonts.googleapis.com/css?family=Kameron');\n",
    "    @import url('http://fonts.googleapis.com/css?family=Crimson+Text');\n",
    "    \n",
    "    @import url('http://fonts.googleapis.com/css?family=Lato');\n",
    "    @import url('http://fonts.googleapis.com/css?family=Source+Sans+Pro');\n",
    "    \n",
    "    @import url('http://fonts.googleapis.com/css?family=Lora'); \n",
    "\n",
    "    \n",
    "    body {\n",
    "        font-family: 'Lora', Consolas, sans-serif;\n",
    "      \n",
    "    }\n",
    "    .rendered_html code\n",
    "    {\n",
    "        color: black;\n",
    "        background: #eaf0ff;\n",
    "        padding: 1pt;\n",
    "        font-family:  'Source Code Pro', Consolas, monocco, monospace;\n",
    "    }\n",
    "    \n",
    "    .CodeMirror pre {\n",
    "    font-family: 'Source Code Pro', monocco, Consolas, monocco, monospace;\n",
    "    }\n",
    "    \n",
    "    .cm-s-ipython span.cm-keyword {\n",
    "        font-weight: normal;\n",
    "     }\n",
    "     \n",
    "     strong {\n",
    "         background: #ffe7e7;\n",
    "         padding: 1pt;\n",
    "     }\n",
    "     \n",
    "    \n",
    "    div #notebook {\n",
    "        # font-size: 10pt; \n",
    "        line-height: 145%;\n",
    "        }\n",
    "        \n",
    "    li {\n",
    "        line-heigt: 145%;\n",
    "    }\n",
    "\n",
    "    div.output_area pre {\n",
    "        background: #fffdf0;\n",
    "        padding: 3pt;\n",
    "    }\n",
    "    h1, h2, h3, h4 {\n",
    "        font-family: Kameron, arial;\n",
    "    }\n",
    "    \n",
    "    div#maintoolbar {display: none !important;}\n",
    "    </style>\"\"\"\n",
    "    return HTML(styles)\n",
    "css_styling()\n",
    "#REMOVEEND"
   ]
  },
  {
   "cell_type": "code",
   "execution_count": null,
   "metadata": {},
   "outputs": [],
   "source": []
  }
 ],
 "metadata": {
  "kernelspec": {
   "display_name": "Python 3",
   "language": "python",
   "name": "python3"
  },
  "language_info": {
   "codemirror_mode": {
    "name": "ipython",
    "version": 3
   },
   "file_extension": ".py",
   "mimetype": "text/x-python",
   "name": "python",
   "nbconvert_exporter": "python",
   "pygments_lexer": "ipython3",
   "version": "3.6.0"
  }
 },
 "nbformat": 4,
 "nbformat_minor": 2
}
