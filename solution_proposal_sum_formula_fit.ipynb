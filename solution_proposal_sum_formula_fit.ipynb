{
 "cells": [
  {
   "cell_type": "markdown",
   "metadata": {},
   "source": [
    "# Solution using lists"
   ]
  },
  {
   "cell_type": "code",
   "execution_count": 1,
   "metadata": {},
   "outputs": [
    {
     "name": "stdout",
     "output_type": "stream",
     "text": [
      "0 0 0 \n",
      "0 0 1 H\n",
      "0 0 2 H2\n",
      "0 1 0 O\n",
      "0 1 1 HO\n",
      "0 1 2 H2O\n",
      "0 2 0 O2\n",
      "0 2 1 HO2\n",
      "0 2 2 H2O2\n",
      "1 0 0 C\n",
      "1 0 1 CH\n",
      "1 0 2 CH2\n",
      "1 1 0 CO\n",
      "1 1 1 CHO\n",
      "1 1 2 CH2O\n",
      "1 2 0 CO2\n",
      "1 2 1 CHO2\n",
      "1 2 2 CH2O2\n",
      "2 0 0 C2\n",
      "2 0 1 C2H\n",
      "2 0 2 C2H2\n",
      "2 1 0 C2O\n",
      "2 1 1 C2HO\n",
      "2 1 2 C2H2O\n",
      "2 2 0 C2O2\n",
      "2 2 1 C2HO2\n",
      "2 2 2 C2H2O2\n"
     ]
    }
   ],
   "source": [
    "\"\"\"\n",
    "helper functions for nice formatting of mass formulas.\n",
    "\n",
    "I tried to come up with small functions and to avoid\n",
    "code duplication\n",
    "\"\"\"\n",
    "\n",
    "def format_one(letter, count):\n",
    "    \"\"\" (H, 0) -> \"\",\n",
    "        (H, 1) -> \"H\",\n",
    "        (H, 2) -> \"H2\"\n",
    "    \"\"\"\n",
    "    if count == 0:\n",
    "        return \"\"\n",
    "    elif count == 1:\n",
    "        return letter\n",
    "    else:\n",
    "        return letter + str(count)\n",
    "\n",
    "    \n",
    "def format_mf(ci, hi, oi):\n",
    "    \"\"\"builds a prettified mass formula for ci C atoms + hi H atoms + oi O atoms\n",
    "    \n",
    "    input: ci is count of \"C\" atoms\n",
    "           hi is count of \"H\" atoms\n",
    "           oi is count of \"O\" atoms\n",
    "\n",
    "    return: nicely formatted molecular sum formula\n",
    "    \"\"\"\n",
    "    \n",
    "    # we call such checks also \"defensive programming\":\n",
    "    assert ci >= 0\n",
    "    assert hi >= 0\n",
    "    assert oi >= 0\n",
    "    return format_one(\"C\", ci) + format_one(\"H\", hi) + format_one(\"O\", oi)\n",
    "\n",
    "\n",
    "def format_mf_2(ci, hi, oi):\n",
    "    \"\"\"alternative implementation based on an idea from course attendee\"\"\"\n",
    "    mf = \"C{}\".format(ci) + \"H{}\".format(hi) + \"O{}\".format(oi)\n",
    "    mf = mf.replace(\"C0\", \"\").replace(\"C1\", \"C\")\n",
    "    mf = mf.replace(\"H0\", \"\").replace(\"H1\", \"H\")\n",
    "    mf = mf.replace(\"O0\", \"\").replace(\"O1\", \"O\")\n",
    "    return mf \n",
    "\n",
    "for ci in (0, 1, 2):\n",
    "    for hi in (0, 1, 2):\n",
    "        for oi in (0, 1, 2):\n",
    "            print(ci, hi, oi, format_mf_2(ci, oi, hi))"
   ]
  },
  {
   "cell_type": "code",
   "execution_count": 2,
   "metadata": {},
   "outputs": [
    {
     "name": "stdout",
     "output_type": "stream",
     "text": [
      "H4O6            100.000790\n",
      "CH8O5           100.037175\n",
      "C2H12O4         100.073560\n",
      "C4H4O3          100.016045\n",
      "C5H8O2          100.052430\n",
      "C6H12O          100.088815\n",
      "C8H4            100.031300\n"
     ]
    }
   ],
   "source": [
    "def formulas_in_range(mz_min, mz_max):\n",
    "    \"\"\"simple optimizations for upper bounds\"\"\"\n",
    "\n",
    "    assert mz_min > 0\n",
    "    assert mz_min <= mz_max\n",
    "    \n",
    "    mass_C = 12.0\n",
    "    mass_H = 1.0078250319\n",
    "    mass_O = 15.994915\n",
    "    \n",
    "    c_max = int(mz_max / mass_C)\n",
    "    \n",
    "    result= []\n",
    "    \n",
    "    for ci in range(c_max + 1):\n",
    "   \n",
    "        h_max = int(mz_max / mass_H)\n",
    "        for hi in range(h_max + 1):\n",
    "        \n",
    "            o_max = int(mz_max / mass_O)\n",
    "            for oi in range(o_max + 1):\n",
    "            \n",
    "                mass = ci * mass_C + hi * mass_H + oi * mass_O\n",
    "                \n",
    "                if mz_min <= mass <= mz_max:\n",
    "                    result.append((mass, ci, hi, oi))\n",
    "    return result\n",
    "\n",
    "\n",
    "for mass, ci, hi, ho in formulas_in_range(100, 100.1):\n",
    "    mf = format_mf(ci, hi, ho)\n",
    "    print(\"{:15s} {:f}\".format(mf, mass))"
   ]
  },
  {
   "cell_type": "markdown",
   "metadata": {},
   "source": [
    "Some extra checks for the upper bound computations:"
   ]
  },
  {
   "cell_type": "code",
   "execution_count": 3,
   "metadata": {},
   "outputs": [
    {
     "name": "stdout",
     "output_type": "stream",
     "text": [
      "[(1.0078250319, 0, 1, 0)]\n",
      "[(12.0, 1, 0, 0)]\n",
      "[(15.994915, 0, 0, 1)]\n"
     ]
    }
   ],
   "source": [
    "mass_C = 12.0\n",
    "mass_H = 1.0078250319\n",
    "mass_O = 15.994915\n",
    "\n",
    "\n",
    "print(formulas_in_range(mass_H, mass_H))\n",
    "print(formulas_in_range(mass_C, mass_C))\n",
    "print(formulas_in_range(mass_O, mass_O))"
   ]
  },
  {
   "cell_type": "markdown",
   "metadata": {},
   "source": [
    "## Generators in Python\n",
    "\n",
    "We reimplement our solution using a so called generator. A generator looks like a function, but the body of the function contains at least one `yield` statement.\n",
    "\n",
    "This generators allow implementing your own iterators. You remember iterators ?"
   ]
  },
  {
   "cell_type": "code",
   "execution_count": 4,
   "metadata": {},
   "outputs": [
    {
     "name": "stdout",
     "output_type": "stream",
     "text": [
      "0 1 2 3 \n",
      "a, b, c, d, \n",
      "u; v; w; "
     ]
    }
   ],
   "source": [
    "# range returns an iterator\n",
    "for i in range(4):\n",
    "    print(i, end=\" \")\n",
    "print()\n",
    "\n",
    "# strings are iterators\n",
    "for c in \"abcd\":\n",
    "    print(c, end=\", \")\n",
    "print()    \n",
    "\n",
    "# lists also\n",
    "for x in [\"u\", \"v\", \"w\"]:\n",
    "    print(x, end=\"; \")\n",
    "    \n",
    "# and dicts (iterates over keys), tuples, file handles, etc...."
   ]
  },
  {
   "cell_type": "markdown",
   "metadata": {},
   "source": [
    "Here we implement a generator which yields values 1, 2, 3 when used as an iterator."
   ]
  },
  {
   "cell_type": "code",
   "execution_count": 5,
   "metadata": {},
   "outputs": [
    {
     "name": "stdout",
     "output_type": "stream",
     "text": [
      "1 2 3 "
     ]
    }
   ],
   "source": [
    "def example_gen():\n",
    "    yield 1\n",
    "    yield 2\n",
    "    yield 3\n",
    "\n",
    "for i in example_gen():  # () needed !\n",
    "    print(i, end=\" \")"
   ]
  },
  {
   "cell_type": "markdown",
   "metadata": {},
   "source": [
    "If we create the iterator calling `my_gen()` no code in the body of this generator is executed. Every iteration executes code until the next `yield` and the value after `yield` is \"returned\" to the loop using the generator:"
   ]
  },
  {
   "cell_type": "code",
   "execution_count": 6,
   "metadata": {},
   "outputs": [
    {
     "name": "stdout",
     "output_type": "stream",
     "text": [
      "top level after calling my_gen()\n",
      "  >> this is my_gen, execution begins\n",
      "top level: 1\n",
      "  >> this is my_gen after yield 1\n",
      "top level: 2\n",
      "  >> this is my_gen after yield 2\n"
     ]
    }
   ],
   "source": [
    "def my_gen():\n",
    "    print(\"  >> this is my_gen, execution begins\")\n",
    "    yield 1\n",
    "    print(\"  >> this is my_gen after yield 1\")\n",
    "    yield 2\n",
    "    print(\"  >> this is my_gen after yield 2\")\n",
    "\n",
    "# look at the output below and match the lines to\n",
    "# the code.\n",
    "\n",
    "# only construction, no execution of the body:\n",
    "generator = my_gen()\n",
    "print(\"top level after calling my_gen()\")\n",
    "\n",
    "for element in generator:\n",
    "    print(\"top level:\", element)"
   ]
  },
  {
   "cell_type": "markdown",
   "metadata": {},
   "source": [
    "Generators are special cases of iterators, so we can also pass them to `list`, `set`, ...:"
   ]
  },
  {
   "cell_type": "code",
   "execution_count": 7,
   "metadata": {},
   "outputs": [
    {
     "name": "stdout",
     "output_type": "stream",
     "text": [
      "  >> this is my_gen, execution begins\n",
      "  >> this is my_gen after yield 1\n",
      "  >> this is my_gen after yield 2\n",
      "[1, 2]\n"
     ]
    }
   ],
   "source": [
    "print(list(my_gen()))"
   ]
  },
  {
   "cell_type": "code",
   "execution_count": 8,
   "metadata": {},
   "outputs": [
    {
     "name": "stdout",
     "output_type": "stream",
     "text": [
      "  >> this is my_gen, execution begins\n",
      "  >> this is my_gen after yield 1\n",
      "  >> this is my_gen after yield 2\n",
      "{1, 2}\n"
     ]
    }
   ],
   "source": [
    "print(set(my_gen()))"
   ]
  },
  {
   "cell_type": "code",
   "execution_count": 9,
   "metadata": {},
   "outputs": [
    {
     "name": "stdout",
     "output_type": "stream",
     "text": [
      "  >> this is my_gen, execution begins\n",
      "0 1\n",
      "  >> this is my_gen after yield 1\n",
      "1 2\n",
      "  >> this is my_gen after yield 2\n"
     ]
    }
   ],
   "source": [
    "for (i, v) in enumerate(my_gen()):\n",
    "    print(i, v)"
   ]
  },
  {
   "cell_type": "markdown",
   "metadata": {},
   "source": [
    "So we can reimplement the built-in `enumerate` method like this:"
   ]
  },
  {
   "cell_type": "code",
   "execution_count": 10,
   "metadata": {},
   "outputs": [
    {
     "name": "stdout",
     "output_type": "stream",
     "text": [
      "0 a\n",
      "1 b\n",
      "\n",
      "0 0\n",
      "1 1\n",
      "\n",
      "0 b\n",
      "1 c\n"
     ]
    }
   ],
   "source": [
    "def my_enumerator(iterator):\n",
    "    i = 0\n",
    "    for value in iterator:\n",
    "        yield (i, value)\n",
    "        i += 1\n",
    "        \n",
    "for i, v in my_enumerator(\"ab\"):\n",
    "    print(i, v)\n",
    "\n",
    "print()\n",
    "for i, v in my_enumerator(range(2)):\n",
    "    print(i, v)\n",
    "\n",
    "print()\n",
    "for i, v in my_enumerator([\"b\", \"c\"]):\n",
    "    print(i, v)   "
   ]
  },
  {
   "cell_type": "markdown",
   "metadata": {},
   "source": [
    "## Why generators ?\n",
    "\n",
    "- only compute the values \"on demand\" and process them as delivered without building a possibly huge list\n",
    "- example: many aggregations as min or max computations don't need the full list of values, a \"stream\" of values is enough\n",
    "- splitting a data processing pipeline by nesting generators can be very efficient in terms of memory."
   ]
  },
  {
   "cell_type": "markdown",
   "metadata": {},
   "source": [
    "## Now the improved solution"
   ]
  },
  {
   "cell_type": "code",
   "execution_count": 11,
   "metadata": {},
   "outputs": [
    {
     "name": "stdout",
     "output_type": "stream",
     "text": [
      "H4O6            100.000790\n",
      "CH8O5           100.037175\n",
      "C2H12O4         100.073560\n",
      "C4H4O3          100.016045\n",
      "C5H8O2          100.052430\n",
      "C6H12O          100.088815\n",
      "C8H4            100.031300\n"
     ]
    }
   ],
   "source": [
    "def formulas_in_range(mz_min, mz_max):\n",
    "    \"\"\"simple optimizations for upper bounds\"\"\"\n",
    "\n",
    "    assert mz_min > 0\n",
    "    assert mz_min <= mz_max\n",
    "    \n",
    "    mass_C = 12.0\n",
    "    mass_H = 1.0078250319\n",
    "    mass_O = 15.994915\n",
    "    \n",
    "    c_max = int(mz_max / mass_C)\n",
    "    \n",
    "    for ci in range(c_max + 1):\n",
    "   \n",
    "        h_max = int(mz_max / mass_H) \n",
    "        for hi in range(h_max + 1):\n",
    "        \n",
    "            o_max = int(mz_max / mass_O)\n",
    "            for oi in range(o_max + 1):\n",
    "            \n",
    "                mass = ci * mass_C + hi * mass_H + oi * mass_O\n",
    "                \n",
    "                if mz_min <= mass <= mz_max:\n",
    "                    yield mass, ci, hi, oi\n",
    "                    \n",
    "\n",
    "for mass, ci, hi, oi in formulas_in_range(100, 100.1):\n",
    "    mf = format_mf(ci, hi, oi)\n",
    "    print(\"{:15s} {:f}\".format(mf, mass))"
   ]
  },
  {
   "cell_type": "code",
   "execution_count": 12,
   "metadata": {},
   "outputs": [
    {
     "name": "stdout",
     "output_type": "stream",
     "text": [
      "[(1.0078250319, 0, 1, 0)]\n",
      "[(12.0, 1, 0, 0)]\n",
      "[(15.994915, 0, 0, 1)]\n"
     ]
    }
   ],
   "source": [
    "# same checks as above\n",
    "\n",
    "mass_C = 12.0\n",
    "mass_H = 1.0078250319\n",
    "mass_O = 15.994915\n",
    "\n",
    "\n",
    "print(list(formulas_in_range(mass_H, mass_H)))\n",
    "print(list(formulas_in_range(mass_C, mass_C)))\n",
    "print(list(formulas_in_range(mass_O, mass_O)))"
   ]
  },
  {
   "cell_type": "code",
   "execution_count": 13,
   "metadata": {
    "scrolled": false
   },
   "outputs": [
    {
     "name": "stdout",
     "output_type": "stream",
     "text": [
      "H4O6            100.000790\n",
      "CH8O5           100.037175\n",
      "C2H12O4         100.073560\n",
      "C4H4O3          100.016045\n",
      "C5H8O2          100.052430\n",
      "C6H12O          100.088815\n",
      "C8H4            100.031300\n"
     ]
    }
   ],
   "source": [
    "def formulas_in_range_optimized(mz_min, mz_max):\n",
    "    \"\"\" better optimization for upper bounds and for \n",
    "    lower bound of most inner loop\"\"\"\n",
    "    \n",
    "    assert mz_min > 0\n",
    "    assert mz_min <= mz_max \n",
    "    \n",
    "    mass_C = 12.0\n",
    "    mass_H = 1.0078250319\n",
    "    mass_O = 15.994915\n",
    "    \n",
    "    c_max = int(mz_max / mass_C)\n",
    "    \n",
    "    for ci in range(c_max + 1):\n",
    "        \n",
    "        mass_explained_c = mass_C * ci\n",
    "        h_max = int((mz_max - mass_explained_c) / mass_H)\n",
    "       \n",
    "        for hi in range(h_max + 1):\n",
    "            \n",
    "            mass_explained_ch = mass_explained_c + hi * mass_H\n",
    "            o_max = int((mz_max - mass_explained_ch) / mass_O)\n",
    "            o_min = int((mz_min - mass_explained_ch) / mass_O)\n",
    "           \n",
    "            for oi in range(o_min, o_max + 1):\n",
    "                \n",
    "                mass = mass_explained_ch + oi * mass_O\n",
    "                \n",
    "                if mz_min <= mass <= mz_max:\n",
    "                    yield mass, ci, hi, oi\n",
    "\n",
    "\n",
    "for mass, ci, hi, oi in formulas_in_range(100, 100.1):\n",
    "    mf = format_mf(ci, hi, oi)\n",
    "    print(\"{:15s} {:f}\".format(mf, mass))"
   ]
  },
  {
   "cell_type": "code",
   "execution_count": 14,
   "metadata": {},
   "outputs": [
    {
     "name": "stdout",
     "output_type": "stream",
     "text": [
      "[(1.0078250319, 0, 1, 0)]\n",
      "[(12.0, 1, 0, 0)]\n",
      "[(15.994915, 0, 0, 1)]\n"
     ]
    }
   ],
   "source": [
    "# same checks as above\n",
    "\n",
    "mass_C = 12.0\n",
    "mass_H = 1.0078250319\n",
    "mass_O = 15.994915\n",
    "\n",
    "\n",
    "print(list(formulas_in_range_optimized(mass_H, mass_H)))\n",
    "print(list(formulas_in_range_optimized(mass_C, mass_C)))\n",
    "print(list(formulas_in_range_optimized(mass_O, mass_O)))"
   ]
  },
  {
   "cell_type": "markdown",
   "metadata": {},
   "source": [
    "## Some benchmarks\n",
    "\n"
   ]
  },
  {
   "cell_type": "code",
   "execution_count": 15,
   "metadata": {},
   "outputs": [
    {
     "name": "stdout",
     "output_type": "stream",
     "text": [
      "seconds since 1st jan 1970 is 1510231965.14184\n",
      "sleep needed 1.200575828552246 seconds\n"
     ]
    }
   ],
   "source": [
    "# quick demo time module:\n",
    "\n",
    "import time\n",
    "print(\"seconds since 1st jan 1970 is\", time.time())\n",
    "\n",
    "started = time.time()\n",
    "time.sleep(1.2)\n",
    "print(\"sleep needed {} seconds\".format(time.time() - started))"
   ]
  },
  {
   "cell_type": "markdown",
   "metadata": {},
   "source": [
    "We run the function multiple times for multiple mz bounds. For proper measurement we use median of multiple time measurements to compensate the influence of background computations on your machine.\n",
    "\n",
    "Exercise: also compute the std deviations !"
   ]
  },
  {
   "cell_type": "code",
   "execution_count": 16,
   "metadata": {},
   "outputs": [
    {
     "name": "stdout",
     "output_type": "stream",
     "text": [
      "found 7 formulas in range 100..100.1\n",
      "naive method needs 2.21e-03 seconds, optimized needs 4.66e-04 seconds\n",
      "speed up is 4.74\n",
      "\n",
      "found 34 formulas in range 100..101\n",
      "naive method needs 2.78e-03 seconds, optimized needs 4.79e-04 seconds\n",
      "speed up is 5.81\n",
      "\n",
      "found 685 formulas in range 500..501\n",
      "naive method needs 1.93e-01 seconds, optimized needs 1.09e-02 seconds\n",
      "speed up is 17.74\n",
      "\n",
      "found 285 formulas in range 1000..1000.1\n",
      "naive method needs 1.41e+00 seconds, optimized needs 4.22e-02 seconds\n",
      "speed up is 33.40\n",
      "\n",
      "found 2665 formulas in range 1000..1001\n",
      "naive method needs 1.46e+00 seconds, optimized needs 4.30e-02 seconds\n",
      "speed up is 33.91\n",
      "\n"
     ]
    }
   ],
   "source": [
    "# compare methods\n",
    "\n",
    "import time\n",
    "\n",
    "# since Python 3.4, see https://docs.python.org/3/library/statistics.html:\n",
    "import statistics\n",
    "\n",
    "\n",
    "def measure_time(mf_generator, mz_min, mz_max, n_runs=7):\n",
    "    \"\"\"this function helps us to avoid code\n",
    "    duplication for benchmarking different generators\"\"\"\n",
    "    \n",
    "    times = []\n",
    "    for __ in range(n_runs):\n",
    "        started = time.time()\n",
    "        \n",
    "        # we must use list here to exhaust the generator !\n",
    "        result = list(mf_generator(mz_min, mz_max))\n",
    "        \n",
    "        needed = time.time() - started\n",
    "        times.append(needed)\n",
    "    \n",
    "    return len(result), statistics.median(times)\n",
    "\n",
    "\n",
    "for mz_min, mz_max in [(100, 100.1), (100, 101), (500, 501), (1000, 1000.1), (1000, 1001)]:\n",
    "\n",
    "    n_naive, t_naive = measure_time(formulas_in_range, mz_min, mz_max)\n",
    "    n_optimized, t_optimized = measure_time(formulas_in_range_optimized, mz_min, mz_max)\n",
    "    \n",
    "    # another defensive check to be sure that our optimization did not discard \n",
    "    # results:\n",
    "    assert n_naive == n_optimized\n",
    "    \n",
    "    print(\"found {} formulas in range {}..{}\".format(n_naive, mz_min, mz_max))\n",
    "    print(\"naive method needs {:.2e} seconds, optimized needs {:.2e} seconds\".format(t_naive, t_optimized))\n",
    "    print(\"speed up is {:.2f}\".format(t_naive / t_optimized))\n",
    "    print()"
   ]
  },
  {
   "cell_type": "code",
   "execution_count": 17,
   "metadata": {
    "scrolled": true
   },
   "outputs": [
    {
     "data": {
      "text/html": [
       "<style>\n",
       "    \n",
       "    @import url('http://fonts.googleapis.com/css?family=Source+Code+Pro');\n",
       "    \n",
       "    @import url('http://fonts.googleapis.com/css?family=Kameron');\n",
       "    @import url('http://fonts.googleapis.com/css?family=Crimson+Text');\n",
       "    \n",
       "    @import url('http://fonts.googleapis.com/css?family=Lato');\n",
       "    @import url('http://fonts.googleapis.com/css?family=Source+Sans+Pro');\n",
       "    \n",
       "    @import url('http://fonts.googleapis.com/css?family=Lora'); \n",
       "\n",
       "    \n",
       "    body {\n",
       "        font-family: 'Lora', Consolas, sans-serif;\n",
       "      \n",
       "    }\n",
       "    .rendered_html code\n",
       "    {\n",
       "        color: black;\n",
       "        background: #eaf0ff;\n",
       "        padding: 1pt;\n",
       "        font-family:  'Source Code Pro', Consolas, monocco, monospace;\n",
       "    }\n",
       "    \n",
       "    .CodeMirror pre {\n",
       "    font-family: 'Source Code Pro', monocco, Consolas, monocco, monospace;\n",
       "    }\n",
       "    \n",
       "    .cm-s-ipython span.cm-keyword {\n",
       "        font-weight: normal;\n",
       "     }\n",
       "     \n",
       "     strong {\n",
       "         background: #ffe7e7;\n",
       "         padding: 1pt;\n",
       "     }\n",
       "     \n",
       "    \n",
       "    div #notebook {\n",
       "        # font-size: 10pt; \n",
       "        line-height: 145%;\n",
       "        }\n",
       "        \n",
       "    li {\n",
       "        line-heigt: 145%;\n",
       "    }\n",
       "\n",
       "    div.output_area pre {\n",
       "        background: #fffdf0;\n",
       "        padding: 3pt;\n",
       "    }\n",
       "    h1, h2, h3, h4 {\n",
       "        font-family: Kameron, arial;\n",
       "    }\n",
       "    \n",
       "    div#maintoolbar {display: none !important;}\n",
       "    </style>"
      ],
      "text/plain": [
       "<IPython.core.display.HTML object>"
      ]
     },
     "execution_count": 17,
     "metadata": {},
     "output_type": "execute_result"
    }
   ],
   "source": [
    "#REMOVEBEGIN\n",
    "# THE LINES BELOW ARE JUST FOR FORMATTING THE INSTRUCTIONS ABOVE !\n",
    "from IPython import utils, paths\n",
    "from IPython.core.display import HTML\n",
    "import os\n",
    "def css_styling():\n",
    "    \"\"\"Load default custom.css file from ipython profile\"\"\"\n",
    "    # base = utils.path.get_ipython_dir()\n",
    "    base = paths.get_ipython_dir()\n",
    "    styles = \"\"\"<style>\n",
    "    \n",
    "    @import url('http://fonts.googleapis.com/css?family=Source+Code+Pro');\n",
    "    \n",
    "    @import url('http://fonts.googleapis.com/css?family=Kameron');\n",
    "    @import url('http://fonts.googleapis.com/css?family=Crimson+Text');\n",
    "    \n",
    "    @import url('http://fonts.googleapis.com/css?family=Lato');\n",
    "    @import url('http://fonts.googleapis.com/css?family=Source+Sans+Pro');\n",
    "    \n",
    "    @import url('http://fonts.googleapis.com/css?family=Lora'); \n",
    "\n",
    "    \n",
    "    body {\n",
    "        font-family: 'Lora', Consolas, sans-serif;\n",
    "      \n",
    "    }\n",
    "    .rendered_html code\n",
    "    {\n",
    "        color: black;\n",
    "        background: #eaf0ff;\n",
    "        padding: 1pt;\n",
    "        font-family:  'Source Code Pro', Consolas, monocco, monospace;\n",
    "    }\n",
    "    \n",
    "    .CodeMirror pre {\n",
    "    font-family: 'Source Code Pro', monocco, Consolas, monocco, monospace;\n",
    "    }\n",
    "    \n",
    "    .cm-s-ipython span.cm-keyword {\n",
    "        font-weight: normal;\n",
    "     }\n",
    "     \n",
    "     strong {\n",
    "         background: #ffe7e7;\n",
    "         padding: 1pt;\n",
    "     }\n",
    "     \n",
    "    \n",
    "    div #notebook {\n",
    "        # font-size: 10pt; \n",
    "        line-height: 145%;\n",
    "        }\n",
    "        \n",
    "    li {\n",
    "        line-heigt: 145%;\n",
    "    }\n",
    "\n",
    "    div.output_area pre {\n",
    "        background: #fffdf0;\n",
    "        padding: 3pt;\n",
    "    }\n",
    "    h1, h2, h3, h4 {\n",
    "        font-family: Kameron, arial;\n",
    "    }\n",
    "    \n",
    "    div#maintoolbar {display: none !important;}\n",
    "    </style>\"\"\"\n",
    "    return HTML(styles)\n",
    "css_styling()\n",
    "#REMOVEEND"
   ]
  }
 ],
 "metadata": {
  "kernelspec": {
   "display_name": "Python 3",
   "language": "python",
   "name": "python3"
  },
  "language_info": {
   "codemirror_mode": {
    "name": "ipython",
    "version": 3
   },
   "file_extension": ".py",
   "mimetype": "text/x-python",
   "name": "python",
   "nbconvert_exporter": "python",
   "pygments_lexer": "ipython3",
   "version": "3.6.0"
  }
 },
 "nbformat": 4,
 "nbformat_minor": 2
}
