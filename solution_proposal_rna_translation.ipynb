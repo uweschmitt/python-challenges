{
 "cells": [
  {
   "cell_type": "markdown",
   "metadata": {},
   "source": [
    "We use the `requests` library to fetch the data within Python.\n",
    "\n",
    "This command only works within \"jupyter\" which I use for the scripts. You might need to install it differently."
   ]
  },
  {
   "cell_type": "code",
   "execution_count": 1,
   "metadata": {},
   "outputs": [
    {
     "name": "stdout",
     "output_type": "stream",
     "text": [
      "Requirement already satisfied: requests in ./venv3/lib/python3.6/site-packages\n",
      "Requirement already satisfied: certifi>=2017.4.17 in ./venv3/lib/python3.6/site-packages (from requests)\n",
      "Requirement already satisfied: idna<2.7,>=2.5 in ./venv3/lib/python3.6/site-packages (from requests)\n",
      "Requirement already satisfied: chardet<3.1.0,>=3.0.2 in ./venv3/lib/python3.6/site-packages (from requests)\n",
      "Requirement already satisfied: urllib3<1.23,>=1.21.1 in ./venv3/lib/python3.6/site-packages (from requests)\n"
     ]
    }
   ],
   "source": [
    "!pip install requests"
   ]
  },
  {
   "cell_type": "code",
   "execution_count": 8,
   "metadata": {},
   "outputs": [],
   "source": [
    "import requests\n",
    "\n",
    "def fetch_data():\n",
    "    \"\"\"fetches codon table as text over internet\"\"\"\n",
    "    # verify=False to circumvent https security issues, may cause a InsecureRequestWarning.\n",
    "    data = requests.get(\"https://siscourses.ethz.ch/python_dbiol/data/codon_table.txt\", verify=False)\n",
    "    return data.text\n",
    "\n",
    "# you might see a warning if you run the following line, you can ignore this:\n",
    "# print(fetch_data()[:300])"
   ]
  },
  {
   "cell_type": "markdown",
   "metadata": {},
   "source": [
    "Below I use Pythons feature to consider empty strings as `False`. (Same for empty lists, tuples, dictionaries, sets as well as values `0`, `0.0` and `None`):"
   ]
  },
  {
   "cell_type": "code",
   "execution_count": 13,
   "metadata": {},
   "outputs": [],
   "source": [
    "def build_mapping(text):\n",
    "    \"\"\"builds the mapping rna codon -> aa symbol based on the \n",
    "    downloaded text file.\n",
    "    \n",
    "    the code is very dependend on the actual formatting of the text\"\"\"\n",
    "    \n",
    "    mapping = {}\n",
    "    lines = text.split(\"\\n\")\n",
    "    \n",
    "    for line in lines[1:]:     # skip header\n",
    "        line = line.strip()    # remove trailing \"\\n\"\n",
    "        if line:               # only consider non empty lines\n",
    "            fields = line.split(\" \")\n",
    "            # intersting data is in columns 5/6, 10/11, and so on:\n",
    "            for index in range(0, len(fields), 5):\n",
    "                mapping[fields[index]] = fields[index + 1]\n",
    "    return mapping\n",
    "\n",
    "# print(build_mapping(fetch_data()))"
   ]
  },
  {
   "cell_type": "code",
   "execution_count": 23,
   "metadata": {},
   "outputs": [],
   "source": [
    "def read_fasta(path):\n",
    "    \"\"\"reads a fasta file from the given path.\n",
    "    returns a list of tuples. the first entry of every tuple is the identifier line\n",
    "    the second entry is the actual sequence\n",
    "    \n",
    "    implementation: every time we see a status line we store the previously seen\n",
    "    sequence (if there was one).\n",
    "    \"\"\"\n",
    "    \n",
    "    sequences = []\n",
    "    last_sequence = \"\"\n",
    "    \n",
    "    with open(path, \"r\") as fh:\n",
    "        for line in fh:\n",
    "            line = line.rstrip()        # remove trailing \\n\n",
    "            if line.startswith(\">\"):\n",
    "                if last_sequence:\n",
    "                    # record what we have seen so far:\n",
    "                    sequences.append((status, last_sequence))\n",
    "                    last_sequence = \"\"\n",
    "                status = line\n",
    "            else:\n",
    "                last_sequence += line\n",
    "    \n",
    "    # don't ignore the last entry:\n",
    "    if last_sequence:\n",
    "        sequences.append((status, last_sequence))\n",
    "    return sequences\n",
    "              \n",
    "# print(read_fasta(\"rna_fake.fasta\"))[:3]"
   ]
  },
  {
   "cell_type": "code",
   "execution_count": 15,
   "metadata": {},
   "outputs": [],
   "source": [
    "def translate_rna_to_aa(rna_sequence, mapping):\n",
    "    \n",
    "    result = []\n",
    "    \n",
    "    # split sequence into codons\n",
    "    for i in range(0, len(rna_sequence), 3):\n",
    "        codon = rna_sequence[i: i + 3]\n",
    "        \n",
    "        aa = mapping.get(codon, \"*\")  # \"*\" if codon is not a key in mapping\n",
    "        result.append(aa)\n",
    "    \n",
    "    return \"\".join(result)\n",
    "\n",
    "# mapping = build_mapping(fetch_data())\n",
    "# sequence = read_fasta(\"rna_fake.fasta\")[0][1]\n",
    "# translate_rna_to_aa(sequence, mapping)"
   ]
  },
  {
   "cell_type": "markdown",
   "metadata": {},
   "source": [
    "I build the result file line by line using a list of strings. Finally the result is constructed with the `join` method of strings:"
   ]
  },
  {
   "cell_type": "code",
   "execution_count": 16,
   "metadata": {},
   "outputs": [],
   "source": [
    "def translate_fasta_file(in_path, out_path):\n",
    "    \n",
    "    mapping = build_mapping(fetch_data())\n",
    "    sequences = read_fasta(in_path)\n",
    "    \n",
    "    result_lines = []\n",
    "    for identifier, rna_sequence in sequences:\n",
    "        aa_sequence = translate_rna_to_aa(rna_sequence, mapping)\n",
    "        result_lines.append(identifier)\n",
    "        result_lines.append(aa_sequence)\n",
    "        \n",
    "    with open(out_path, \"w\") as fh:\n",
    "        fh.write(\"\\n\".join(result_lines))"
   ]
  },
  {
   "cell_type": "code",
   "execution_count": 17,
   "metadata": {},
   "outputs": [
    {
     "name": "stderr",
     "output_type": "stream",
     "text": [
      "/Users/uweschmitt/Projects/python3-course-advanced/venv3.6/lib/python3.6/site-packages/urllib3/connectionpool.py:858: InsecureRequestWarning: Unverified HTTPS request is being made. Adding certificate verification is strongly advised. See: https://urllib3.readthedocs.io/en/latest/advanced-usage.html#ssl-warnings\n",
      "  InsecureRequestWarning)\n"
     ]
    }
   ],
   "source": [
    "translate_fasta_file(\"rna_fake.fasta\", \"aa_fake.fasta\")"
   ]
  },
  {
   "cell_type": "code",
   "execution_count": 25,
   "metadata": {},
   "outputs": [
    {
     "name": "stdout",
     "output_type": "stream",
     "text": [
      ">gi|2765658|emb|Z78533.1|CIZ78533 C.irapeanum 5.8S rRNA gene and IUS1 and IUS2 RNA\r\n",
      "RNKVSVGEPAEGSLMRPWNKRSSESGGPVYSAHRGHCSRGDPDLLLGRLGSVHGGFEPLARRSLGAKPYESITGEWHCLPQNPERRRAVACPMNFDDSRKRESWLFASDGRTQRNAISGVNCKIP*TIESFERKLRPRPSG*GHACLGVALRLSPANACPAYSQAGVVRM*KIGPLCLGAAGPRAGVLMARNPARGGRMLAAAAVRIPHVVVLVGQAGEPFRTPMEGG*PPFGCDPRSGGGTR*VY*\r\n",
      ">gi|2765657|emb|Z78532.1|CCZ78532 C.californicum 5.8S rRNA gene and IUS1 and IUS2 RNA\r\n",
      "RNKVSVGEPAEGSLLRQQNI*SSESGGPVVTQLVVALLLS*PCFVVGPPQELSWQV*TLVRCSLRQVI*SITDE*HYCQKKSEGQYATEHASEFL*LSQRISWL*HR*RTQLNAISGVNCRIP*TIESLNASCARGHQAKGTPAWASCVASLLPMLAWHIAKLALYGCE*LAPCA*VRWV*GLLL*WVGMWHEVENANSHKAAI*IPHVVVFFRTYTRT*LNPNGAKITIGQLISIQMRPQVRRGHPLS*G\r\n",
      ">gi|2765656|emb|Z78531.1|CFZ78531 C.fasciculatum 5.8S rRNA gene and IUS1 and IUS2 RNA\r\n",
      "RNKVSVGEPAEGSLLRQQNIRSSESGGPVVTRLTVALLSW*TRFATGPPRELSWRV*TSSAAQFAPSHMERHRWMAFLSRKTRRGGVCCACQ*IYDDSRQRDIWLLHR*RTQRNAISGVNCRIPRTIESLNASCARGHQAKGTPAWASCAASLLIMLDWHAASLSL*GRERLAPCA*VRRV*ASVF*WPGTWQ*VEDAGSRKAAVRIPRVVVLVRPTEEPV*TPSGRKTALGR*FPFRCDPSQAGHP*V*\r\n",
      ">gi|2765655|emb|Z78530.1|CMZ78530 C.margaritaceum 5.8S rRNA gene and IUS1 and IUS2 RNA\r\n",
      "RNKVSVGEPAEGSLLKQHNKRLSESGGLVVIWLARDILLW*P*FVIGPH*ELSWRV*TSSTVQFAPRYIKNHR*MTLLPHTTSEVWCVNVHSNEF**LSADGYLDSCIDEERTEM**VV*IAESREPSSL*TQVAPEAIRLRARLPGRRMFYLSFQCLSSI*LGHHCVDVKDWPLVLRCGGSKDMCFDGLKLGKRWRMLAAARLLFESPMLSCLLGL*NNLFGP*LRQNNPWVVDFQSDATPVRGPPH\r\n",
      ">gi|2765654|emb|Z78529.1|CLZ78529 C.lichiangense 5.8S rRNA gene and IUS1 and IUS2 RNA\r\n",
      "TASCRRTLLRQQNIRLSESGGLVVIWLARDFLLW*P*FVIGPH*ELSWRV*TSSTVQFAPRYIKNHR*MTLLSKKSEVWCVIGHANELLMTLAEGYLGSCIDEESHRNVISGVNCRIP*TIESLNASCARGHQAKGTPAWASYVLSLLPMLVQHIARPSLCGCERLAPCA*VRWV*GYVF*WSETWQEVEDAGSRKAIV*IPHVVIFVGPIEQLVWTLIKAKQSLGG*FPIRCDPSQRATS*AK*\r\n"
     ]
    }
   ],
   "source": [
    "# first ten lines, only works within jupyter\n",
    "!head aa_fake.fasta"
   ]
  },
  {
   "cell_type": "markdown",
   "metadata": {},
   "source": [
    "## Solution using generators.\n",
    "\n",
    "Here comes a modified version which saves memory by not reading all sequences first. I explain generators in the proposed solution for the \"sum formla fit\" challenge. "
   ]
  },
  {
   "cell_type": "code",
   "execution_count": 19,
   "metadata": {},
   "outputs": [],
   "source": [
    "def read_fasta_generator(path):\n",
    "    \"\"\"reads a fasta file from the given path.\n",
    "    returns a list of tuples. the first entry of every tuple is the identifier line\n",
    "    the second entry is the actual sequence\n",
    "    \n",
    "    implementation: every time we see a status line we store the previously seen\n",
    "    sequence (if there was one).\n",
    "    \"\"\"\n",
    "    \n",
    "    sequences = []\n",
    "    last_sequence = \"\"\n",
    "    \n",
    "    with open(path, \"r\") as fh:\n",
    "        for line in fh:\n",
    "            line = line.rstrip()        # remove trailing \\n\n",
    "            if line.startswith(\">\"):\n",
    "                if last_sequence:\n",
    "                    # THIS LINE IS DIFFERENT TO THE PREVIOUS VERSION\n",
    "                    yield (status, last_sequence)\n",
    "                    last_sequence = \"\"\n",
    "                status = line\n",
    "            else:\n",
    "                last_sequence += line\n",
    "    \n",
    "    # don't ignore the last entry:\n",
    "    if last_sequence:\n",
    "        yield (status, last_sequence)\n",
    "\n",
    "        \n",
    "# uncomment for testing:\n",
    "#\n",
    "# for status, seq in read_fasta_generator(\"rna_fake.fasta\"):\n",
    "#    print(status)\n",
    "#    print(seq)\n",
    "#    break"
   ]
  },
  {
   "cell_type": "code",
   "execution_count": 20,
   "metadata": {},
   "outputs": [
    {
     "name": "stderr",
     "output_type": "stream",
     "text": [
      "/Users/uweschmitt/Projects/python3-course-advanced/venv3.6/lib/python3.6/site-packages/urllib3/connectionpool.py:858: InsecureRequestWarning: Unverified HTTPS request is being made. Adding certificate verification is strongly advised. See: https://urllib3.readthedocs.io/en/latest/advanced-usage.html#ssl-warnings\n",
      "  InsecureRequestWarning)\n"
     ]
    }
   ],
   "source": [
    "def translate_fasta_file_efficient(in_path, out_path):\n",
    "    \"\"\"\n",
    "    this solution avoids holding all data in memory so we\n",
    "    can process FASTA files which do not fit into memory !\n",
    "    \"\"\"\n",
    "    \n",
    "    mapping = build_mapping(fetch_data())\n",
    "    sequences = read_fasta(in_path)\n",
    "    \n",
    "    with open(out_path, \"w\") as fh:\n",
    "        for identifier, rna_sequence in read_fasta_generator(in_path):\n",
    "            aa_sequence = translate_rna_to_aa(rna_sequence, mapping)\n",
    "            print(identifier, file=fh)\n",
    "            print(aa_sequence, file=fh)\n",
    "            \n",
    "translate_fasta_file_efficient(\"rna_fake.fasta\", \"aa_fake.fasta\")"
   ]
  },
  {
   "cell_type": "code",
   "execution_count": 26,
   "metadata": {},
   "outputs": [
    {
     "name": "stdout",
     "output_type": "stream",
     "text": [
      ">gi|2765658|emb|Z78533.1|CIZ78533 C.irapeanum 5.8S rRNA gene and IUS1 and IUS2 RNA\r\n",
      "RNKVSVGEPAEGSLMRPWNKRSSESGGPVYSAHRGHCSRGDPDLLLGRLGSVHGGFEPLARRSLGAKPYESITGEWHCLPQNPERRRAVACPMNFDDSRKRESWLFASDGRTQRNAISGVNCKIP*TIESFERKLRPRPSG*GHACLGVALRLSPANACPAYSQAGVVRM*KIGPLCLGAAGPRAGVLMARNPARGGRMLAAAAVRIPHVVVLVGQAGEPFRTPMEGG*PPFGCDPRSGGGTR*VY*\r\n",
      ">gi|2765657|emb|Z78532.1|CCZ78532 C.californicum 5.8S rRNA gene and IUS1 and IUS2 RNA\r\n",
      "RNKVSVGEPAEGSLLRQQNI*SSESGGPVVTQLVVALLLS*PCFVVGPPQELSWQV*TLVRCSLRQVI*SITDE*HYCQKKSEGQYATEHASEFL*LSQRISWL*HR*RTQLNAISGVNCRIP*TIESLNASCARGHQAKGTPAWASCVASLLPMLAWHIAKLALYGCE*LAPCA*VRWV*GLLL*WVGMWHEVENANSHKAAI*IPHVVVFFRTYTRT*LNPNGAKITIGQLISIQMRPQVRRGHPLS*G\r\n",
      ">gi|2765656|emb|Z78531.1|CFZ78531 C.fasciculatum 5.8S rRNA gene and IUS1 and IUS2 RNA\r\n",
      "RNKVSVGEPAEGSLLRQQNIRSSESGGPVVTRLTVALLSW*TRFATGPPRELSWRV*TSSAAQFAPSHMERHRWMAFLSRKTRRGGVCCACQ*IYDDSRQRDIWLLHR*RTQRNAISGVNCRIPRTIESLNASCARGHQAKGTPAWASCAASLLIMLDWHAASLSL*GRERLAPCA*VRRV*ASVF*WPGTWQ*VEDAGSRKAAVRIPRVVVLVRPTEEPV*TPSGRKTALGR*FPFRCDPSQAGHP*V*\r\n",
      ">gi|2765655|emb|Z78530.1|CMZ78530 C.margaritaceum 5.8S rRNA gene and IUS1 and IUS2 RNA\r\n",
      "RNKVSVGEPAEGSLLKQHNKRLSESGGLVVIWLARDILLW*P*FVIGPH*ELSWRV*TSSTVQFAPRYIKNHR*MTLLPHTTSEVWCVNVHSNEF**LSADGYLDSCIDEERTEM**VV*IAESREPSSL*TQVAPEAIRLRARLPGRRMFYLSFQCLSSI*LGHHCVDVKDWPLVLRCGGSKDMCFDGLKLGKRWRMLAAARLLFESPMLSCLLGL*NNLFGP*LRQNNPWVVDFQSDATPVRGPPH\r\n",
      ">gi|2765654|emb|Z78529.1|CLZ78529 C.lichiangense 5.8S rRNA gene and IUS1 and IUS2 RNA\r\n",
      "TASCRRTLLRQQNIRLSESGGLVVIWLARDFLLW*P*FVIGPH*ELSWRV*TSSTVQFAPRYIKNHR*MTLLSKKSEVWCVIGHANELLMTLAEGYLGSCIDEESHRNVISGVNCRIP*TIESLNASCARGHQAKGTPAWASYVLSLLPMLVQHIARPSLCGCERLAPCA*VRWV*GYVF*WSETWQEVEDAGSRKAIV*IPHVVIFVGPIEQLVWTLIKAKQSLGG*FPIRCDPSQRATS*AK*\r\n"
     ]
    }
   ],
   "source": [
    "# first ten lines, only works within jupyter\n",
    "!head aa_fake.fasta"
   ]
  },
  {
   "cell_type": "code",
   "execution_count": 1,
   "metadata": {},
   "outputs": [
    {
     "data": {
      "text/html": [
       "<style>\n",
       "    \n",
       "    @import url('http://fonts.googleapis.com/css?family=Source+Code+Pro');\n",
       "    \n",
       "    @import url('http://fonts.googleapis.com/css?family=Kameron');\n",
       "    @import url('http://fonts.googleapis.com/css?family=Crimson+Text');\n",
       "    \n",
       "    @import url('http://fonts.googleapis.com/css?family=Lato');\n",
       "    @import url('http://fonts.googleapis.com/css?family=Source+Sans+Pro');\n",
       "    \n",
       "    @import url('http://fonts.googleapis.com/css?family=Lora'); \n",
       "\n",
       "    \n",
       "    body {\n",
       "        font-family: 'Lora', Consolas, sans-serif;\n",
       "      \n",
       "    }\n",
       "    .rendered_html code\n",
       "    {\n",
       "        color: black;\n",
       "        background: #eaf0ff;\n",
       "        padding: 1pt;\n",
       "        font-family:  'Source Code Pro', Consolas, monocco, monospace;\n",
       "    }\n",
       "    \n",
       "    .CodeMirror pre {\n",
       "    font-family: 'Source Code Pro', monocco, Consolas, monocco, monospace;\n",
       "    }\n",
       "    \n",
       "    .cm-s-ipython span.cm-keyword {\n",
       "        font-weight: normal;\n",
       "     }\n",
       "     \n",
       "     strong {\n",
       "         background: #ffe7e7;\n",
       "         padding: 1pt;\n",
       "     }\n",
       "     \n",
       "    \n",
       "    div #notebook {\n",
       "        # font-size: 10pt; \n",
       "        line-height: 145%;\n",
       "        }\n",
       "        \n",
       "    li {\n",
       "        line-heigt: 145%;\n",
       "    }\n",
       "\n",
       "    div.output_area pre {\n",
       "        background: #fffdf0;\n",
       "        padding: 3pt;\n",
       "    }\n",
       "    h1, h2, h3, h4 {\n",
       "        font-family: Kameron, arial;\n",
       "    }\n",
       "    \n",
       "    div#maintoolbar {display: none !important;}\n",
       "    </style>"
      ],
      "text/plain": [
       "<IPython.core.display.HTML object>"
      ]
     },
     "execution_count": 1,
     "metadata": {},
     "output_type": "execute_result"
    }
   ],
   "source": [
    "#REMOVEBEGIN\n",
    "# THE LINES BELOW ARE JUST FOR FORMATTING THE INSTRUCTIONS ABOVE !\n",
    "from IPython import utils, paths\n",
    "from IPython.core.display import HTML\n",
    "import os\n",
    "def css_styling():\n",
    "    \"\"\"Load default custom.css file from ipython profile\"\"\"\n",
    "    # base = utils.path.get_ipython_dir()\n",
    "    base = paths.get_ipython_dir()\n",
    "    styles = \"\"\"<style>\n",
    "    \n",
    "    @import url('http://fonts.googleapis.com/css?family=Source+Code+Pro');\n",
    "    \n",
    "    @import url('http://fonts.googleapis.com/css?family=Kameron');\n",
    "    @import url('http://fonts.googleapis.com/css?family=Crimson+Text');\n",
    "    \n",
    "    @import url('http://fonts.googleapis.com/css?family=Lato');\n",
    "    @import url('http://fonts.googleapis.com/css?family=Source+Sans+Pro');\n",
    "    \n",
    "    @import url('http://fonts.googleapis.com/css?family=Lora'); \n",
    "\n",
    "    \n",
    "    body {\n",
    "        font-family: 'Lora', Consolas, sans-serif;\n",
    "      \n",
    "    }\n",
    "    .rendered_html code\n",
    "    {\n",
    "        color: black;\n",
    "        background: #eaf0ff;\n",
    "        padding: 1pt;\n",
    "        font-family:  'Source Code Pro', Consolas, monocco, monospace;\n",
    "    }\n",
    "    \n",
    "    .CodeMirror pre {\n",
    "    font-family: 'Source Code Pro', monocco, Consolas, monocco, monospace;\n",
    "    }\n",
    "    \n",
    "    .cm-s-ipython span.cm-keyword {\n",
    "        font-weight: normal;\n",
    "     }\n",
    "     \n",
    "     strong {\n",
    "         background: #ffe7e7;\n",
    "         padding: 1pt;\n",
    "     }\n",
    "     \n",
    "    \n",
    "    div #notebook {\n",
    "        # font-size: 10pt; \n",
    "        line-height: 145%;\n",
    "        }\n",
    "        \n",
    "    li {\n",
    "        line-heigt: 145%;\n",
    "    }\n",
    "\n",
    "    div.output_area pre {\n",
    "        background: #fffdf0;\n",
    "        padding: 3pt;\n",
    "    }\n",
    "    h1, h2, h3, h4 {\n",
    "        font-family: Kameron, arial;\n",
    "    }\n",
    "    \n",
    "    div#maintoolbar {display: none !important;}\n",
    "    </style>\"\"\"\n",
    "    return HTML(styles)\n",
    "css_styling()\n",
    "#REMOVEEND"
   ]
  },
  {
   "cell_type": "code",
   "execution_count": null,
   "metadata": {},
   "outputs": [],
   "source": []
  }
 ],
 "metadata": {
  "kernelspec": {
   "display_name": "Python 3",
   "language": "python",
   "name": "python3"
  },
  "language_info": {
   "codemirror_mode": {
    "name": "ipython",
    "version": 3
   },
   "file_extension": ".py",
   "mimetype": "text/x-python",
   "name": "python",
   "nbconvert_exporter": "python",
   "pygments_lexer": "ipython3",
   "version": "3.6.0"
  }
 },
 "nbformat": 4,
 "nbformat_minor": 2
}
