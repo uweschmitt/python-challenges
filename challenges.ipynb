{
 "cells": [
  {
   "cell_type": "markdown",
   "metadata": {},
   "source": [
    "Choose the challenges in any order depending on your personal interests and skills. Solving one exercise will possibly need longer than one class !\n",
    "\n",
    "## Challenge:  RNA translation\n",
    "\n",
    "Write a script which translates a FASTA file containing RNA sequences to a FASTA file with corresponding amino \n",
    "acid sequences. \n",
    "\n",
    "Hint: \n",
    "- use http://siscourses.ethz.ch/python_dbiol/data/codon_table.txt to create a dictionary mapping codons to amino acids first. \n",
    "- then write a function which translates a RNA seq to an AA sequence.\n",
    "- then use this function to solve the overall exercise."
   ]
  },
  {
   "cell_type": "markdown",
   "metadata": {},
   "source": [
    "## Challenge: Formula generator\n",
    "\n",
    "Write a function which takes two mass values and prints all mass formulas consisting of zero or more `C`, `H` and / or `O`  where the mass is in the given range. The exact masses are: `mass_C = 12.0`, `mass_H = 1.0078250319` and `mass_O = 15.994915`.\n",
    "\n",
    "So for example for the mass range `100.0` to `100.1` the formulas `C4H4O3`, `C5H8O2`, `C6H12O` and `C8H4` are printed.\n",
    "    \n",
    "Hint: you need three nested `for` loops for this to iterate over all combinations of numbers of C, H and O. The inner code block of those loops computes the mass of the current combination and checks if this fits into the prescribed range. To minimize the numbers of iterations needed you can estimate the upper bounds of the loops from the upper limit of the mass range.\n",
    "    \n",
    "If you solved this introduce some \"pretty printing\" so that a combination `8 C, 1 H, zero O` is displayed as `C8H`.\n",
    "\n",
    "- Restrict your program to only look up carbohydrates having the general formula $C_m(H_2O)_n$. You can  either filter the results from the existing solution or implement a new version with two nested loops for `m` and `n`."
   ]
  },
  {
   "cell_type": "markdown",
   "metadata": {},
   "source": [
    "## Challenge: Column wise averages of a csv file\n",
    "\n",
    "Learn about Python exceptions first: https://siscourses.ethz.ch/python_dbiol/11_exception_handling.html\n",
    "\n",
    "Write a function which checks if a given string represents a valid floating point value using exception handling.\n",
    "\n",
    "Now write a script which computes column wise averages of a given csv file. The rows are not required to have the same length, rows can be empty also. Ignore cells with invalid numbers. The size of the sheet is not known in advance. Use the file `data.csv` from the script repository for testing.\n",
    "\n",
    "Hints:\n",
    "\n",
    "- replace invalid cell entries by zero\n",
    "- read all cells first, then fill up lines with zeros as needed\n",
    "\n",
    "Extend your csv file such that the first column contains a random word as a group indicator followed by a random number of float numbers. \n",
    "\n",
    "Now compute the column wise sum grouped by the indicator from the first column. Use `data_grouped.csv` for testing.\n",
    "\n",
    "The output should look like this:\n",
    "\n",
    "    group0     23.79  -31.97  -14.10   21.74   41.21    7.83  -27.94   43.77  -43.09\n",
    "    group1    -42.13  -23.73    0.00    0.00  -20.82  -33.25  -28.05   15.96    3.42\n",
    "    group11    55.30   46.08  -29.53    0.00    0.00   -9.38\n",
    "    group13    48.66  -12.12   26.33   26.20   46.43  -24.18  -26.00   38.97\n",
    "    group14    49.90   13.55   38.16  -45.08   21.11   80.88   19.75    0.00   -4.31\n",
    "    group15    47.08  -27.92    0.00  -17.81   26.05   10.37   45.38  -47.43   24.76\n",
    "    group16    -6.95   22.93   16.48  -10.24   -7.89    2.36    0.00  -42.02  -41.60\n",
    "    group18    37.89    9.22   -5.21   64.34 -117.40  -21.33   23.71  -26.46    9.93\n",
    "    group19     8.70  -17.52  -20.38  -37.36  -52.66   13.72   46.30   23.23 \n",
    "\n",
    "Hints:\n",
    "- Use a dictionary which maps the group identifier to a list of rows (this a list of lists)\n",
    "- For every group fill up the associated rows with zeros as needed\n",
    "\n",
    "Lookup the `glob` Python module and extend your solution to iterate over all `csv` files in a given folder. Finally create one `csv` file where the first column is the name of the respective `csv` file followed by the column wise sums."
   ]
  },
  {
   "cell_type": "markdown",
   "metadata": {},
   "source": [
    "## Challenge \"brownian motion\""
   ]
  },
  {
   "cell_type": "markdown",
   "metadata": {},
   "source": [
    "### Quick intro into Python plotting\n",
    "\n",
    "First make sure to install `matplotlib` and `numpy` if needed."
   ]
  },
  {
   "cell_type": "code",
   "execution_count": 1,
   "metadata": {},
   "outputs": [],
   "source": [
    "import numpy as np\n",
    "from matplotlib import pyplot"
   ]
  },
  {
   "cell_type": "code",
   "execution_count": 2,
   "metadata": {},
   "outputs": [
    {
     "name": "stdout",
     "output_type": "stream",
     "text": [
      "<class 'numpy.ndarray'>\n",
      "[ 0.          0.06346652  0.12693304  0.19039955  0.25386607  0.31733259\n",
      "  0.38079911  0.44426563  0.50773215  0.57119866  0.63466518  0.6981317\n",
      "  0.76159822  0.82506474  0.88853126  0.95199777  1.01546429  1.07893081\n",
      "  1.14239733  1.20586385  1.26933037  1.33279688  1.3962634   1.45972992\n",
      "  1.52319644  1.58666296  1.65012947  1.71359599  1.77706251  1.84052903\n",
      "  1.90399555  1.96746207  2.03092858  2.0943951   2.15786162  2.22132814\n",
      "  2.28479466  2.34826118  2.41172769  2.47519421  2.53866073  2.60212725\n",
      "  2.66559377  2.72906028  2.7925268   2.85599332  2.91945984  2.98292636\n",
      "  3.04639288  3.10985939  3.17332591  3.23679243  3.30025895  3.36372547\n",
      "  3.42719199  3.4906585   3.55412502  3.61759154  3.68105806  3.74452458\n",
      "  3.8079911   3.87145761  3.93492413  3.99839065  4.06185717  4.12532369\n",
      "  4.1887902   4.25225672  4.31572324  4.37918976  4.44265628  4.5061228\n",
      "  4.56958931  4.63305583  4.69652235  4.75998887  4.82345539  4.88692191\n",
      "  4.95038842  5.01385494  5.07732146  5.14078798  5.2042545   5.26772102\n",
      "  5.33118753  5.39465405  5.45812057  5.52158709  5.58505361  5.64852012\n",
      "  5.71198664  5.77545316  5.83891968  5.9023862   5.96585272  6.02931923\n",
      "  6.09278575  6.15625227  6.21971879  6.28318531]\n"
     ]
    }
   ],
   "source": [
    "x = np.linspace(0, 2* np.pi, 100)   # discretize 0 .. 2pi to 100 points\n",
    "print(type(x))\n",
    "print(x)"
   ]
  },
  {
   "cell_type": "code",
   "execution_count": 28,
   "metadata": {},
   "outputs": [
    {
     "name": "stdout",
     "output_type": "stream",
     "text": [
      "(100,)\n"
     ]
    }
   ],
   "source": [
    "print(x.shape)"
   ]
  },
  {
   "cell_type": "code",
   "execution_count": 29,
   "metadata": {},
   "outputs": [],
   "source": [
    "# apply function on vector to create a new vector:\n",
    "y1 = np.sin(x)\n",
    "\n",
    "# apply functions on vectors to create a new vector\n",
    "y2 = 0.5 * np.cos(x) + 0.5 * np.sin(2 * x)"
   ]
  },
  {
   "cell_type": "code",
   "execution_count": 30,
   "metadata": {},
   "outputs": [
    {
     "data": {
      "image/png": "[encoded data removed]",
      "text/plain": [
       "<matplotlib.figure.Figure at 0x109bc0ef0>"
      ]
     },
     "metadata": {},
     "output_type": "display_data"
    }
   ],
   "source": [
    "%matplotlib inline\n",
    "pyplot.plot(x, y1)\n",
    "pyplot.plot(x, y2, \"r:\", label=\"y2\")  # red dots, try \"r.\" and \"yo\" and \"b*\" also\n",
    "pyplot.legend()  # shows label(s) in a box\n",
    "pyplot.title(\"y1 and y2\")\n",
    "pyplot.savefig(\"y1_and_y2.png\")\n",
    "pyplot.show()"
   ]
  },
  {
   "cell_type": "code",
   "execution_count": 31,
   "metadata": {},
   "outputs": [
    {
     "data": {
      "image/png": "[encoded data removed]",
      "text/plain": [
       "<matplotlib.figure.Figure at 0x109bcda20>"
      ]
     },
     "metadata": {},
     "output_type": "display_data"
    }
   ],
   "source": [
    "pyplot.figure(figsize=(4, 4))  # quadratic plot\n",
    "\n",
    "# \"time\"\n",
    "t = np.linspace(0, 4*np.pi, 200)\n",
    "\n",
    "# radius changes over time\n",
    "r = 1 + t / 4 / np.pi   \n",
    "\n",
    "# formulas for points on a circle with radius r:\n",
    "x = r * np.cos(t)\n",
    "y = r * np.sin(t)\n",
    "\n",
    "pyplot.plot(x, y, \"g\")  # green lines\n",
    "pyplot.show()"
   ]
  },
  {
   "cell_type": "markdown",
   "metadata": {},
   "source": [
    "## Exercise"
   ]
  },
  {
   "cell_type": "markdown",
   "metadata": {},
   "source": [
    "A particle starts at position `(0, 0)`. Then it jumps randomly as follows:\n",
    "\n",
    "- it draws a random angle $\\phi$ from $0 \\ldots 2\\pi$ and a random step size $r$ from the range $0 \\ldots 1$.\n",
    "- it updates its position by doing a step of size $r$ in direction $\\phi$.\n",
    "\n",
    "Write a function which does `n` such iterations and creates two lists of `x` and `y` coordinates during these iterations.\n",
    "\n",
    "Use `matplotlib` to plot 1000 of such iterations.\n",
    "\n",
    "Use `matplitlib` to plot 10000 of such iterations, where every segment of 2000 iterations has a different color.\n",
    "\n",
    "This is an example using the colors RGBKY in this order:\n",
    "\n",
    "<img src=\"brownian.png\">"
   ]
  },
  {
   "cell_type": "markdown",
   "metadata": {},
   "source": [
    "## Challenge: Introduction to Numerical Computations\n",
    "\n",
    "These exercises assume some familiarity with basic calculus. If this is not your cup of tea skip the challenge. The exercises try to give you an idea what \"numerics\" is about.\n",
    "\n",
    "- First read how the bisection method works at https://en.wikipedia.org/wiki/Bisection_method#Iteration_tasks. Use this to find an approximation of $\\sqrt{2}$ by looking for a zero of $f(x) = x^2 - 2$.\n",
    "\n",
    "- Use the same function and https://en.wikipedia.org/wiki/Newton%27s_method (here $f'(x) = 2x$) to approximate $\\sqrt{2}$. Print a table which shows the values for the first five iterations of both methods.\n",
    "\n",
    "- First look at https://en.wikipedia.org/wiki/Monte_Carlo_method#/media/File:Pi_30K.gif. Now imagine you create a random point in the square. The probability that this point is also in the shown quadrant of the circle is the quotient of the areas of the two objects: $\\pi/4$ for the quadrant of the circle and $1$ for the square. So if you create **many** such random points the fraction of \"hits\" should approxiamte $\\pi/4$. Implement this to compute an approximation of $\\pi$ and compute the relative error. (To check such a \"hit\" use the Pythagorean theorem).\n",
    "\n",
    "- Use the first $n$ terms of https://en.wikipedia.org/wiki/Leibniz_formula_for_%CF%80 to compute an approximation of $\\pi$"
   ]
  },
  {
   "cell_type": "markdown",
   "metadata": {},
   "source": [
    "## Challenge: fit data to a given function\n",
    "\n",
    "The following snippet shows how you can determine parameters of a given function to fit to given data:"
   ]
  },
  {
   "cell_type": "code",
   "execution_count": null,
   "metadata": {
    "format": "row"
   },
   "outputs": [],
   "source": [
    "%matplotlib inline\n",
    "import numpy as np\n",
    "import scipy.optimize\n",
    "import matplotlib.pyplot as pyplot\n",
    "\n",
    "n_points = 10\n",
    "\n",
    "x_data = np.arange(n_points)\n",
    "\n",
    "# we generate artificial data by applying the function f(x) = -0.1 * x^2 + 2 * x + 1\n",
    "exact_y_data = -.1 * x_data ** 2 + 2 * x_data + 1\n",
    "\n",
    "# we add some noise with std dev 0.5:\n",
    "measured_y_data = exact_y_data + 0.5 * np.random.randn(n_points)\n",
    "\n",
    "\n",
    "def f(x, a, b, c):\n",
    "    \"\"\"\n",
    "    argument x:  vector of values\n",
    "    argument a:  first parameter to fit\n",
    "    argument b:  second parameter to fit\n",
    "    argument c:  third parameter to fit\n",
    "    \n",
    "    \n",
    "    returns:  vector of y values corresponding to parameters a and b\n",
    "    \"\"\"\n",
    "    return a * x * x + b * x + c\n",
    "\n",
    "\n",
    "# we start with the assumption a = 0, b = 0 and c = 0: \n",
    "p_start = np.array([0, 0, 0])\n",
    "\n",
    "parameters, cov_matrix = scipy.optimize.curve_fit(f, x_data, measured_y_data, p_start)\n",
    "print(parameters)\n",
    "\n",
    "pyplot.plot(x_data, exact_y_data, \"b\", label=\"exact\")\n",
    "pyplot.plot(x_data, measured_y_data, \"b*\", label=\"measured\")\n",
    "pyplot.plot(x_data, f(x_data, parameters[0], parameters[1], parameters[2]), \"green\", label=\"fitted\")\n",
    "pyplot.legend(loc=2)  # upper left corner\n",
    "pyplot.show()"
   ]
  },
  {
   "cell_type": "markdown",
   "metadata": {},
   "source": [
    "- Install numpy, scipy and matplotlib (if not done yet) and reproduce this example. Lookup documentation to understand it.\n",
    "\n",
    "Logistic growth describes the evolution of a single population in an environment of limited capacity. See https://en.wikipedia.org/wiki/Logistic_function#In_ecology:_modeling_population_growth for details.\n",
    "\n",
    "\n",
    "- Download https://siscourses.ethz.ch/python_dbiol/data/logistic_data.txt and fit the parameters $K$, $P_0$ and $r$ of the corresponding logistic function\n",
    " \n",
    "   $$P(t) = \\frac{K P_0 e^{rt}}{K + P_0 \\left( e^{rt} - 1\\right)}$$\n",
    "  \n",
    "\n",
    "- Also create the plots showing the data and the function according to the fitted parameters.\n",
    "\n",
    "- https://siscourses.ethz.ch/python_dbiol/data/logistic_data_multi.txt contains multiple measurements in one single file. Read the data, merge values to $t$ and $P(t)$ vectors and run the fitting again.\n",
    " \n",
    "- Try to automate the downloads using https://pymotw.com/3/urllib.request/index.html"
   ]
  },
  {
   "cell_type": "markdown",
   "metadata": {},
   "source": [
    "## Challenge: Hangman game\n",
    "\n",
    "Implement the Hangman-Game:\n",
    "\n",
    "   - the computer knows a secret word\n",
    "   - you have to guess letters from the word until the word is disclosed\n",
    "   - after every wrong guess the computer informs you about the number of wrong guesses up to now, you loose after 10 wrong guesses\n",
    "   - before you enter a guess the computer tells what you disclosed up to now by showing the secret word where a `*` is displayed for not yet guessed letters.\n",
    "   \n",
    "Below is a template to start. The bodies of the functions are empty, fill them up so that the final program works. The multi line strings you see serve as comments and describe how the functions should work.\n",
    "   \n",
    "**If you solved this here are two advanced but very good code katas !!!!**\n",
    "\n",
    "First code kata: only keep the functions from you solutions and try to re-implement `play_game` without cheating.\n",
    "\n",
    "Second code kata: implement the full solution."
   ]
  },
  {
   "cell_type": "code",
   "execution_count": null,
   "metadata": {
    "scrolled": false
   },
   "outputs": [],
   "source": [
    "def print_guessed(word, user_inputs):\n",
    "    \"\"\"\n",
    "    word:  a string holding the secret word\n",
    "    use_inputs:  a list of letters, collecting the user inputs\n",
    "    returns: None\n",
    "    \n",
    "    this function prints the word letter by letter showing\n",
    "    unguessed letters as \"*\"\n",
    "    \n",
    "    So the function might show \"P Y * * O N\" if the word is \"PYTHON\" and\n",
    "    the user_input is [\"O\", \"N\", \"P\", \"X\", \"E\", \"Y\"]\n",
    "    \"\"\"\n",
    "    \n",
    "    \n",
    "def count_guessed(word, user_inputs):\n",
    "    \"\"\"\n",
    "    word:  a string holding the secret word\n",
    "    use_inputs:  a list of letters, collecting the user inputs\n",
    "    \n",
    "    returns: the number of letters in \"word\" appearing in \"user_inputs\".\n",
    "    \"\"\"\n",
    "    \n",
    "    \n",
    "def ask_new_guess(user_inputs):\n",
    "    \"\"\"\n",
    "    user_inputs: list of letters already input by user\n",
    "    returns: new guess from user in upper case\n",
    "    \n",
    "    asks until the user provids a new guess, if he repeats a\n",
    "    previous guess a message is displayed and the user is\n",
    "    asked again. Same happens if user inputs empty string\n",
    "    or more than one character\n",
    "    \"\"\"\n",
    "    \n",
    "\n",
    "def play_game(secret_word):\n",
    "    user_inputs = []\n",
    "    guesses_left = 5\n",
    "\n",
    "    while True: \n",
    "        \n",
    "        print_guessed(secret_word, user_inputs)\n",
    "\n",
    "        guess = ask_new_guess(user_inputs)\n",
    "        user_inputs.append(guess)\n",
    "        \n",
    "        if guess not in secret_word:\n",
    "            guesses_left -= 1\n",
    "            print(\"WRONG ! %d guesses left !!!\" %  guesses_left)\n",
    "            if guesses_left == 0:\n",
    "                print(\"GAME OVER ! THE WORD IS\", secret_word)\n",
    "                break\n",
    "\n",
    "        print()\n",
    "        letters_guessed = count_guessed(secret_word, user_inputs)\n",
    "        if letters_guessed == len(secret_word):\n",
    "            print(\"YOU GOT IT !\")\n",
    "            break\n",
    "            \n",
    "import random\n",
    "secret_words = [\"notebook\", \"pythoncourse\"]\n",
    "\n",
    "secret_word = secret_words[random.randint(0, len(secret_words) - 1)].upper()\n",
    "\n",
    "play_game(secret_word)"
   ]
  },
  {
   "cell_type": "markdown",
   "metadata": {},
   "source": [
    "## Challenge: Phone number data base\n",
    "\n",
    "Write a phone book application. If you start the program the user if asked if he wants to add an new name + phone number or if he wants to lookup an existing phone number. Store the data provided by the user in a csv file so if you restart the program the already entered data will not be lost. So the interaction with the program could look like this:\n",
    "\n",
    "     PHONEBOOK v1.0\n",
    "     ==============\n",
    "        \n",
    "     Already 3 entries in the phone book\n",
    "     \n",
    "     Please choose:\n",
    "     \n",
    "         1: add a new entry\n",
    "         2: lookup a number\n",
    "         3: show all entries\n",
    "         0: exit\n",
    "         \n",
    "     Your choice: 1\n",
    "     \n",
    "     Ok, please enter a name: Julian\n",
    "     And his phone number: +41 2342 2342\n",
    "     \n",
    "     PHONEBOOK v1.0\n",
    "     ==============\n",
    "     \n",
    "     Already 4 entries in the phone book\n",
    "     \n",
    "     Please choose:\n",
    "     \n",
    "         1: add a new entry\n",
    "         2: lookup a number\n",
    "         3: show all entries\n",
    "         0: exit\n",
    "         \n",
    "Write functions like \n",
    "\n",
    "    def main_menu(phone_book_entries):\n",
    "    \n",
    "    def submenu_add_entry(phone_book_entries): \n",
    "    \n",
    "    def submenu_lookup_entry(phone_book_entries):\n",
    "    \n",
    "etc.\n",
    "\n",
    "Discard invalid input.\n",
    "\n",
    "Suggestions: Either you use a dictionary for lookup or lists. The second approach would allow you to make a lookup which ignores special characters like spaces or `.` in a name and would ignore the case of the letters.\n",
    "\n",
    "If you start and the phone book is empty you can use `import os` and then `os.path.exists(..)` (use google for futher details) to check if there is already an phone book file or not."
   ]
  },
  {
   "cell_type": "markdown",
   "metadata": {},
   "source": [
    "## Challenge: Tic Tac Toe\n",
    "\n",
    "The idea is that two users can place `X` and `O` in alternating order by providing coordinates like `A2` (for the first row and second column).\n",
    "\n",
    "A user is not allowed to overwrite a taken field and the computer should detect if `X` or `O` wins.\n",
    "\n",
    "You can represent a 3 times 3 board by nested list like `board = [[\" \", \" \", \" \"], [\" \", \" \", \" \"], [\" \", \" \", \" \"]]` for the empty board at the beginning.\n",
    "\n",
    "To get started:\n",
    "- Write a function which asks the user to place a `X` or `O` to given coordinates until he chooses a free field. So this could be `def place(symbol, board):` which then returns the updated board.\n",
    "- Write a function which prints the board nicely as `def print_board(board):`.\n",
    "- Write a function which checks if a given field is free. `def is_empty(coordinates, board):`. \n",
    "- Write a function which checks if a given board represents a winning state like `def check_winner(board)` which returns `X` or `O` or `None`.\n",
    "\n",
    "For `check_winner` you could for example check if you find a row where all values are the same, than the first value of this row would be the result. Same for columns and the two diagonals."
   ]
  },
  {
   "cell_type": "markdown",
   "metadata": {},
   "source": [
    "## Challenge: Fetch CHF exchange rates from a web service\n",
    "\n",
    "The following snippet demonstrates how to fetch exchange rate EUR to X for a given date using a so called \"web service\"."
   ]
  },
  {
   "cell_type": "code",
   "execution_count": 1,
   "metadata": {},
   "outputs": [
    {
     "name": "stdout",
     "output_type": "stream",
     "text": [
      "b'{\"base\":\"EUR\",\"date\":\"2014-01-03\",\"rates\":{\"AUD\":1.5156,\"BGN\":1.9558,\"BRL\":3.2373,\"CAD\":1.4468,\"CHF\":1.2309,\"CNY\":8.2569,\"CZK\":27.525,\"DKK\":7.4586,\"GBP\":0.83045,\"HKD\":10.573,\"HRK\":7.628,\"HUF\":298.66,\"IDR\":16533.0,\"ILS\":4.7749,\"INR\":84.802,\"JPY\":142.46,\"KRW\":1438.7,\"LTL\":3.4528,\"MXN\":17.821,\"MYR\":4.476,\"NOK\":8.3585,\"NZD\":1.6434,\"PHP\":60.892,\"PLN\":4.1658,\"RON\":4.4879,\"RUB\":45.139,\"SEK\":8.8561,\"SGD\":1.7244,\"THB\":45.022,\"TRY\":2.9637,\"USD\":1.3634,\"ZAR\":14.439}}'\n"
     ]
    }
   ],
   "source": [
    "import json\n",
    "import urllib.request\n",
    "\n",
    "url = \"http://api.fixer.io/2014-01-03\"\n",
    "response_bytes = urllib.request.urlopen(url).read()\n",
    "print(response_bytes)"
   ]
  },
  {
   "cell_type": "markdown",
   "metadata": {},
   "source": [
    "So the web service returns a (so called) \"byte string\" which looks like a dictionary (the format is called JSON). To get a \"real\" dictionary we can use:"
   ]
  },
  {
   "cell_type": "code",
   "execution_count": 2,
   "metadata": {
    "scrolled": true
   },
   "outputs": [],
   "source": [
    "%%capture\n",
    "import pprint\n",
    "data_as_dict = json.loads(str(response_bytes, \"ascii\"))\n",
    "pprint.pprint(data_as_dict)  # nicer output than a plain print()"
   ]
  },
  {
   "cell_type": "markdown",
   "metadata": {},
   "source": [
    "Take the code as it is, communicating to web services is a topic on its own. Another example for a webservice is PUG to query data from Pubchem: https://pubchem.ncbi.nlm.nih.gov/pug_rest/PUG_REST_Tutorial.html\n",
    "\n",
    "- Start with this snippet to write a function which determines the CHF to EUR exchange rate for a given year, month and day. \n",
    "- Then create a plot for the EUR to CHF exchange for the first of every month starting with 1st of january 2015 until today.\n",
    "- Write a function which determines the average exchange rate for a given month. (You remember the leap year computation exercise ?)\n",
    "- Create a plot for the monthly averages."
   ]
  },
  {
   "cell_type": "markdown",
   "metadata": {},
   "source": [
    "## Challenge: A simple sorting algorithm\n",
    "\n",
    "Implement selection sort to sort a list of numbers. This is the strategy of this algorithm:\n",
    "\n",
    "* Start with index 0 and find the position of a minimal value in the list starting with index 0. Swap the values at both positions.\n",
    "* Go on with index 1 and find the position of a minimal value in the list starting with index 1. Swap the values at both positions.\n",
    "* Go on with index 2 and find the position of a minimal value in the list starting with index 2. ...\n",
    "* .. and so on\n",
    "        \n",
    "So for a list `[2, 5, 1, 4, 3]` the result of step 0 is `[1, 5, 2, 4, 3]`, the result of step 1 is `[1, 2, 5, 4, 3]`, then `[1, 2, 3, 4, 5]`.\n",
    "    \n",
    "1. Reproduce and exercise this procedure with pen and paper. \n",
    "2. Start with a function `min_position(li, start_at)` which computes the position of the minimal value staring at the given position `start_at`. \n",
    "3. Then implement a funcion `step(i, li)` which perfoms step `i` for the given list (look up the position with `min_position(i + 1, li)`  then swap values at `i` and the computed position)\n",
    "4. Write a loop which performs `step(0, li)` up to `step(len(li) - 1, li)`\n",
    "5. Test your program for many inputs including empty lists and lists with only one element."
   ]
  },
  {
   "cell_type": "markdown",
   "metadata": {},
   "source": [
    "## Challenge: Decrypt a substitution cipher\n",
    "\n",
    "Download the encrypted file https://siscourses.ethz.ch/python_dbiol/data/encoded.txt. The text was encoded by a \"simple substitution cipher\" as described at https://en.wikipedia.org/wiki/Substitution_cipher#Simple_substitution. The cipher kept space characters as space characters.\n",
    "\n",
    "To break the cipher we make use of the fact that letters occur with different frequencies in texts. This distribution depends on the actual language.\n",
    "\n",
    "We assume that the letters in English texts ordered by their frequency are `etaonhisrldwugfycbmkpvjqxz`. So `e` is the most common character, `t` the second common character and so on. (This ordering is not fixed but depends on the text corpus used, so you will find slightly modified version on the Internet).\n",
    "\n",
    "So if a simple substitution cipher maps `e` to `a` we should see that `a` occurs most often in the encrypted text (given that the original text was in English and that the encrypted text is long enough).\n",
    "\n",
    "To decode the text:\n",
    "\n",
    " - first order the letters from the encoded text by their frequency\n",
    " - then construct a dictionary to map the characters from the given text to their most probable counterpart \n",
    " - and finally use this to decode the text. \n",
    "\n",
    "The decoding will not be perfect but you should recognize English words and might refine the constructed dictionary manually to improve the result."
   ]
  },
  {
   "cell_type": "markdown",
   "metadata": {},
   "source": [
    "## Introduction pandas \n",
    "\n",
    "The `pandas` library support handling of tabular data. In contrast to a `numpy` matrix every column can have a different type. \n"
   ]
  },
  {
   "cell_type": "markdown",
   "metadata": {},
   "source": [
    "pandas allows reading different file formats from different sources:"
   ]
  },
  {
   "cell_type": "code",
   "execution_count": 3,
   "metadata": {
    "scrolled": true
   },
   "outputs": [
    {
     "name": "stdout",
     "output_type": "stream",
     "text": [
      "shape (rows, cols) is (1599, 12)\n",
      "column names are Index(['fixed acidity', 'volatile acidity', 'citric acid', 'residual sugar',\n",
      "       'chlorides', 'free sulfur dioxide', 'total sulfur dioxide', 'density',\n",
      "       'pH', 'sulphates', 'alcohol', 'quality'],\n",
      "      dtype='object')\n",
      "   fixed acidity  volatile acidity  citric acid  residual sugar  chlorides  \\\n",
      "0            7.4              0.70         0.00             1.9      0.076   \n",
      "1            7.8              0.88         0.00             2.6      0.098   \n",
      "2            7.8              0.76         0.04             2.3      0.092   \n",
      "3           11.2              0.28         0.56             1.9      0.075   \n",
      "4            7.4              0.70         0.00             1.9      0.076   \n",
      "\n",
      "   free sulfur dioxide  total sulfur dioxide  density    pH  sulphates  \\\n",
      "0                 11.0                  34.0   0.9978  3.51       0.56   \n",
      "1                 25.0                  67.0   0.9968  3.20       0.68   \n",
      "2                 15.0                  54.0   0.9970  3.26       0.65   \n",
      "3                 17.0                  60.0   0.9980  3.16       0.58   \n",
      "4                 11.0                  34.0   0.9978  3.51       0.56   \n",
      "\n",
      "   alcohol  quality  \n",
      "0      9.4        5  \n",
      "1      9.8        5  \n",
      "2      9.8        5  \n",
      "3      9.8        6  \n",
      "4      9.4        5  \n",
      "      fixed acidity  volatile acidity  citric acid  residual sugar  chlorides  \\\n",
      "1594            6.2             0.600         0.08             2.0      0.090   \n",
      "1595            5.9             0.550         0.10             2.2      0.062   \n",
      "1596            6.3             0.510         0.13             2.3      0.076   \n",
      "1597            5.9             0.645         0.12             2.0      0.075   \n",
      "1598            6.0             0.310         0.47             3.6      0.067   \n",
      "\n",
      "      free sulfur dioxide  total sulfur dioxide  density    pH  sulphates  \\\n",
      "1594                 32.0                  44.0  0.99490  3.45       0.58   \n",
      "1595                 39.0                  51.0  0.99512  3.52       0.76   \n",
      "1596                 29.0                  40.0  0.99574  3.42       0.75   \n",
      "1597                 32.0                  44.0  0.99547  3.57       0.71   \n",
      "1598                 18.0                  42.0  0.99549  3.39       0.66   \n",
      "\n",
      "      alcohol  quality  \n",
      "1594     10.5        5  \n",
      "1595     11.2        6  \n",
      "1596     11.0        6  \n",
      "1597     10.2        5  \n",
      "1598     11.0        6  \n"
     ]
    }
   ],
   "source": [
    "import pandas as pd\n",
    "\n",
    "dataset_url = 'http://mlr.cs.umass.edu/ml/machine-learning-databases/wine-quality/winequality-red.csv'\n",
    "data = pd.read_csv(dataset_url, delimiter=\";\")\n",
    "print(\"shape (rows, cols) is\", data.shape)\n",
    "print(\"column names are\", data.columns)\n",
    "print(data.head())  # only a few first lines\n",
    "print(data.tail())  # only a few last lines"
   ]
  },
  {
   "cell_type": "code",
   "execution_count": 4,
   "metadata": {},
   "outputs": [
    {
     "name": "stdout",
     "output_type": "stream",
     "text": [
      "<class 'pandas.core.frame.DataFrame'>\n",
      "RangeIndex: 1599 entries, 0 to 1598\n",
      "Data columns (total 12 columns):\n",
      "fixed acidity           1599 non-null float64\n",
      "volatile acidity        1599 non-null float64\n",
      "citric acid             1599 non-null float64\n",
      "residual sugar          1599 non-null float64\n",
      "chlorides               1599 non-null float64\n",
      "free sulfur dioxide     1599 non-null float64\n",
      "total sulfur dioxide    1599 non-null float64\n",
      "density                 1599 non-null float64\n",
      "pH                      1599 non-null float64\n",
      "sulphates               1599 non-null float64\n",
      "alcohol                 1599 non-null float64\n",
      "quality                 1599 non-null int64\n",
      "dtypes: float64(11), int64(1)\n",
      "memory usage: 150.0 KB\n",
      "None\n"
     ]
    }
   ],
   "source": [
    "print(data.info())"
   ]
  },
  {
   "cell_type": "code",
   "execution_count": 84,
   "metadata": {},
   "outputs": [
    {
     "name": "stdout",
     "output_type": "stream",
     "text": [
      "(5, 12)\n",
      "   fixed acidity  volatile acidity  citric acid  residual sugar  chlorides  \\\n",
      "0            7.4              0.70         0.00             1.9      0.076   \n",
      "1            7.8              0.88         0.00             2.6      0.098   \n",
      "2            7.8              0.76         0.04             2.3      0.092   \n",
      "3           11.2              0.28         0.56             1.9      0.075   \n",
      "4            7.4              0.70         0.00             1.9      0.076   \n",
      "\n",
      "   free sulfur dioxide  total sulfur dioxide  density    pH  sulphates  \\\n",
      "0                 11.0                  34.0   0.9978  3.51       0.56   \n",
      "1                 25.0                  67.0   0.9968  3.20       0.68   \n",
      "2                 15.0                  54.0   0.9970  3.26       0.65   \n",
      "3                 17.0                  60.0   0.9980  3.16       0.58   \n",
      "4                 11.0                  34.0   0.9978  3.51       0.56   \n",
      "\n",
      "   alcohol  quality  \n",
      "0      9.4        5  \n",
      "1      9.8        5  \n",
      "2      9.8        5  \n",
      "3      9.8        6  \n",
      "4      9.4        5  \n"
     ]
    }
   ],
   "source": [
    "example = data.head()\n",
    "print(example.shape)\n",
    "print(example)"
   ]
  },
  {
   "cell_type": "code",
   "execution_count": 85,
   "metadata": {},
   "outputs": [
    {
     "data": {
      "text/html": [
       "<div>\n",
       "<style>\n",
       "    .dataframe thead tr:only-child th {\n",
       "        text-align: right;\n",
       "    }\n",
       "\n",
       "    .dataframe thead th {\n",
       "        text-align: left;\n",
       "    }\n",
       "\n",
       "    .dataframe tbody tr th {\n",
       "        vertical-align: top;\n",
       "    }\n",
       "</style>\n",
       "<table border=\"1\" class=\"dataframe\">\n",
       "  <thead>\n",
       "    <tr style=\"text-align: right;\">\n",
       "      <th></th>\n",
       "      <th>pH</th>\n",
       "      <th>quality</th>\n",
       "    </tr>\n",
       "  </thead>\n",
       "  <tbody>\n",
       "    <tr>\n",
       "      <th>0</th>\n",
       "      <td>3.51</td>\n",
       "      <td>5</td>\n",
       "    </tr>\n",
       "    <tr>\n",
       "      <th>1</th>\n",
       "      <td>3.20</td>\n",
       "      <td>5</td>\n",
       "    </tr>\n",
       "    <tr>\n",
       "      <th>2</th>\n",
       "      <td>3.26</td>\n",
       "      <td>5</td>\n",
       "    </tr>\n",
       "    <tr>\n",
       "      <th>3</th>\n",
       "      <td>3.16</td>\n",
       "      <td>6</td>\n",
       "    </tr>\n",
       "    <tr>\n",
       "      <th>4</th>\n",
       "      <td>3.51</td>\n",
       "      <td>5</td>\n",
       "    </tr>\n",
       "  </tbody>\n",
       "</table>\n",
       "</div>"
      ],
      "text/plain": [
       "     pH  quality\n",
       "0  3.51        5\n",
       "1  3.20        5\n",
       "2  3.26        5\n",
       "3  3.16        6\n",
       "4  3.51        5"
      ]
     },
     "execution_count": 85,
     "metadata": {},
     "output_type": "execute_result"
    }
   ],
   "source": [
    "example[[\"pH\", \"quality\"]]"
   ]
  },
  {
   "cell_type": "code",
   "execution_count": 86,
   "metadata": {},
   "outputs": [
    {
     "name": "stdout",
     "output_type": "stream",
     "text": [
      "(217, 12)\n"
     ]
    },
    {
     "data": {
      "text/html": [
       "<div>\n",
       "<style>\n",
       "    .dataframe thead tr:only-child th {\n",
       "        text-align: right;\n",
       "    }\n",
       "\n",
       "    .dataframe thead th {\n",
       "        text-align: left;\n",
       "    }\n",
       "\n",
       "    .dataframe tbody tr th {\n",
       "        vertical-align: top;\n",
       "    }\n",
       "</style>\n",
       "<table border=\"1\" class=\"dataframe\">\n",
       "  <thead>\n",
       "    <tr style=\"text-align: right;\">\n",
       "      <th></th>\n",
       "      <th>fixed acidity</th>\n",
       "      <th>volatile acidity</th>\n",
       "      <th>citric acid</th>\n",
       "      <th>residual sugar</th>\n",
       "      <th>chlorides</th>\n",
       "      <th>free sulfur dioxide</th>\n",
       "      <th>total sulfur dioxide</th>\n",
       "      <th>density</th>\n",
       "      <th>pH</th>\n",
       "      <th>sulphates</th>\n",
       "      <th>alcohol</th>\n",
       "      <th>quality</th>\n",
       "    </tr>\n",
       "  </thead>\n",
       "  <tbody>\n",
       "    <tr>\n",
       "      <th>7</th>\n",
       "      <td>7.3</td>\n",
       "      <td>0.65</td>\n",
       "      <td>0.00</td>\n",
       "      <td>1.2</td>\n",
       "      <td>0.065</td>\n",
       "      <td>15.0</td>\n",
       "      <td>21.0</td>\n",
       "      <td>0.9946</td>\n",
       "      <td>3.39</td>\n",
       "      <td>0.47</td>\n",
       "      <td>10.0</td>\n",
       "      <td>7</td>\n",
       "    </tr>\n",
       "    <tr>\n",
       "      <th>8</th>\n",
       "      <td>7.8</td>\n",
       "      <td>0.58</td>\n",
       "      <td>0.02</td>\n",
       "      <td>2.0</td>\n",
       "      <td>0.073</td>\n",
       "      <td>9.0</td>\n",
       "      <td>18.0</td>\n",
       "      <td>0.9968</td>\n",
       "      <td>3.36</td>\n",
       "      <td>0.57</td>\n",
       "      <td>9.5</td>\n",
       "      <td>7</td>\n",
       "    </tr>\n",
       "    <tr>\n",
       "      <th>16</th>\n",
       "      <td>8.5</td>\n",
       "      <td>0.28</td>\n",
       "      <td>0.56</td>\n",
       "      <td>1.8</td>\n",
       "      <td>0.092</td>\n",
       "      <td>35.0</td>\n",
       "      <td>103.0</td>\n",
       "      <td>0.9969</td>\n",
       "      <td>3.30</td>\n",
       "      <td>0.75</td>\n",
       "      <td>10.5</td>\n",
       "      <td>7</td>\n",
       "    </tr>\n",
       "    <tr>\n",
       "      <th>37</th>\n",
       "      <td>8.1</td>\n",
       "      <td>0.38</td>\n",
       "      <td>0.28</td>\n",
       "      <td>2.1</td>\n",
       "      <td>0.066</td>\n",
       "      <td>13.0</td>\n",
       "      <td>30.0</td>\n",
       "      <td>0.9968</td>\n",
       "      <td>3.23</td>\n",
       "      <td>0.73</td>\n",
       "      <td>9.7</td>\n",
       "      <td>7</td>\n",
       "    </tr>\n",
       "    <tr>\n",
       "      <th>62</th>\n",
       "      <td>7.5</td>\n",
       "      <td>0.52</td>\n",
       "      <td>0.16</td>\n",
       "      <td>1.9</td>\n",
       "      <td>0.085</td>\n",
       "      <td>12.0</td>\n",
       "      <td>35.0</td>\n",
       "      <td>0.9968</td>\n",
       "      <td>3.38</td>\n",
       "      <td>0.62</td>\n",
       "      <td>9.5</td>\n",
       "      <td>7</td>\n",
       "    </tr>\n",
       "  </tbody>\n",
       "</table>\n",
       "</div>"
      ],
      "text/plain": [
       "    fixed acidity  volatile acidity  citric acid  residual sugar  chlorides  \\\n",
       "7             7.3              0.65         0.00             1.2      0.065   \n",
       "8             7.8              0.58         0.02             2.0      0.073   \n",
       "16            8.5              0.28         0.56             1.8      0.092   \n",
       "37            8.1              0.38         0.28             2.1      0.066   \n",
       "62            7.5              0.52         0.16             1.9      0.085   \n",
       "\n",
       "    free sulfur dioxide  total sulfur dioxide  density    pH  sulphates  \\\n",
       "7                  15.0                  21.0   0.9946  3.39       0.47   \n",
       "8                   9.0                  18.0   0.9968  3.36       0.57   \n",
       "16                 35.0                 103.0   0.9969  3.30       0.75   \n",
       "37                 13.0                  30.0   0.9968  3.23       0.73   \n",
       "62                 12.0                  35.0   0.9968  3.38       0.62   \n",
       "\n",
       "    alcohol  quality  \n",
       "7      10.0        7  \n",
       "8       9.5        7  \n",
       "16     10.5        7  \n",
       "37      9.7        7  \n",
       "62      9.5        7  "
      ]
     },
     "execution_count": 86,
     "metadata": {},
     "output_type": "execute_result"
    }
   ],
   "source": [
    "very_good_wines = data[data[\"quality\"] >= 7]\n",
    "print(very_good_wines.shape)\n",
    "very_good_wines.head()"
   ]
  },
  {
   "cell_type": "code",
   "execution_count": 58,
   "metadata": {},
   "outputs": [
    {
     "name": "stdout",
     "output_type": "stream",
     "text": [
      "9.2\n",
      "11.5180491551\n",
      "14.0\n"
     ]
    }
   ],
   "source": [
    "print(very_good_wines[\"alcohol\"].min())\n",
    "print(very_good_wines[\"alcohol\"].mean())\n",
    "print(very_good_wines[\"alcohol\"].max())"
   ]
  },
  {
   "cell_type": "code",
   "execution_count": 88,
   "metadata": {},
   "outputs": [],
   "source": [
    "groupwise_min_values = data[[\"quality\", \"alcohol\"]].groupby([\"quality\"]).min()\n",
    "\n",
    "groupwise_min_values\n",
    "\n",
    "very_good_wines.to_csv(\"good_wines.xlsx\")"
   ]
  },
  {
   "cell_type": "markdown",
   "metadata": {},
   "source": [
    "# Challenge: quick intro into machine learning with scikit-learn"
   ]
  },
  {
   "cell_type": "markdown",
   "metadata": {},
   "source": [
    "Preparation: install \"pandas\" and \"scikit-learn\"."
   ]
  },
  {
   "cell_type": "markdown",
   "metadata": {},
   "source": [
    "\n",
    "We can separate learning problems in a few large categories:\n",
    "\n",
    "- **supervised learning**, in which the data comes with additional attributes that we want to predict. This problem can be either:\n",
    "\n",
    "   - **classification**: samples belong to two or more classes and we want to learn from already labeled data how to predict the class of unlabeled data. \n",
    "   - **regression**: if the desired output consists of one or more continuous variables, then the task is called regression. \n",
    "   \n",
    "   An example of a regression problem would be the prediction of the length of a salmon as a function of its age and weight.\n",
    "\n",
    "- **unsupervised learning** in which the training data consists of a set of input vectors x without any corresponding target values. \n",
    "\n",
    "Examples:\n",
    "\n",
    "- classification: Spam filter, handwritten digit recognition\n",
    "- regression: predict the length of a salmon as a function of age and weight\n",
    "- unsupervised learning: PCA, clustering"
   ]
  },
  {
   "cell_type": "markdown",
   "metadata": {},
   "source": [
    "For the most cases the learning data is aranged as a *feature matrix*. Per learning example we use one row, and the data in every row is called a *feature vector*, the columns of the matrix are the *features*. For supervised learning we also need a vector of labels which has as much entries as the feature matrix rows.\n",
    "\n",
    "Example:\n"
   ]
  },
  {
   "cell_type": "code",
   "execution_count": 3,
   "metadata": {},
   "outputs": [
    {
     "data": {
      "text/html": [
       "<div>\n",
       "<style>\n",
       "    .dataframe thead tr:only-child th {\n",
       "        text-align: right;\n",
       "    }\n",
       "\n",
       "    .dataframe thead th {\n",
       "        text-align: left;\n",
       "    }\n",
       "\n",
       "    .dataframe tbody tr th {\n",
       "        vertical-align: top;\n",
       "    }\n",
       "</style>\n",
       "<table border=\"1\" class=\"dataframe\">\n",
       "  <thead>\n",
       "    <tr style=\"text-align: right;\">\n",
       "      <th></th>\n",
       "      <th>fixed acidity</th>\n",
       "      <th>volatile acidity</th>\n",
       "      <th>citric acid</th>\n",
       "      <th>residual sugar</th>\n",
       "      <th>chlorides</th>\n",
       "      <th>free sulfur dioxide</th>\n",
       "      <th>total sulfur dioxide</th>\n",
       "      <th>density</th>\n",
       "      <th>pH</th>\n",
       "      <th>sulphates</th>\n",
       "      <th>alcohol</th>\n",
       "      <th>quality</th>\n",
       "      <th>good_quality</th>\n",
       "    </tr>\n",
       "  </thead>\n",
       "  <tbody>\n",
       "    <tr>\n",
       "      <th>0</th>\n",
       "      <td>7.4</td>\n",
       "      <td>0.70</td>\n",
       "      <td>0.00</td>\n",
       "      <td>1.9</td>\n",
       "      <td>0.076</td>\n",
       "      <td>11.0</td>\n",
       "      <td>34.0</td>\n",
       "      <td>0.9978</td>\n",
       "      <td>3.51</td>\n",
       "      <td>0.56</td>\n",
       "      <td>9.4</td>\n",
       "      <td>5</td>\n",
       "      <td>False</td>\n",
       "    </tr>\n",
       "    <tr>\n",
       "      <th>1</th>\n",
       "      <td>7.8</td>\n",
       "      <td>0.88</td>\n",
       "      <td>0.00</td>\n",
       "      <td>2.6</td>\n",
       "      <td>0.098</td>\n",
       "      <td>25.0</td>\n",
       "      <td>67.0</td>\n",
       "      <td>0.9968</td>\n",
       "      <td>3.20</td>\n",
       "      <td>0.68</td>\n",
       "      <td>9.8</td>\n",
       "      <td>5</td>\n",
       "      <td>False</td>\n",
       "    </tr>\n",
       "    <tr>\n",
       "      <th>2</th>\n",
       "      <td>7.8</td>\n",
       "      <td>0.76</td>\n",
       "      <td>0.04</td>\n",
       "      <td>2.3</td>\n",
       "      <td>0.092</td>\n",
       "      <td>15.0</td>\n",
       "      <td>54.0</td>\n",
       "      <td>0.9970</td>\n",
       "      <td>3.26</td>\n",
       "      <td>0.65</td>\n",
       "      <td>9.8</td>\n",
       "      <td>5</td>\n",
       "      <td>False</td>\n",
       "    </tr>\n",
       "    <tr>\n",
       "      <th>3</th>\n",
       "      <td>11.2</td>\n",
       "      <td>0.28</td>\n",
       "      <td>0.56</td>\n",
       "      <td>1.9</td>\n",
       "      <td>0.075</td>\n",
       "      <td>17.0</td>\n",
       "      <td>60.0</td>\n",
       "      <td>0.9980</td>\n",
       "      <td>3.16</td>\n",
       "      <td>0.58</td>\n",
       "      <td>9.8</td>\n",
       "      <td>6</td>\n",
       "      <td>True</td>\n",
       "    </tr>\n",
       "    <tr>\n",
       "      <th>4</th>\n",
       "      <td>7.4</td>\n",
       "      <td>0.70</td>\n",
       "      <td>0.00</td>\n",
       "      <td>1.9</td>\n",
       "      <td>0.076</td>\n",
       "      <td>11.0</td>\n",
       "      <td>34.0</td>\n",
       "      <td>0.9978</td>\n",
       "      <td>3.51</td>\n",
       "      <td>0.56</td>\n",
       "      <td>9.4</td>\n",
       "      <td>5</td>\n",
       "      <td>False</td>\n",
       "    </tr>\n",
       "  </tbody>\n",
       "</table>\n",
       "</div>"
      ],
      "text/plain": [
       "   fixed acidity  volatile acidity  citric acid  residual sugar  chlorides  \\\n",
       "0            7.4              0.70         0.00             1.9      0.076   \n",
       "1            7.8              0.88         0.00             2.6      0.098   \n",
       "2            7.8              0.76         0.04             2.3      0.092   \n",
       "3           11.2              0.28         0.56             1.9      0.075   \n",
       "4            7.4              0.70         0.00             1.9      0.076   \n",
       "\n",
       "   free sulfur dioxide  total sulfur dioxide  density    pH  sulphates  \\\n",
       "0                 11.0                  34.0   0.9978  3.51       0.56   \n",
       "1                 25.0                  67.0   0.9968  3.20       0.68   \n",
       "2                 15.0                  54.0   0.9970  3.26       0.65   \n",
       "3                 17.0                  60.0   0.9980  3.16       0.58   \n",
       "4                 11.0                  34.0   0.9978  3.51       0.56   \n",
       "\n",
       "   alcohol  quality  good_quality  \n",
       "0      9.4        5         False  \n",
       "1      9.8        5         False  \n",
       "2      9.8        5         False  \n",
       "3      9.8        6          True  \n",
       "4      9.4        5         False  "
      ]
     },
     "execution_count": 3,
     "metadata": {},
     "output_type": "execute_result"
    }
   ],
   "source": [
    "import pandas as pd\n",
    "dataset_url = 'http://mlr.cs.umass.edu/ml/machine-learning-databases/wine-quality/winequality-red.csv'\n",
    "data = pd.read_csv(dataset_url, delimiter=\";\")\n",
    "data[\"good_quality\"] = data[\"quality\"] >= 6\n",
    "\n",
    "data.head()"
   ]
  },
  {
   "cell_type": "markdown",
   "metadata": {},
   "source": [
    "Here the columns up to \"quality\" are the features, and the last column is our label vector."
   ]
  },
  {
   "cell_type": "markdown",
   "metadata": {},
   "source": [
    "For getting started we start with 2-dimensional feature vectors which makes plotting easier.\n",
    "\n",
    "For this we create random points with x and y coordinates in [-1.5, 1.5] and points where both coordinates have the same sign are labeled as \"True\" and others as \"False\":"
   ]
  },
  {
   "cell_type": "code",
   "execution_count": 22,
   "metadata": {},
   "outputs": [
    {
     "name": "stdout",
     "output_type": "stream",
     "text": [
      "feature matrix shape for learning  : (133, 2)\n",
      "feature matrix shape for evaluation: (67, 2)\n",
      "\n",
      "first 10 feature vectors + labels:\n",
      "[ 0.60330361  1.1371488 ] True\n",
      "[-1.33078797 -0.28353364] True\n",
      "[ 0.37217748 -1.29483082] False\n",
      "[ 0.14559219  0.62857116] True\n",
      "[ 0.37752144 -0.12904102] False\n",
      "[ 0.14514231 -0.84177145] False\n",
      "[-0.3029923   0.14351204] False\n",
      "[-1.47032512 -1.07923806] True\n",
      "[ 0.81342354 -0.04377843] False\n",
      "[-0.0640219   1.07251983] False\n",
      "\n",
      "red dots are features from class 'False', green dots are from class 'True':\n"
     ]
    },
    {
     "data": {
      "image/png": "[encoded data removed]",
      "text/plain": [
       "<matplotlib.figure.Figure at 0x10ce2a908>"
      ]
     },
     "metadata": {},
     "output_type": "display_data"
    }
   ],
   "source": [
    "%matplotlib inline\n",
    "\n",
    "import random\n",
    "from matplotlib import pyplot\n",
    "import numpy as np\n",
    "from sklearn.model_selection import train_test_split\n",
    "\n",
    "# 300 features of 2d coordinates in range -1.5 to 1.5\n",
    "points = np.random.random((200, 2)) * 3 - 1.5\n",
    "labels = (points[:, 0] * points[:, 1]) > 0\n",
    "\n",
    "# we split our data: 2/3 are used for learning the classifier, the other 1/3 is used\n",
    "# later for an unbiased validation of the classifier:\n",
    "points_learn, points_eval, labels_learn, labels_eval = train_test_split(points, labels, test_size=0.333)\n",
    "\n",
    "print(\"feature matrix shape for learning  :\", points_learn.shape)\n",
    "print(\"feature matrix shape for evaluation:\",points_eval.shape)\n",
    "\n",
    "print()\n",
    "print(\"first 10 feature vectors + labels:\")\n",
    "for (p, l) in zip(points_learn[:10], labels_learn[:10]):\n",
    "    print(p, l)\n",
    "\n",
    "print()\n",
    "print(\"red dots are features from class 'False', green dots are from class 'True':\")\n",
    "\n",
    "def plot_examples(points, labels):\n",
    "    for (p, l) in zip(points, labels):\n",
    "        x, y = p\n",
    "        if l:\n",
    "            pyplot.plot(x, y, \"go\")\n",
    "        else:\n",
    "            pyplot.plot(x, y, \"ro\")\n",
    "    pyplot.grid()\n",
    "\n",
    "pyplot.figure(figsize=(5, 5))\n",
    "plot_examples(points_learn, labels_learn)\n",
    "pyplot.show()"
   ]
  },
  {
   "cell_type": "markdown",
   "metadata": {},
   "source": [
    "Now we train a so called \"support vector machine\" to distinguish both classes:"
   ]
  },
  {
   "cell_type": "code",
   "execution_count": 23,
   "metadata": {},
   "outputs": [
    {
     "data": {
      "image/png": "[encoded data removed]",
      "text/plain": [
       "<matplotlib.figure.Figure at 0x10d07d4a8>"
      ]
     },
     "metadata": {},
     "output_type": "display_data"
    }
   ],
   "source": [
    "from sklearn import svm\n",
    "from sklearn.utils.extmath import cartesian\n",
    "\n",
    "# we choose a SVM which is often a good algorithm to get started:\n",
    "learner = svm.SVC(kernel=\"rbf\", C=100)\n",
    "\n",
    "# we learn from our features and labels:\n",
    "learner.fit(points_learn, labels_learn)\n",
    "\n",
    "# we plot for a all points in a regular grid its class color\n",
    "# so we undestand better what the \"decision surface\" looks like:\n",
    "pyplot.figure(figsize=(5, 5))\n",
    "\n",
    "def plot_data(grid_2d, labels):\n",
    "    xs = grid[:, 0]\n",
    "    ys = grid[:, 1]\n",
    "\n",
    "    pyplot.plot(xs[labels == 0], ys[labels == 0], \"r.\", alpha=.2)\n",
    "    pyplot.plot(xs[labels == 1], ys[labels == 1], \"g.\", alpha=.2)\n",
    "\n",
    "x_grid = np.linspace(-1.5, 1.5, 51)\n",
    "y_grid = np.linspace(-1.5, 1.5, 51)\n",
    "grid = cartesian((x_grid, y_grid))\n",
    "pred_labels = learner.predict(grid)\n",
    "\n",
    "plot_data(grid, pred_labels)\n",
    "\n",
    "# and we overlay this plot with our training data:\n",
    "plot_examples(points_learn, labels_learn)"
   ]
  },
  {
   "cell_type": "markdown",
   "metadata": {},
   "source": [
    "Exercise:\n",
    "\n",
    "- repeat the code examples\n",
    "- try other values for the \"C\" parameter (eg 1, 0.1 and 1000)\n",
    "- try other classifiers from the scikit learn website, eg \"random forests\" and \"linear svm\" or other kernels than \"rbf\"."
   ]
  },
  {
   "cell_type": "markdown",
   "metadata": {},
   "source": [
    "To evaluate our classifier we use the `points_eval` and `labels_eval` data.\n",
    "\n",
    "**NEVER EVALUATE A CLASSIFIER WITH TRAINING DATA, ALWAYS KEEP A PART OF YOUR DATA AS EVALUATION DATA**\n",
    "\n",
    "**NEVER EVALUATE A CLASSIFIER WITH TRAINING DATA, ALWAYS KEEP A PART OF YOUR DATA AS EVALUATION DATA**\n",
    "\n",
    "**NEVER EVALUATE A CLASSIFIER WITH TRAINING DATA, ALWAYS KEEP A PART OF YOUR DATA AS EVALUATION DATA**\n",
    "\n",
    "````\n",
    "TP = True positives (classified as positive, and indeed \"positive\")\n",
    "TN = True negatives\n",
    "FP = False positives (classified as positives, but \"negative\" in reality)\n",
    "FN = False negatives\n",
    "\n",
    "precision: fraction of positive examples among all positive classifications (TP / (TP + FP))\n",
    "recall   : fraction of positive classified features among all positive features (TP / (TP + FN))\n",
    "\n",
    "F1       : weighted combination of precision + recall\n",
    "````"
   ]
  },
  {
   "cell_type": "code",
   "execution_count": 12,
   "metadata": {},
   "outputs": [
    {
     "name": "stdout",
     "output_type": "stream",
     "text": [
      "True negatives : 25\n",
      "True positives : 37\n",
      "False negatives: 1\n",
      "False positives: 4\n",
      "\n",
      "             precision    recall  f1-score   support\n",
      "\n",
      "      False       0.86      0.96      0.91        26\n",
      "       True       0.97      0.90      0.94        41\n",
      "\n",
      "avg / total       0.93      0.93      0.93        67\n",
      "\n"
     ]
    }
   ],
   "source": [
    "from sklearn.metrics import classification_report, confusion_matrix\n",
    "\n",
    "labels_predicted = learner.predict(points_eval)\n",
    "\n",
    "M = confusion_matrix(labels_eval, labels_predicted)\n",
    "TN, FN = M[0, :]\n",
    "FP, TP = M[1, :]\n",
    "\n",
    "print(\"True negatives :\", TN)\n",
    "print(\"True positives :\", TP)\n",
    "print(\"False negatives:\", FN)\n",
    "print(\"False positives:\", FP)\n",
    "print()\n",
    "\n",
    "print(classification_report(labels_eval, labels_predicted))"
   ]
  },
  {
   "cell_type": "code",
   "execution_count": 17,
   "metadata": {},
   "outputs": [
    {
     "data": {
      "text/html": [
       "<div>\n",
       "<style>\n",
       "    .dataframe thead tr:only-child th {\n",
       "        text-align: right;\n",
       "    }\n",
       "\n",
       "    .dataframe thead th {\n",
       "        text-align: left;\n",
       "    }\n",
       "\n",
       "    .dataframe tbody tr th {\n",
       "        vertical-align: top;\n",
       "    }\n",
       "</style>\n",
       "<table border=\"1\" class=\"dataframe\">\n",
       "  <thead>\n",
       "    <tr style=\"text-align: right;\">\n",
       "      <th></th>\n",
       "      <th>fixed acidity</th>\n",
       "      <th>volatile acidity</th>\n",
       "      <th>citric acid</th>\n",
       "      <th>residual sugar</th>\n",
       "      <th>chlorides</th>\n",
       "      <th>free sulfur dioxide</th>\n",
       "      <th>total sulfur dioxide</th>\n",
       "      <th>density</th>\n",
       "      <th>pH</th>\n",
       "      <th>sulphates</th>\n",
       "      <th>alcohol</th>\n",
       "      <th>quality</th>\n",
       "      <th>good_quality</th>\n",
       "    </tr>\n",
       "  </thead>\n",
       "  <tbody>\n",
       "    <tr>\n",
       "      <th>0</th>\n",
       "      <td>7.4</td>\n",
       "      <td>0.70</td>\n",
       "      <td>0.00</td>\n",
       "      <td>1.9</td>\n",
       "      <td>0.076</td>\n",
       "      <td>11.0</td>\n",
       "      <td>34.0</td>\n",
       "      <td>0.9978</td>\n",
       "      <td>3.51</td>\n",
       "      <td>0.56</td>\n",
       "      <td>9.4</td>\n",
       "      <td>5</td>\n",
       "      <td>False</td>\n",
       "    </tr>\n",
       "    <tr>\n",
       "      <th>1</th>\n",
       "      <td>7.8</td>\n",
       "      <td>0.88</td>\n",
       "      <td>0.00</td>\n",
       "      <td>2.6</td>\n",
       "      <td>0.098</td>\n",
       "      <td>25.0</td>\n",
       "      <td>67.0</td>\n",
       "      <td>0.9968</td>\n",
       "      <td>3.20</td>\n",
       "      <td>0.68</td>\n",
       "      <td>9.8</td>\n",
       "      <td>5</td>\n",
       "      <td>False</td>\n",
       "    </tr>\n",
       "    <tr>\n",
       "      <th>2</th>\n",
       "      <td>7.8</td>\n",
       "      <td>0.76</td>\n",
       "      <td>0.04</td>\n",
       "      <td>2.3</td>\n",
       "      <td>0.092</td>\n",
       "      <td>15.0</td>\n",
       "      <td>54.0</td>\n",
       "      <td>0.9970</td>\n",
       "      <td>3.26</td>\n",
       "      <td>0.65</td>\n",
       "      <td>9.8</td>\n",
       "      <td>5</td>\n",
       "      <td>False</td>\n",
       "    </tr>\n",
       "    <tr>\n",
       "      <th>3</th>\n",
       "      <td>11.2</td>\n",
       "      <td>0.28</td>\n",
       "      <td>0.56</td>\n",
       "      <td>1.9</td>\n",
       "      <td>0.075</td>\n",
       "      <td>17.0</td>\n",
       "      <td>60.0</td>\n",
       "      <td>0.9980</td>\n",
       "      <td>3.16</td>\n",
       "      <td>0.58</td>\n",
       "      <td>9.8</td>\n",
       "      <td>6</td>\n",
       "      <td>True</td>\n",
       "    </tr>\n",
       "    <tr>\n",
       "      <th>4</th>\n",
       "      <td>7.4</td>\n",
       "      <td>0.70</td>\n",
       "      <td>0.00</td>\n",
       "      <td>1.9</td>\n",
       "      <td>0.076</td>\n",
       "      <td>11.0</td>\n",
       "      <td>34.0</td>\n",
       "      <td>0.9978</td>\n",
       "      <td>3.51</td>\n",
       "      <td>0.56</td>\n",
       "      <td>9.4</td>\n",
       "      <td>5</td>\n",
       "      <td>False</td>\n",
       "    </tr>\n",
       "  </tbody>\n",
       "</table>\n",
       "</div>"
      ],
      "text/plain": [
       "   fixed acidity  volatile acidity  citric acid  residual sugar  chlorides  \\\n",
       "0            7.4              0.70         0.00             1.9      0.076   \n",
       "1            7.8              0.88         0.00             2.6      0.098   \n",
       "2            7.8              0.76         0.04             2.3      0.092   \n",
       "3           11.2              0.28         0.56             1.9      0.075   \n",
       "4            7.4              0.70         0.00             1.9      0.076   \n",
       "\n",
       "   free sulfur dioxide  total sulfur dioxide  density    pH  sulphates  \\\n",
       "0                 11.0                  34.0   0.9978  3.51       0.56   \n",
       "1                 25.0                  67.0   0.9968  3.20       0.68   \n",
       "2                 15.0                  54.0   0.9970  3.26       0.65   \n",
       "3                 17.0                  60.0   0.9980  3.16       0.58   \n",
       "4                 11.0                  34.0   0.9978  3.51       0.56   \n",
       "\n",
       "   alcohol  quality  good_quality  \n",
       "0      9.4        5         False  \n",
       "1      9.8        5         False  \n",
       "2      9.8        5         False  \n",
       "3      9.8        6          True  \n",
       "4      9.4        5         False  "
      ]
     },
     "execution_count": 17,
     "metadata": {},
     "output_type": "execute_result"
    }
   ],
   "source": [
    "import pandas as pd\n",
    "dataset_url = 'http://mlr.cs.umass.edu/ml/machine-learning-databases/wine-quality/winequality-red.csv'\n",
    "data = pd.read_csv(dataset_url, delimiter=\";\")\n",
    "data[\"good_quality\"] = data[\"quality\"] >= 6\n",
    "\n",
    "data.head()"
   ]
  },
  {
   "cell_type": "code",
   "execution_count": 18,
   "metadata": {},
   "outputs": [],
   "source": [
    "from sklearn.ensemble import RandomForestClassifier"
   ]
  },
  {
   "cell_type": "code",
   "execution_count": 19,
   "metadata": {
    "scrolled": true
   },
   "outputs": [
    {
     "name": "stdout",
     "output_type": "stream",
     "text": [
      "True negatives : 201\n",
      "True positives : 210\n",
      "False negatives: 53\n",
      "False positives: 69\n",
      "\n",
      "             precision    recall  f1-score   support\n",
      "\n",
      "      False       0.74      0.79      0.77       254\n",
      "       True       0.80      0.75      0.77       279\n",
      "\n",
      "avg / total       0.77      0.77      0.77       533\n",
      "\n"
     ]
    }
   ],
   "source": [
    "features = data.iloc[:, :11]\n",
    "features -= features.mean()\n",
    "features /= features.std()\n",
    "\n",
    "labels = data.iloc[:, 12]\n",
    "feat_learn, feat_eval, labels_learn, labels_eval = train_test_split(features, labels, test_size=0.333)\n",
    "\n",
    "learner = RandomForestClassifier()\n",
    "learner.fit(feat_learn, labels_learn)\n",
    "\n",
    "labels_predicted = learner.predict(feat_eval)\n",
    "\n",
    "M = confusion_matrix(labels_eval, labels_predicted)\n",
    "TN, FN = M[0, :]\n",
    "FP, TP = M[1, :]\n",
    "\n",
    "\n",
    "print(\"True negatives :\", TN)\n",
    "print(\"True positives :\", TP)\n",
    "print(\"False negatives:\", FN)\n",
    "print(\"False positives:\", FP)\n",
    "print()\n",
    "\n",
    "print(classification_report(labels_eval, labels_predicted))\n"
   ]
  },
  {
   "cell_type": "markdown",
   "metadata": {},
   "source": [
    "# Recursion"
   ]
  },
  {
   "cell_type": "markdown",
   "metadata": {},
   "source": [
    "We talk about recursion if a function calls itself.\n",
    "\n",
    "First an example without recursion:"
   ]
  },
  {
   "cell_type": "code",
   "execution_count": 22,
   "metadata": {},
   "outputs": [
    {
     "name": "stdout",
     "output_type": "stream",
     "text": [
      "120\n"
     ]
    }
   ],
   "source": [
    "def product(n):\n",
    "    result = 1\n",
    "    for i in range(1, n +1):\n",
    "        result *= i\n",
    "    return result\n",
    "\n",
    "print(product(5))"
   ]
  },
  {
   "cell_type": "markdown",
   "metadata": {},
   "source": [
    "This function fulfills the equation `product(n) = n * product(n - 1), product(1) = 1`. This is a so called \"recursive definition\"."
   ]
  },
  {
   "cell_type": "code",
   "execution_count": 23,
   "metadata": {},
   "outputs": [
    {
     "name": "stdout",
     "output_type": "stream",
     "text": [
      "120\n"
     ]
    }
   ],
   "source": [
    "def product_2(n):\n",
    "    if n == 1: \n",
    "        return 1\n",
    "    result = product_2(n - 1) * n\n",
    "    return result\n",
    "\n",
    "print(product_2(5))"
   ]
  },
  {
   "cell_type": "markdown",
   "metadata": {},
   "source": [
    "To trace this  for `product_2(3)`:\n",
    "\n",
    "- `result` in `product_2(3)` is `result = product_2(2) * 3`.\n",
    "- this calls now `product_2(2)`:\n",
    "- `result` in `product_2(2)` is `result = product_2(1) * 2`.\n",
    "- this calls now `product_2(1)`:\n",
    "- which returns `1`.\n",
    "- now `product_2(2)` continues and returns `result = 1 * 2`\n",
    "- now `product_2(3)` continues and returns `result = 2 * 3` which is `6`\n",
    "\n",
    "I hope you recognize how important the extra handling for `n == 1` is, because it breaks the repeated function calls and passes execution back to the caller.\n",
    "\n",
    "Without such a final case the program would run forever with increasing negative values for `n`.\n",
    "\n",
    "## Exercise\n",
    "- try to understand the explanations\n",
    "- write a recursive function for summing up the numbers `1`... `n` for a given `n`.\n",
    "- write a recursive functino for summing up numbers in a given list."
   ]
  },
  {
   "cell_type": "markdown",
   "metadata": {},
   "source": [
    "## Advanced recursion: Quicksort\n",
    "\n",
    "One of the fastest sorting algorithms is called \"quicksort\". The idea is as follows:\n",
    "\n",
    "1. I have a list of numbers, say `[3, 4, 2, 7, 1, 6]`.\n",
    "2. I choose the first element `3` as a so called *pivot element*.\n",
    "3 I split the given list in numbers smaller the pivot element and numbers larger or equal the pivot element. So I get lists `[2, 1]` and `[4, 7, 6`]. The pivot element is not in both lists.\n",
    "4. I take now an arbitrary sorting algorithm to sort both lists individually which gives me `[1, 2]` and `[4, 6, 7`].\n",
    "5. I place the pivot in the middle and join lists and pivot, so I get the sorted list `[1, 2, 3, 4, 6, 7]`.\n",
    "\n",
    "### Exercise\n",
    "\n",
    "- repeat the algorithm for some random numerical lists.\n",
    "\n",
    "The trick now is to use quicksort again in step 4 which makes this procedure recursive:\n",
    "\n",
    "Pseudo code is:\n",
    "````\n",
    "    quicksort([]) = [] \n",
    "    quicksort(li) for len(li) > 0:\n",
    "        pivot = li[0]\n",
    "        li1 = elements in li < pivot\n",
    "        li2 = elements in li >= pivot except the pivot element\n",
    "        return quicksort(li1) + [pivot] + quicksort(li2)\n",
    "````\n",
    "\n",
    "- Now try to implement this using list comprehensions\n",
    "- Benchmark your runtime for random number lists of increasing size and plot a diagram list size vs runtime. (You might use the `time` function in the `time` module for measuring execution time`.\n",
    "- Compare this with the runtime of the selection sort algorithm we implemented above."
   ]
  },
  {
   "cell_type": "code",
   "execution_count": 21,
   "metadata": {
    "scrolled": true
   },
   "outputs": [
    {
     "data": {
      "text/html": [
       "<style>\n",
       "    \n",
       "    @import url('http://fonts.googleapis.com/css?family=Source+Code+Pro');\n",
       "    \n",
       "    @import url('http://fonts.googleapis.com/css?family=Kameron');\n",
       "    @import url('http://fonts.googleapis.com/css?family=Crimson+Text');\n",
       "    \n",
       "    @import url('http://fonts.googleapis.com/css?family=Lato');\n",
       "    @import url('http://fonts.googleapis.com/css?family=Source+Sans+Pro');\n",
       "    \n",
       "    @import url('http://fonts.googleapis.com/css?family=Lora'); \n",
       "\n",
       "    \n",
       "    body {\n",
       "        font-family: 'Lora', Consolas, sans-serif;\n",
       "      \n",
       "    }\n",
       "    .rendered_html code\n",
       "    {\n",
       "        color: black;\n",
       "        background: #eaf0ff;\n",
       "        padding: 1pt;\n",
       "        font-family:  'Source Code Pro', Consolas, monocco, monospace;\n",
       "    }\n",
       "    \n",
       "    .CodeMirror pre {\n",
       "    font-family: 'Source Code Pro', monocco, Consolas, monocco, monospace;\n",
       "    }\n",
       "    \n",
       "    .cm-s-ipython span.cm-keyword {\n",
       "        font-weight: normal;\n",
       "     }\n",
       "     \n",
       "     strong {\n",
       "         background: #ffe7e7;\n",
       "         padding: 1pt;\n",
       "     }\n",
       "     \n",
       "    \n",
       "    div #notebook {\n",
       "        # font-size: 10pt; \n",
       "        line-height: 145%;\n",
       "        }\n",
       "        \n",
       "    li {\n",
       "        line-heigt: 145%;\n",
       "    }\n",
       "\n",
       "    div.output_area pre {\n",
       "        background: #fffdf0;\n",
       "        padding: 3pt;\n",
       "    }\n",
       "    h1, h2, h3, h4 {\n",
       "        font-family: Kameron, arial;\n",
       "    }\n",
       "    \n",
       "    div#maintoolbar {display: none !important;}\n",
       "    </style>"
      ],
      "text/plain": [
       "<IPython.core.display.HTML object>"
      ]
     },
     "execution_count": 21,
     "metadata": {},
     "output_type": "execute_result"
    }
   ],
   "source": [
    "#REMOVEBEGIN\n",
    "# THE LINES BELOW ARE JUST FOR FORMATTING THE INSTRUCTIONS ABOVE !\n",
    "from IPython import utils, paths\n",
    "from IPython.core.display import HTML\n",
    "import os\n",
    "def css_styling():\n",
    "    \"\"\"Load default custom.css file from ipython profile\"\"\"\n",
    "    # base = utils.path.get_ipython_dir()\n",
    "    base = paths.get_ipython_dir()\n",
    "    styles = \"\"\"<style>\n",
    "    \n",
    "    @import url('http://fonts.googleapis.com/css?family=Source+Code+Pro');\n",
    "    \n",
    "    @import url('http://fonts.googleapis.com/css?family=Kameron');\n",
    "    @import url('http://fonts.googleapis.com/css?family=Crimson+Text');\n",
    "    \n",
    "    @import url('http://fonts.googleapis.com/css?family=Lato');\n",
    "    @import url('http://fonts.googleapis.com/css?family=Source+Sans+Pro');\n",
    "    \n",
    "    @import url('http://fonts.googleapis.com/css?family=Lora'); \n",
    "\n",
    "    \n",
    "    body {\n",
    "        font-family: 'Lora', Consolas, sans-serif;\n",
    "      \n",
    "    }\n",
    "    .rendered_html code\n",
    "    {\n",
    "        color: black;\n",
    "        background: #eaf0ff;\n",
    "        padding: 1pt;\n",
    "        font-family:  'Source Code Pro', Consolas, monocco, monospace;\n",
    "    }\n",
    "    \n",
    "    .CodeMirror pre {\n",
    "    font-family: 'Source Code Pro', monocco, Consolas, monocco, monospace;\n",
    "    }\n",
    "    \n",
    "    .cm-s-ipython span.cm-keyword {\n",
    "        font-weight: normal;\n",
    "     }\n",
    "     \n",
    "     strong {\n",
    "         background: #ffe7e7;\n",
    "         padding: 1pt;\n",
    "     }\n",
    "     \n",
    "    \n",
    "    div #notebook {\n",
    "        # font-size: 10pt; \n",
    "        line-height: 145%;\n",
    "        }\n",
    "        \n",
    "    li {\n",
    "        line-heigt: 145%;\n",
    "    }\n",
    "\n",
    "    div.output_area pre {\n",
    "        background: #fffdf0;\n",
    "        padding: 3pt;\n",
    "    }\n",
    "    h1, h2, h3, h4 {\n",
    "        font-family: Kameron, arial;\n",
    "    }\n",
    "    \n",
    "    div#maintoolbar {display: none !important;}\n",
    "    </style>\"\"\"\n",
    "    return HTML(styles)\n",
    "css_styling()\n",
    "#REMOVEEND"
   ]
  },
  {
   "cell_type": "code",
   "execution_count": null,
   "metadata": {},
   "outputs": [],
   "source": []
  }
 ],
 "metadata": {
  "celltoolbar": "Raw Cell Format",
  "kernelspec": {
   "display_name": "venv3.6",
   "language": "python",
   "name": "venv3.6"
  },
  "language_info": {
   "codemirror_mode": {
    "name": "ipython",
    "version": 3
   },
   "file_extension": ".py",
   "mimetype": "text/x-python",
   "name": "python",
   "nbconvert_exporter": "python",
   "pygments_lexer": "ipython3",
   "version": "3.6.0"
  }
 },
 "nbformat": 4,
 "nbformat_minor": 1
}
