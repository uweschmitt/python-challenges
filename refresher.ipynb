{
 "cells": [
  {
   "cell_type": "markdown",
   "metadata": {},
   "source": [
    "## Refresher exercises\n",
    "\n",
    "This script contains exercises to repeat topics learned during the \"Introduction to programmin with Pytho\" course.\n",
    "\n",
    "The scripts from this course are avaible at https://siscourses.ethz.ch/python_dbiol"
   ]
  },
  {
   "cell_type": "markdown",
   "metadata": {},
   "source": [
    "### if-elif-else, while and for\n",
    "1. Write a program which asks the user for a number and checks if the number is positive, negative or zero and prints an appropriate message\n",
    "\n",
    "2. Write a program which asks the user for a number `n` and then computes the sum `1 + 2 + ... + n`.\n",
    "\n",
    "3. Implement https://www.wikiwand.com/en/Fizz_buzz#/Play up to `50`.\n",
    "\n",
    "4. Implement a number guessing game: the computer creates a random number in the range `1` to `100` and asks the user to guess until the user finds the number. If the number is not correct, the computer prints a message if the guess is to low or to high.\n",
    "\n",
    "5. Redo the collatz iteration exercise 5.3 of script https://siscourses.ethz.ch/python_dbiol/04_looping.html"
   ]
  },
  {
   "cell_type": "markdown",
   "metadata": {},
   "source": [
    "### Working with strings\n",
    "\n",
    "1. Write a program which computes the relative `GC` content of a given sequence of letters `ATGC`.\n",
    "2. Extend 2 to ignore the case of the symbols in the input.\n",
    "3. Extend 3 to ignore invalid symbols in the input.\n",
    "4. Repeat https://siscourses.ethz.ch/python_dbiol/05_sequences.html#The-find-method-of-strings\n",
    "5. Write a script which reverses a given string\n",
    "6. Write a script which checks if a given string is a palindrome (the reverted string is the same string)"
   ]
  },
  {
   "cell_type": "markdown",
   "metadata": {},
   "source": [
    "### Functions\n",
    "\n",
    "1. Write a function `sum_up_to(n)` which takes an integer number `n` and returns the sum `1 + 2 + ... n`.\n",
    "\n",
    "2. Write a function `collatz_count(n)` which counts the number of collatz iterations needed to reach `1` starting with `n` (see also exercise 5.3 of script https://siscourses.ethz.ch/python_dbiol/04_looping.html)\n",
    "\n",
    "3. Write a function `collatz_values(n)` which returns a list of numbers of the collatz iterations starting with `n`.\n",
    "\n",
    "4. Write a function `is_prime(n)` which returns `True` if given `n` is prime else `False`.\n",
    "\n",
    "5. Write a function `filter_even(li)` which takes a list `li` of natural numbers an returns a list containg the even numbers of `li`.  \n",
    "\n",
    "6. Write a function `revert(txt)` which reverts a given string `txt`.\n",
    "\n",
    "7. Write a function `is_palindrome(txt)` which returns `True` if `txt` is a palindrome, else `False`."
   ]
  },
  {
   "cell_type": "markdown",
   "metadata": {},
   "source": [
    "### Files\n",
    "\n",
    "1. Write a program which writes 10 random integer numbers to a text file, one number per line\n",
    "2. Write another program which reads those numbers and computes their sum\n",
    "3. Write a program which reads the result from 1. and writes a new file containing the squares of the even numbers in the input file.\n",
    "4. Repeat https://siscourses.ethz.ch/python_dbiol/06_introduction_to_files.html#Handling-csv-files-with-Python\n",
    "5. Write a program which writes a csv file with a sheet of size 10 rows and three columns with random integer numbers\n",
    "6. Read the numbers from this csv file and compute the columnwise sums\n",
    "7. Redo https://siscourses.ethz.ch/python_dbiol/06_introduction_to_files.html#Exercise-block-5"
   ]
  },
  {
   "cell_type": "markdown",
   "metadata": {},
   "source": [
    "### Dictionaries\n",
    "\n",
    "1. Repeat https://siscourses.ethz.ch/python_dbiol/07_container_types.html#Introduction-to-dictionaries up to exercise 3.1\n",
    "2. Create a csv file with two columns: the first column contains one letter symbols of amino acids, the second the according three letter columns. Then build a dictionary for mapping one to three letter codes by reading the content of the csv file.\n",
    "3. Write a function which takes a sequence of one letter codes and translates this to a sequence of three letter codes.\n",
    "4. Repeat https://siscourses.ethz.ch/python_dbiol/07_container_types.html#Splitting--strings until exercise 4.3"
   ]
  },
  {
   "cell_type": "code",
   "execution_count": 1,
   "metadata": {},
   "outputs": [
    {
     "data": {
      "text/html": [
       "<style>\n",
       "    \n",
       "    @import url('http://fonts.googleapis.com/css?family=Source+Code+Pro');\n",
       "    \n",
       "    @import url('http://fonts.googleapis.com/css?family=Kameron');\n",
       "    @import url('http://fonts.googleapis.com/css?family=Crimson+Text');\n",
       "    \n",
       "    @import url('http://fonts.googleapis.com/css?family=Lato');\n",
       "    @import url('http://fonts.googleapis.com/css?family=Source+Sans+Pro');\n",
       "    \n",
       "    @import url('http://fonts.googleapis.com/css?family=Lora'); \n",
       "\n",
       "    \n",
       "    body {\n",
       "        font-family: 'Lora', Consolas, sans-serif;\n",
       "      \n",
       "    }\n",
       "    .rendered_html code\n",
       "    {\n",
       "        color: black;\n",
       "        background: #eaf0ff;\n",
       "        padding: 1pt;\n",
       "        font-family:  'Source Code Pro', Consolas, monocco, monospace;\n",
       "    }\n",
       "    \n",
       "    .CodeMirror pre {\n",
       "    font-family: 'Source Code Pro', monocco, Consolas, monocco, monospace;\n",
       "    }\n",
       "    \n",
       "    .cm-s-ipython span.cm-keyword {\n",
       "        font-weight: normal;\n",
       "     }\n",
       "     \n",
       "     strong {\n",
       "         background: #ffe7e7;\n",
       "         padding: 1pt;\n",
       "     }\n",
       "     \n",
       "    \n",
       "    div #notebook {\n",
       "        # font-size: 10pt; \n",
       "        line-height: 145%;\n",
       "        }\n",
       "        \n",
       "    li {\n",
       "        line-heigt: 145%;\n",
       "    }\n",
       "\n",
       "    div.output_area pre {\n",
       "        background: #fffdf0;\n",
       "        padding: 3pt;\n",
       "    }\n",
       "    h1, h2, h3, h4 {\n",
       "        font-family: Kameron, arial;\n",
       "    }\n",
       "    \n",
       "    div#maintoolbar {display: none !important;}\n",
       "    </style>"
      ],
      "text/plain": [
       "<IPython.core.display.HTML object>"
      ]
     },
     "execution_count": 1,
     "metadata": {},
     "output_type": "execute_result"
    }
   ],
   "source": [
    "#REMOVEBEGIN\n",
    "# THE LINES BELOW ARE JUST FOR FORMATTING THE INSTRUCTIONS ABOVE !\n",
    "from IPython import utils, paths\n",
    "from IPython.core.display import HTML\n",
    "import os\n",
    "def css_styling():\n",
    "    \"\"\"Load default custom.css file from ipython profile\"\"\"\n",
    "    # base = utils.path.get_ipython_dir()\n",
    "    base = paths.get_ipython_dir()\n",
    "    styles = \"\"\"<style>\n",
    "    \n",
    "    @import url('http://fonts.googleapis.com/css?family=Source+Code+Pro');\n",
    "    \n",
    "    @import url('http://fonts.googleapis.com/css?family=Kameron');\n",
    "    @import url('http://fonts.googleapis.com/css?family=Crimson+Text');\n",
    "    \n",
    "    @import url('http://fonts.googleapis.com/css?family=Lato');\n",
    "    @import url('http://fonts.googleapis.com/css?family=Source+Sans+Pro');\n",
    "    \n",
    "    @import url('http://fonts.googleapis.com/css?family=Lora'); \n",
    "\n",
    "    \n",
    "    body {\n",
    "        font-family: 'Lora', Consolas, sans-serif;\n",
    "      \n",
    "    }\n",
    "    .rendered_html code\n",
    "    {\n",
    "        color: black;\n",
    "        background: #eaf0ff;\n",
    "        padding: 1pt;\n",
    "        font-family:  'Source Code Pro', Consolas, monocco, monospace;\n",
    "    }\n",
    "    \n",
    "    .CodeMirror pre {\n",
    "    font-family: 'Source Code Pro', monocco, Consolas, monocco, monospace;\n",
    "    }\n",
    "    \n",
    "    .cm-s-ipython span.cm-keyword {\n",
    "        font-weight: normal;\n",
    "     }\n",
    "     \n",
    "     strong {\n",
    "         background: #ffe7e7;\n",
    "         padding: 1pt;\n",
    "     }\n",
    "     \n",
    "    \n",
    "    div #notebook {\n",
    "        # font-size: 10pt; \n",
    "        line-height: 145%;\n",
    "        }\n",
    "        \n",
    "    li {\n",
    "        line-heigt: 145%;\n",
    "    }\n",
    "\n",
    "    div.output_area pre {\n",
    "        background: #fffdf0;\n",
    "        padding: 3pt;\n",
    "    }\n",
    "    h1, h2, h3, h4 {\n",
    "        font-family: Kameron, arial;\n",
    "    }\n",
    "    \n",
    "    div#maintoolbar {display: none !important;}\n",
    "    </style>\"\"\"\n",
    "    return HTML(styles)\n",
    "css_styling()\n",
    "#REMOVEEND"
   ]
  },
  {
   "cell_type": "code",
   "execution_count": null,
   "metadata": {
    "collapsed": true
   },
   "outputs": [],
   "source": []
  }
 ],
 "metadata": {
  "kernelspec": {
   "display_name": "Python 3",
   "language": "python",
   "name": "python3"
  },
  "language_info": {
   "codemirror_mode": {
    "name": "ipython",
    "version": 3
   },
   "file_extension": ".py",
   "mimetype": "text/x-python",
   "name": "python",
   "nbconvert_exporter": "python",
   "pygments_lexer": "ipython3",
   "version": "3.5.1"
  }
 },
 "nbformat": 4,
 "nbformat_minor": 2
}
