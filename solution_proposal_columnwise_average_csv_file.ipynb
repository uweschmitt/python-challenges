{
 "cells": [
  {
   "cell_type": "code",
   "execution_count": 1,
   "metadata": {},
   "outputs": [],
   "source": [
    "import os\n",
    "import requests\n",
    "\n",
    "\n",
    "def download_sheet(url):\n",
    "    \"\"\"only download file if not already present.\n",
    "    \"\"\"\n",
    "    file_name = os.path.basename(url)\n",
    "    if os.path.exists(file_name):\n",
    "        return file_name  \n",
    "    data = requests.get(url).text\n",
    "    with open(file_name, \"w\") as fh:\n",
    "        fh.write(data)\n",
    "    return file_name\n",
    "        \n",
    "        \n",
    "file_name = download_sheet(\"https://siscourses.ethz.ch/python_challenges/data_grouped.csv\")"
   ]
  },
  {
   "cell_type": "code",
   "execution_count": 2,
   "metadata": {},
   "outputs": [],
   "source": [
    "def pretty_print(sheet, max_col_width=8):\n",
    "    for row in sheet:\n",
    "        for cell in row:\n",
    "            cell = str(cell)[:max_col_width]\n",
    "            cell = (max_col_width - len(cell)) * \" \" + cell\n",
    "            print(cell, end=\" \")\n",
    "        print()"
   ]
  },
  {
   "cell_type": "code",
   "execution_count": 13,
   "metadata": {},
   "outputs": [
    {
     "name": "stdout",
     "output_type": "stream",
     "text": [
      "  group1   -32.69   -17.72   -30.14    42.63    29.27    38.42 \n",
      "  group6    25.37     5.31      -49   -10.44     41.8   niente     0.62            -27.86   -15.14   -39.06 \n",
      "  group7    41.12   -14.84   -30.12   niente     0.89    14.73   -46.05 \n",
      "  group1    49.63   -34.04   niente     0.61 \n",
      "  group1      4.8    12.93 \n",
      "  group4   -28.31    -7.95    -5.41    -48.5     6.04   -41.59    25.79            -41.87    45.85        8 \n",
      "  group8     21.4    48.23    47.99     2.63     48.1   -24.46    -7.17             42.37    14.76   -24.18 \n",
      "  group6    46.01   niente     0.33    32.99     7.88    18.11   -38.27            -23.03   niente     0.45 \n",
      "  group9     6.31   -48.11    -8.45    46.44    22.75   -38.56    -5.71             18.33   -23.05   -32.08 \n",
      "  group6    30.65     3.95   -12.66    22.24     4.38   niente     0.01 \n"
     ]
    }
   ],
   "source": [
    "import csv\n",
    "\n",
    "def read_sheet(file_name):\n",
    "    with open(file_name, \"r\") as fh:\n",
    "        reader = csv.reader(fh, delimiter=\",\")\n",
    "        result = []\n",
    "        for line in reader:\n",
    "            result.append(line)\n",
    "        return result\n",
    "    \n",
    "sheet = read_sheet(file_name)\n",
    "\n",
    "# check first 10 rows\n",
    "pretty_print(sheet[:10])"
   ]
  },
  {
   "cell_type": "code",
   "execution_count": 4,
   "metadata": {},
   "outputs": [
    {
     "name": "stdout",
     "output_type": "stream",
     "text": [
      "None 1.23\n"
     ]
    }
   ],
   "source": [
    "def to_float(txt):\n",
    "    try:\n",
    "        return float(txt)\n",
    "    except ValueError:\n",
    "        return None\n",
    "    \n",
    "print(to_float(\"niente\"), to_float(\"1.23\"))"
   ]
  },
  {
   "cell_type": "code",
   "execution_count": 5,
   "metadata": {},
   "outputs": [
    {
     "name": "stdout",
     "output_type": "stream",
     "text": [
      "  group1   -32.69   -17.72   -30.14    42.63    29.27    38.42 \n",
      "  group6    25.37     5.31    -49.0   -10.44     41.8     None     0.62     None   -27.86   -15.14   -39.06 \n",
      "  group7    41.12   -14.84   -30.12     None     0.89    14.73   -46.05 \n",
      "  group1    49.63   -34.04     None     0.61 \n",
      "  group1      4.8    12.93 \n",
      "  group4   -28.31    -7.95    -5.41    -48.5     6.04   -41.59    25.79     None   -41.87    45.85      8.0 \n",
      "  group8     21.4    48.23    47.99     2.63     48.1   -24.46    -7.17     None    42.37    14.76   -24.18 \n",
      "  group6    46.01     None     0.33    32.99     7.88    18.11   -38.27     None   -23.03     None     0.45 \n",
      "  group9     6.31   -48.11    -8.45    46.44    22.75   -38.56    -5.71     None    18.33   -23.05   -32.08 \n",
      "  group6    30.65     3.95   -12.66    22.24     4.38     None     0.01 \n"
     ]
    }
   ],
   "source": [
    "def fix_invalid_numbers(sheet):\n",
    "    \"\"\"converts invalid numbers in number cells to None,\n",
    "    \"\"\"\n",
    "    result = []\n",
    "    for row in sheet:\n",
    "        new_row = [row[0]]\n",
    "        for i, cell in enumerate(row[1:]):\n",
    "            new_row.append(to_float(cell))\n",
    "        result.append(new_row)    \n",
    "    return result\n",
    "  \n",
    "fixed = fix_invalid_numbers(sheet)\n",
    "# check first 10 rows\n",
    "pretty_print(fixed[:10])    "
   ]
  },
  {
   "cell_type": "code",
   "execution_count": 6,
   "metadata": {},
   "outputs": [
    {
     "name": "stdout",
     "output_type": "stream",
     "text": [
      "  group1   -32.69   -17.72   -30.14    42.63    29.27    38.42     None     None     None     None     None \n",
      "  group6    25.37     5.31    -49.0   -10.44     41.8     None     0.62     None   -27.86   -15.14   -39.06 \n",
      "  group7    41.12   -14.84   -30.12     None     0.89    14.73   -46.05     None     None     None     None \n",
      "  group1    49.63   -34.04     None     0.61     None     None     None     None     None     None     None \n",
      "  group1      4.8    12.93     None     None     None     None     None     None     None     None     None \n",
      "  group4   -28.31    -7.95    -5.41    -48.5     6.04   -41.59    25.79     None   -41.87    45.85      8.0 \n",
      "  group8     21.4    48.23    47.99     2.63     48.1   -24.46    -7.17     None    42.37    14.76   -24.18 \n",
      "  group6    46.01     None     0.33    32.99     7.88    18.11   -38.27     None   -23.03     None     0.45 \n",
      "  group9     6.31   -48.11    -8.45    46.44    22.75   -38.56    -5.71     None    18.33   -23.05   -32.08 \n",
      "  group6    30.65     3.95   -12.66    22.24     4.38     None     0.01     None     None     None     None \n"
     ]
    }
   ],
   "source": [
    "def extend_rows(sheet):\n",
    "    \"\"\"extends rows with None values so that all rows have the same length \n",
    "    afterwards. \n",
    "    \"\"\"\n",
    "    result = []\n",
    "    max_length = max([len(row) for row in sheet])\n",
    "    for row in sheet:\n",
    "        missing = max_length - len(row)\n",
    "        fill_up = [None] * missing\n",
    "        new_row = row + fill_up\n",
    "        result.append(new_row)\n",
    "    return result\n",
    "              \n",
    "fixed = extend_rows(fixed)\n",
    "\n",
    "# check first 10 rows\n",
    "pretty_print(fixed[:10])"
   ]
  },
  {
   "cell_type": "code",
   "execution_count": 7,
   "metadata": {},
   "outputs": [
    {
     "name": "stdout",
     "output_type": "stream",
     "text": [
      "None\n",
      "None\n",
      "2.0\n",
      "2.0\n"
     ]
    }
   ],
   "source": [
    "def compute_average(values):\n",
    "    values = [v for v in values if v is not None]\n",
    "    if not values:     # empty list is handled as False\n",
    "        return None\n",
    "    return sum(values) / len(values)\n",
    "\n",
    "print(compute_average([]))\n",
    "print(compute_average([None]))\n",
    "print(compute_average([1, None, 3]))\n",
    "print(compute_average([1, 3, 2]))"
   ]
  },
  {
   "cell_type": "code",
   "execution_count": 8,
   "metadata": {},
   "outputs": [
    {
     "name": "stdout",
     "output_type": "stream",
     "text": [
      "  -32.69   -17.72   -30.14    42.63    29.27    38.42     None     None     None     None     None \n",
      "   25.37     5.31    -49.0   -10.44     41.8     None     0.62     None   -27.86   -15.14   -39.06 \n",
      "   41.12   -14.84   -30.12     None     0.89    14.73   -46.05     None     None     None     None \n",
      "   49.63   -34.04     None     0.61     None     None     None     None     None     None     None \n",
      "     4.8    12.93     None     None     None     None     None     None     None     None     None \n"
     ]
    }
   ],
   "source": [
    "def strip_first_column(sheet):\n",
    "    \"\"\"removes first comlum\"\"\"\n",
    "    return [row[1:] for row in sheet]\n",
    "\n",
    "stripped = strip_first_column(fixed)\n",
    "# check\n",
    "pretty_print(stripped[:5])"
   ]
  },
  {
   "cell_type": "code",
   "execution_count": 9,
   "metadata": {},
   "outputs": [
    {
     "name": "stdout",
     "output_type": "stream",
     "text": [
      "[3.2153333333333327, -4.317096774193548, -4.188064516129033, 5.540689655172414, -0.612666666666667, -0.5458620689655165, 5.756296296296296, None, -2.4635, 7.82888888888889, -8.241666666666667]\n"
     ]
    }
   ],
   "source": [
    "def column_wise_averages(sheet):\n",
    "    \"\"\"computes column wise average of given cells,\n",
    "    cells is a list of lists\"\"\"\n",
    "    \n",
    "    n0 = len(sheet[0])\n",
    "    column_averages = []\n",
    "    for column_index in range(n0):\n",
    "        column_values = [row[column_index] for row in sheet]\n",
    "        average = compute_average(column_values)\n",
    "        column_averages.append(average)\n",
    "        \n",
    "    return column_averages\n",
    "\n",
    "\n",
    "averages = column_wise_averages(stripped)\n",
    "print(averages)\n"
   ]
  },
  {
   "cell_type": "markdown",
   "metadata": {},
   "source": [
    "## Grouped averages"
   ]
  },
  {
   "cell_type": "code",
   "execution_count": 10,
   "metadata": {},
   "outputs": [
    {
     "name": "stdout",
     "output_type": "stream",
     "text": [
      "avail groups: dict_keys(['group1', 'group6', 'group7', 'group4', 'group8', 'group9', 'group5', 'group3', 'group0', 'group2', 'group11'])\n",
      "\n",
      "sheet of group1:\n",
      "  -32.69   -17.72   -30.14    42.63    29.27    38.42     None     None     None     None     None \n",
      "   49.63   -34.04     None     0.61     None     None     None     None     None     None     None \n",
      "     4.8    12.93     None     None     None     None     None     None     None     None     None \n",
      "   44.83    13.93    45.74     None     0.23   -31.25      6.2     None     None    20.49    -5.58 \n",
      "  -47.73    21.18   -41.08    19.02    19.02     29.2    32.78     None     None     None     None \n"
     ]
    }
   ],
   "source": [
    "from collections import defaultdict\n",
    "\n",
    "def split_sheet(sheet):\n",
    "    sheets = defaultdict(list)\n",
    "    for row in sheet:\n",
    "        group_id = row[0]\n",
    "        data = row[1:]\n",
    "        sheets[group_id].append(data)\n",
    "        \n",
    "    return sheets\n",
    "    \n",
    "sheets = split_sheet(fixed)\n",
    "print(\"avail groups:\", sheets.keys())\n",
    "print()\n",
    "print(\"sheet of group1:\")\n",
    "pretty_print(sheets[\"group1\"])"
   ]
  },
  {
   "cell_type": "code",
   "execution_count": 11,
   "metadata": {},
   "outputs": [
    {
     "name": "stdout",
     "output_type": "stream",
     "text": [
      "  group1 3.768000 -0.74399 -8.49333 20.75333 16.17333 12.12333 19.49000     None     None    20.49    -5.58 \n",
      "  group6  15.7875 3.246666  -14.662   23.044   11.242 3.619999   -8.672     None -28.3833   -15.14 -12.8166 \n",
      "  group7   5.5625 -13.9533   -17.13 22.35333 2.123333 0.357499 -6.54249     None    32.46  -25.225 0.024999 \n",
      "  group4   -31.04  -3.6775  -13.625    -18.4 -28.7099    -1.25 32.06333     None -14.2766 42.49333 2.706666 \n",
      "  group8 -7.96500 5.367499 -2.84000 -9.05666 14.04000     5.71 -1.86999     None 11.51499    7.615   -18.98 \n",
      "  group9 28.42666 -14.2133 3.247499   18.325 5.995000 -0.79249     1.63     None -2.27000     3.16     5.95 \n",
      "  group5 2.745000   -15.72 -2.42000 -1.63666 -18.4599 -28.5033 -7.21666     None -9.18666   22.265  -18.775 \n",
      "  group3 -1.40333    10.46 11.34333  -34.065 -7.42333 3.670000    29.77     None 12.65000 -4.09500   -24.41 \n",
      "  group0   -20.28    -1.98    20.28    36.91   -48.29   -32.05    22.84     None     None     0.37     None \n",
      "  group2    40.16   -44.91    26.17   -20.26     2.45    26.14     None     None   -32.63    -2.88   -30.42 \n",
      " group11     None     0.56     None     None     None     None     None     None     None     None     None \n"
     ]
    }
   ],
   "source": [
    "result_sheet = []\n",
    "for group, sheet in sheets.items():\n",
    "    averages = column_wise_averages(sheet)\n",
    "    row = [group] + averages\n",
    "    result_sheet.append(row)\n",
    "    \n",
    "pretty_print(result_sheet)"
   ]
  },
  {
   "cell_type": "code",
   "execution_count": 12,
   "metadata": {},
   "outputs": [
    {
     "data": {
      "text/html": [
       "<style>\n",
       "    \n",
       "    @import url('http://fonts.googleapis.com/css?family=Source+Code+Pro');\n",
       "    \n",
       "    @import url('http://fonts.googleapis.com/css?family=Kameron');\n",
       "    @import url('http://fonts.googleapis.com/css?family=Crimson+Text');\n",
       "    \n",
       "    @import url('http://fonts.googleapis.com/css?family=Lato');\n",
       "    @import url('http://fonts.googleapis.com/css?family=Source+Sans+Pro');\n",
       "    \n",
       "    @import url('http://fonts.googleapis.com/css?family=Lora'); \n",
       "\n",
       "    \n",
       "    body {\n",
       "        font-family: 'Lora', Consolas, sans-serif;\n",
       "      \n",
       "    }\n",
       "    .rendered_html code\n",
       "    {\n",
       "        color: black;\n",
       "        background: #eaf0ff;\n",
       "        padding: 1pt;\n",
       "        font-family:  'Source Code Pro', Consolas, monocco, monospace;\n",
       "    }\n",
       "    \n",
       "    .CodeMirror pre {\n",
       "    font-family: 'Source Code Pro', monocco, Consolas, monocco, monospace;\n",
       "    }\n",
       "    \n",
       "    .cm-s-ipython span.cm-keyword {\n",
       "        font-weight: normal;\n",
       "     }\n",
       "     \n",
       "     strong {\n",
       "         background: #ffe7e7;\n",
       "         padding: 1pt;\n",
       "     }\n",
       "     \n",
       "    \n",
       "    div #notebook {\n",
       "        # font-size: 10pt; \n",
       "        line-height: 145%;\n",
       "        }\n",
       "        \n",
       "    li {\n",
       "        line-heigt: 145%;\n",
       "    }\n",
       "\n",
       "    div.output_area pre {\n",
       "        background: #fffdf0;\n",
       "        padding: 3pt;\n",
       "    }\n",
       "    h1, h2, h3, h4 {\n",
       "        font-family: Kameron, arial;\n",
       "    }\n",
       "    \n",
       "    div#maintoolbar {display: none !important;}\n",
       "    </style>"
      ],
      "text/plain": [
       "<IPython.core.display.HTML object>"
      ]
     },
     "execution_count": 12,
     "metadata": {},
     "output_type": "execute_result"
    }
   ],
   "source": [
    "#REMOVEBEGIN\n",
    "# THE LINES BELOW ARE JUST FOR FORMATTING THE INSTRUCTIONS ABOVE !\n",
    "from IPython import utils, paths\n",
    "from IPython.core.display import HTML\n",
    "import os\n",
    "def css_styling():\n",
    "    \"\"\"Load default custom.css file from ipython profile\"\"\"\n",
    "    # base = utils.path.get_ipython_dir()\n",
    "    base = paths.get_ipython_dir()\n",
    "    styles = \"\"\"<style>\n",
    "    \n",
    "    @import url('http://fonts.googleapis.com/css?family=Source+Code+Pro');\n",
    "    \n",
    "    @import url('http://fonts.googleapis.com/css?family=Kameron');\n",
    "    @import url('http://fonts.googleapis.com/css?family=Crimson+Text');\n",
    "    \n",
    "    @import url('http://fonts.googleapis.com/css?family=Lato');\n",
    "    @import url('http://fonts.googleapis.com/css?family=Source+Sans+Pro');\n",
    "    \n",
    "    @import url('http://fonts.googleapis.com/css?family=Lora'); \n",
    "\n",
    "    \n",
    "    body {\n",
    "        font-family: 'Lora', Consolas, sans-serif;\n",
    "      \n",
    "    }\n",
    "    .rendered_html code\n",
    "    {\n",
    "        color: black;\n",
    "        background: #eaf0ff;\n",
    "        padding: 1pt;\n",
    "        font-family:  'Source Code Pro', Consolas, monocco, monospace;\n",
    "    }\n",
    "    \n",
    "    .CodeMirror pre {\n",
    "    font-family: 'Source Code Pro', monocco, Consolas, monocco, monospace;\n",
    "    }\n",
    "    \n",
    "    .cm-s-ipython span.cm-keyword {\n",
    "        font-weight: normal;\n",
    "     }\n",
    "     \n",
    "     strong {\n",
    "         background: #ffe7e7;\n",
    "         padding: 1pt;\n",
    "     }\n",
    "     \n",
    "    \n",
    "    div #notebook {\n",
    "        # font-size: 10pt; \n",
    "        line-height: 145%;\n",
    "        }\n",
    "        \n",
    "    li {\n",
    "        line-heigt: 145%;\n",
    "    }\n",
    "\n",
    "    div.output_area pre {\n",
    "        background: #fffdf0;\n",
    "        padding: 3pt;\n",
    "    }\n",
    "    h1, h2, h3, h4 {\n",
    "        font-family: Kameron, arial;\n",
    "    }\n",
    "    \n",
    "    div#maintoolbar {display: none !important;}\n",
    "    </style>\"\"\"\n",
    "    return HTML(styles)\n",
    "css_styling()\n",
    "#REMOVEEND"
   ]
  },
  {
   "cell_type": "code",
   "execution_count": null,
   "metadata": {},
   "outputs": [],
   "source": []
  }
 ],
 "metadata": {
  "kernelspec": {
   "display_name": "Python 3",
   "language": "python",
   "name": "python3"
  },
  "language_info": {
   "codemirror_mode": {
    "name": "ipython",
    "version": 3
   },
   "file_extension": ".py",
   "mimetype": "text/x-python",
   "name": "python",
   "nbconvert_exporter": "python",
   "pygments_lexer": "ipython3",
   "version": "3.6.0"
  }
 },
 "nbformat": 4,
 "nbformat_minor": 2
}
