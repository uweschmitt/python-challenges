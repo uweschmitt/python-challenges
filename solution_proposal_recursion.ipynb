{
 "cells": [
  {
   "cell_type": "code",
   "execution_count": 1,
   "metadata": {},
   "outputs": [
    {
     "name": "stdout",
     "output_type": "stream",
     "text": [
      "6\n"
     ]
    }
   ],
   "source": [
    "def sum_up(n):\n",
    "    if n == 0:\n",
    "        return n\n",
    "    return n + sum_up(n - 1)\n",
    "\n",
    "print(sum_up(3))\n"
   ]
  },
  {
   "cell_type": "code",
   "execution_count": 2,
   "metadata": {},
   "outputs": [
    {
     "name": "stdout",
     "output_type": "stream",
     "text": [
      "7\n"
     ]
    }
   ],
   "source": [
    "def sum_elements(li):\n",
    "    if not li:\n",
    "        return 0\n",
    "    return li[0] + sum_elements(li[1:])\n",
    "\n",
    "print(sum_elements([1, 1, 2, 3]))"
   ]
  },
  {
   "cell_type": "code",
   "execution_count": 3,
   "metadata": {},
   "outputs": [],
   "source": [
    "def quicksort(li):\n",
    "    if not li:\n",
    "        return []\n",
    "    pivot = li[0]\n",
    "    left = [e for e in li[1:] if e <= pivot]\n",
    "    right = [e for e in li[1:] if e > pivot]\n",
    "    return quicksort(left) + [pivot] + quicksort(right)"
   ]
  },
  {
   "cell_type": "markdown",
   "metadata": {},
   "source": [
    "### random test"
   ]
  },
  {
   "cell_type": "code",
   "execution_count": 4,
   "metadata": {},
   "outputs": [
    {
     "name": "stdout",
     "output_type": "stream",
     "text": [
      "x x x x x x x x x x "
     ]
    }
   ],
   "source": [
    "import random\n",
    "\n",
    "for i in range(1000):\n",
    "    if i% 100 == 0:\n",
    "        print(\"x\", end=\" \")\n",
    "    # als include duplicate elements:\n",
    "    data = list(range(100)) + list(range(50))\n",
    "    random.shuffle(data)\n",
    "    assert quicksort(data) == sorted(data)"
   ]
  },
  {
   "cell_type": "markdown",
   "metadata": {},
   "source": [
    "## About the speed of quicksort"
   ]
  },
  {
   "cell_type": "code",
   "execution_count": 17,
   "metadata": {},
   "outputs": [
    {
     "name": "stdout",
     "output_type": "stream",
     "text": [
      "1000 0 1 2 3 4 5 6 7 8 9 \n",
      "5000 0 1 2 3 4 5 6 7 8 9 \n",
      "8000 0 1 2 3 4 5 6 7 8 9 \n",
      "10000 0 1 2 3 4 5 6 7 8 9 \n",
      "25000 0 1 2 3 4 5 6 7 8 9 \n",
      "50000 0 1 2 3 4 5 6 7 8 9 \n",
      "100000 0 1 2 3 4 5 6 7 8 9 \n",
      "500000 0 1 2 3 4 5 6 7 8 9 \n"
     ]
    }
   ],
   "source": [
    "import time\n",
    "import numpy as np\n",
    "from statistics import median\n",
    "\n",
    "\n",
    "def benchmark(algorithm, sizes, do_shuffle):\n",
    "    \"\"\"\n",
    "    measures run time of \"algorighm\" for different input data sizes.\n",
    "    runs for every size quicksort multiple times and takes median\n",
    "    to compensate bias of time measurement due to background \n",
    "    processes on the computer.\n",
    "    \n",
    "    do_shuffle = True uses randomly shuffled data,\n",
    "    else data is not sorted but in increasing order.\n",
    "    \n",
    "    \"\"\"\n",
    "    all_times = []\n",
    "\n",
    "    for size in sizes:\n",
    "        data = list(range(size))\n",
    "        times = []\n",
    "        print(size, end=\" \")\n",
    "        for i in range(10):\n",
    "            print(i, end=\" \")\n",
    "            if do_shuffle:\n",
    "                random.shuffle(data)\n",
    "            started = time.time()\n",
    "            algorithm(data)\n",
    "            needed = time.time() - started\n",
    "            times.append(needed)\n",
    "\n",
    "        print()\n",
    "        all_times.append(median(times))\n",
    "        \n",
    "    return np.array(all_times)\n",
    "    \n",
    "sizes = np.array((1000, 5000, 8000, 10000, 25000, 50000, 100000, 500000))\n",
    "\n",
    "all_times = benchmark(quicksort, sizes, True)"
   ]
  },
  {
   "cell_type": "code",
   "execution_count": 6,
   "metadata": {},
   "outputs": [],
   "source": [
    "from matplotlib import pyplot\n",
    "import math"
   ]
  },
  {
   "cell_type": "raw",
   "metadata": {},
   "source": [
    "%pylab inline"
   ]
  },
  {
   "cell_type": "code",
   "execution_count": 7,
   "metadata": {},
   "outputs": [
    {
     "data": {
      "image/png": "[encoded data removed]",
      "text/plain": [
       "<matplotlib.figure.Figure at 0x10b1bed68>"
      ]
     },
     "metadata": {},
     "output_type": "display_data"
    }
   ],
   "source": [
    "pyplot.plot(sizes, all_times, label=\"qsort\")\n",
    "\n",
    "pyplot.legend()\n",
    "pyplot.show()"
   ]
  },
  {
   "cell_type": "markdown",
   "metadata": {},
   "source": [
    "Theory shows that runtime of quicksort for $n$ elements is on average proportional to $n \\log{n}$ for large $n$, which grows only slightly faster than $n$.\n"
   ]
  },
  {
   "cell_type": "code",
   "execution_count": 8,
   "metadata": {},
   "outputs": [
    {
     "name": "stdout",
     "output_type": "stream",
     "text": [
      "[  3.75574561e-07  -1.18869857e-02]\n"
     ]
    },
    {
     "data": {
      "image/png": "[encoded data removed]",
      "text/plain": [
       "<matplotlib.figure.Figure at 0x10d37f7b8>"
      ]
     },
     "metadata": {},
     "output_type": "display_data"
    }
   ],
   "source": [
    "from scipy.optimize import curve_fit\n",
    "\n",
    "def nlogn(x, a, c):\n",
    "    return a * np.log(x) * x + c\n",
    "\n",
    "params, __ = curve_fit(nlogn, sizes, all_times)\n",
    "print(params)\n",
    "\n",
    "pyplot.plot(sizes, all_times, label=\"qsort\")\n",
    "\n",
    "pyplot.plot(sizes, nlogn(sizes, *params), \":\", label=\"n log(n) fit\")\n",
    "pyplot.legend()\n",
    "pyplot.show()"
   ]
  },
  {
   "cell_type": "markdown",
   "metadata": {},
   "source": [
    "\n",
    "The situation is different for already sorted data or reversely sorted data. In this case either `left` or `right` is the full list except the pivot element, and thus we don't divide our problem into signifcantly smaller sub problems.\n"
   ]
  },
  {
   "cell_type": "code",
   "execution_count": 9,
   "metadata": {
    "scrolled": true
   },
   "outputs": [
    {
     "name": "stdout",
     "output_type": "stream",
     "text": [
      "10 10 10 10 10 10 \n",
      "100 100 100 100 100 100 \n",
      "500 500 500 500 500 500 \n",
      "1000 1000 1000 1000 1000 1000 \n",
      "1500 1500 1500 1500 1500 1500 \n",
      "2000 2000 2000 2000 2000 2000 \n"
     ]
    }
   ],
   "source": [
    "import time\n",
    "from statistics import median\n",
    "\n",
    "sizes = np.array((10, 100, 500, 1000, 1500, 2000))\n",
    "\n",
    "all_times = benchmark(quick_sort, sizes, False)"
   ]
  },
  {
   "cell_type": "code",
   "execution_count": 13,
   "metadata": {},
   "outputs": [],
   "source": [
    "def quadratic(x, a, b):\n",
    "    return a * x**2 + b\n",
    "\n",
    "params, __ = curve_fit(quadratic, sizes, all_times)"
   ]
  },
  {
   "cell_type": "code",
   "execution_count": 14,
   "metadata": {},
   "outputs": [
    {
     "name": "stdout",
     "output_type": "stream",
     "text": [
      "[  5.40499156e-08   2.99591137e-05]\n"
     ]
    }
   ],
   "source": [
    "print(params)"
   ]
  },
  {
   "cell_type": "code",
   "execution_count": 16,
   "metadata": {},
   "outputs": [
    {
     "data": {
      "image/png": "[encoded data removed]",
      "text/plain": [
       "<matplotlib.figure.Figure at 0x10b248940>"
      ]
     },
     "metadata": {},
     "output_type": "display_data"
    }
   ],
   "source": [
    "pyplot.plot(sizes, all_times, label=\"qsort worst case\")\n",
    "\n",
    "fitted = quadratic(sizes, *params)\n",
    "\n",
    "fac = all_times[0] / sizes[0]\n",
    "pyplot.plot(sizes, fitted, \":\", label=\"quadratic fit\")\n",
    "pyplot.legend()\n",
    "pyplot.show()"
   ]
  },
  {
   "cell_type": "markdown",
   "metadata": {},
   "source": [
    "Now we benchmark the built in `sorted` function:"
   ]
  },
  {
   "cell_type": "code",
   "execution_count": 18,
   "metadata": {},
   "outputs": [
    {
     "name": "stdout",
     "output_type": "stream",
     "text": [
      "1000 0 1 2 3 4 5 6 7 8 9 \n",
      "5000 0 1 2 3 4 5 6 7 8 9 \n",
      "8000 0 1 2 3 4 5 6 7 8 9 \n",
      "10000 0 1 2 3 4 5 6 7 8 9 \n",
      "25000 0 1 2 3 4 5 6 7 8 9 \n",
      "50000 0 1 2 3 4 5 6 7 8 9 \n",
      "100000 0 1 2 3 4 5 6 7 8 9 \n",
      "500000 0 1 2 3 4 5 6 7 8 9 \n"
     ]
    }
   ],
   "source": [
    "sizes = np.array((1000, 5000, 8000, 10000, 25000, 50000, 100000, 500000))\n",
    "\n",
    "all_times = benchmark(sorted, sizes, True)"
   ]
  },
  {
   "cell_type": "code",
   "execution_count": 23,
   "metadata": {},
   "outputs": [
    {
     "name": "stdout",
     "output_type": "stream",
     "text": [
      "[  6.09653929e-07  -6.65902094e-03]\n"
     ]
    },
    {
     "data": {
      "image/png": "[encoded data removed]",
      "text/plain": [
       "<matplotlib.figure.Figure at 0x10d6e6080>"
      ]
     },
     "metadata": {},
     "output_type": "display_data"
    }
   ],
   "source": [
    "def linear(x, a, c):\n",
    "    return a * x + c\n",
    "\n",
    "params, __ = curve_fit(linear, sizes, all_times)\n",
    "print(params)\n",
    "\n",
    "pyplot.plot(sizes, all_times, label=\"sorted\")\n",
    "\n",
    "pyplot.plot(sizes, linear(sizes, *params), \":\", label=\"n log(n) fit\")\n",
    "pyplot.legend()\n",
    "pyplot.show()"
   ]
  },
  {
   "cell_type": "code",
   "execution_count": 24,
   "metadata": {},
   "outputs": [
    {
     "data": {
      "text/html": [
       "<style>\n",
       "    \n",
       "    @import url('http://fonts.googleapis.com/css?family=Source+Code+Pro');\n",
       "    \n",
       "    @import url('http://fonts.googleapis.com/css?family=Kameron');\n",
       "    @import url('http://fonts.googleapis.com/css?family=Crimson+Text');\n",
       "    \n",
       "    @import url('http://fonts.googleapis.com/css?family=Lato');\n",
       "    @import url('http://fonts.googleapis.com/css?family=Source+Sans+Pro');\n",
       "    \n",
       "    @import url('http://fonts.googleapis.com/css?family=Lora'); \n",
       "\n",
       "    \n",
       "    body {\n",
       "        font-family: 'Lora', Consolas, sans-serif;\n",
       "      \n",
       "    }\n",
       "    .rendered_html code\n",
       "    {\n",
       "        color: black;\n",
       "        background: #eaf0ff;\n",
       "        padding: 1pt;\n",
       "        font-family:  'Source Code Pro', Consolas, monocco, monospace;\n",
       "    }\n",
       "    \n",
       "    .CodeMirror pre {\n",
       "    font-family: 'Source Code Pro', monocco, Consolas, monocco, monospace;\n",
       "    }\n",
       "    \n",
       "    .cm-s-ipython span.cm-keyword {\n",
       "        font-weight: normal;\n",
       "     }\n",
       "     \n",
       "     strong {\n",
       "         background: #ffe7e7;\n",
       "         padding: 1pt;\n",
       "     }\n",
       "     \n",
       "    \n",
       "    div #notebook {\n",
       "        # font-size: 10pt; \n",
       "        line-height: 145%;\n",
       "        }\n",
       "        \n",
       "    li {\n",
       "        line-heigt: 145%;\n",
       "    }\n",
       "\n",
       "    div.output_area pre {\n",
       "        background: #fffdf0;\n",
       "        padding: 3pt;\n",
       "    }\n",
       "    h1, h2, h3, h4 {\n",
       "        font-family: Kameron, arial;\n",
       "    }\n",
       "    \n",
       "    div#maintoolbar {display: none !important;}\n",
       "    </style>"
      ],
      "text/plain": [
       "<IPython.core.display.HTML object>"
      ]
     },
     "execution_count": 24,
     "metadata": {},
     "output_type": "execute_result"
    }
   ],
   "source": [
    "#REMOVEBEGIN\n",
    "# THE LINES BELOW ARE JUST FOR FORMATTING THE INSTRUCTIONS ABOVE !\n",
    "from IPython import utils, paths\n",
    "from IPython.core.display import HTML\n",
    "import os\n",
    "def css_styling():\n",
    "    \"\"\"Load default custom.css file from ipython profile\"\"\"\n",
    "    # base = utils.path.get_ipython_dir()\n",
    "    base = paths.get_ipython_dir()\n",
    "    styles = \"\"\"<style>\n",
    "    \n",
    "    @import url('http://fonts.googleapis.com/css?family=Source+Code+Pro');\n",
    "    \n",
    "    @import url('http://fonts.googleapis.com/css?family=Kameron');\n",
    "    @import url('http://fonts.googleapis.com/css?family=Crimson+Text');\n",
    "    \n",
    "    @import url('http://fonts.googleapis.com/css?family=Lato');\n",
    "    @import url('http://fonts.googleapis.com/css?family=Source+Sans+Pro');\n",
    "    \n",
    "    @import url('http://fonts.googleapis.com/css?family=Lora'); \n",
    "\n",
    "    \n",
    "    body {\n",
    "        font-family: 'Lora', Consolas, sans-serif;\n",
    "      \n",
    "    }\n",
    "    .rendered_html code\n",
    "    {\n",
    "        color: black;\n",
    "        background: #eaf0ff;\n",
    "        padding: 1pt;\n",
    "        font-family:  'Source Code Pro', Consolas, monocco, monospace;\n",
    "    }\n",
    "    \n",
    "    .CodeMirror pre {\n",
    "    font-family: 'Source Code Pro', monocco, Consolas, monocco, monospace;\n",
    "    }\n",
    "    \n",
    "    .cm-s-ipython span.cm-keyword {\n",
    "        font-weight: normal;\n",
    "     }\n",
    "     \n",
    "     strong {\n",
    "         background: #ffe7e7;\n",
    "         padding: 1pt;\n",
    "     }\n",
    "     \n",
    "    \n",
    "    div #notebook {\n",
    "        # font-size: 10pt; \n",
    "        line-height: 145%;\n",
    "        }\n",
    "        \n",
    "    li {\n",
    "        line-heigt: 145%;\n",
    "    }\n",
    "\n",
    "    div.output_area pre {\n",
    "        background: #fffdf0;\n",
    "        padding: 3pt;\n",
    "    }\n",
    "    h1, h2, h3, h4 {\n",
    "        font-family: Kameron, arial;\n",
    "    }\n",
    "    \n",
    "    div#maintoolbar {display: none !important;}\n",
    "    </style>\"\"\"\n",
    "    return HTML(styles)\n",
    "css_styling()\n",
    "#REMOVEEND"
   ]
  }
 ],
 "metadata": {
  "kernelspec": {
   "display_name": "Python 3",
   "language": "python",
   "name": "python3"
  },
  "language_info": {
   "codemirror_mode": {
    "name": "ipython",
    "version": 3
   },
   "file_extension": ".py",
   "mimetype": "text/x-python",
   "name": "python",
   "nbconvert_exporter": "python",
   "pygments_lexer": "ipython3",
   "version": "3.6.0"
  }
 },
 "nbformat": 4,
 "nbformat_minor": 2
}
