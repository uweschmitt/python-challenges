{
 "cells": [
  {
   "cell_type": "code",
   "execution_count": 6,
   "metadata": {},
   "outputs": [
    {
     "name": "stdout",
     "output_type": "stream",
     "text": [
      "b'{\"base\":\"EUR\",\"date\":\"2014-01-03\",\"rates\":{\"AUD\":1.5156,\"BGN\":1.9558,\"BRL\":3.2373,\"CAD\":1.4468,\"CHF\":1.2309,\"CNY\":8.2569,\"CZK\":27.525,\"DKK\":7.4586,\"GBP\":0.83045,\"HKD\":10.573,\"HRK\":7.628,\"HUF\":298.66,\"IDR\":16533.0,\"ILS\":4.7749,\"INR\":84.802,\"JPY\":142.46,\"KRW\":1438.7,\"LTL\":3.4528,\"MXN\":17.821,\"MYR\":4.476,\"NOK\":8.3585,\"NZD\":1.6434,\"PHP\":60.892,\"PLN\":4.1658,\"RON\":4.4879,\"RUB\":45.139,\"SEK\":8.8561,\"SGD\":1.7244,\"THB\":45.022,\"TRY\":2.9637,\"USD\":1.3634,\"ZAR\":14.439}}'\n",
      "1.2309\n"
     ]
    }
   ],
   "source": [
    "import json\n",
    "import urllib.request\n",
    "\n",
    "url = \"http://api.fixer.io/2014-01-03\"\n",
    "response_bytes = urllib.request.urlopen(url).read()\n",
    "print(response_bytes)\n",
    "\n",
    "data = json.loads(response_bytes)\n",
    "print(data[\"rates\"][\"CHF\"])"
   ]
  },
  {
   "cell_type": "code",
   "execution_count": 56,
   "metadata": {},
   "outputs": [
    {
     "name": "stdout",
     "output_type": "stream",
     "text": [
      "1.2024\n",
      "1.1691\n",
      "cache hit !\n",
      "1.1691\n",
      "cache hit !\n",
      "1.1691\n"
     ]
    }
   ],
   "source": [
    "import time\n",
    "\n",
    "def fetch_exchange_rate(year, month, day, _cache={}):\n",
    "    date_str = \"{:4d}-{:02d}-{:02d}\".format(year, month, day)\n",
    "    if date_str in _cache:\n",
    "        print(\"cache hit !\")\n",
    "        return _cache[date_str]\n",
    "    url = \"http://api.fixer.io/{}\".format(date_str)\n",
    "    response_bytes = urllib.request.urlopen(url).read()\n",
    "    data = json.loads(response_bytes)\n",
    "    result = data[\"rates\"][\"CHF\"]\n",
    "    _cache[date_str] = result\n",
    "   \n",
    "    return result\n",
    "\n",
    "\n",
    "print(fetch_exchange_rate(2015, 1, 1))\n",
    "print(fetch_exchange_rate(2017, 12, 1))\n",
    "print(fetch_exchange_rate(2017, 12, 1))\n",
    "print(fetch_exchange_rate(2017, 12, 1))   "
   ]
  },
  {
   "cell_type": "code",
   "execution_count": 63,
   "metadata": {},
   "outputs": [
    {
     "name": "stdout",
     "output_type": "stream",
     "text": [
      "key (2017, 12, 1) not in cache\n",
      "1.1691\n",
      "1.1691\n",
      "1.1691\n"
     ]
    }
   ],
   "source": [
    "from functools import wraps\n",
    "\n",
    "def cache(function):\n",
    "    cache = {}\n",
    "    def wrapped(*args, **kwargs):\n",
    "        key = args + tuple(kwargs.items())\n",
    "        if key not in cache:\n",
    "            print(\"key\", key, \"not in cache\")\n",
    "            cache[key] = function(*args, **kwargs)\n",
    "        return cache[key]\n",
    "    return wrapped\n",
    "\n",
    "\n",
    "\n",
    "def fetch_exchange_rate(year, month, day, _cache={}):\n",
    "    date_str = \"{:4d}-{:02d}-{:02d}\".format(year, month, day)\n",
    "    url = \"http://api.fixer.io/{}\".format(date_str)\n",
    "    response_bytes = urllib.request.urlopen(url).read()\n",
    "    data = json.loads(response_bytes)\n",
    "    return data[\"rates\"][\"CHF\"]\n",
    "\n",
    "\n",
    "fetch_exchange_rate = cache(fetch_exchange_rate)\n",
    "\n",
    "print(fetch_exchange_rate(2017, 12, 1))\n",
    "print(fetch_exchange_rate(2017, 12, 1))\n",
    "print(fetch_exchange_rate(2017, 12, 1))"
   ]
  },
  {
   "cell_type": "code",
   "execution_count": 64,
   "metadata": {},
   "outputs": [
    {
     "name": "stdout",
     "output_type": "stream",
     "text": [
      "key (2015, 1, 1) not in cache\n",
      "1.2024\n",
      "key (2017, 12, 1) not in cache\n",
      "1.1691\n",
      "1.1691\n",
      "1.1691\n"
     ]
    }
   ],
   "source": [
    "@cache\n",
    "def fetch_exchange_rate(year, month, day, _cache={}):\n",
    "    date_str = \"{:4d}-{:02d}-{:02d}\".format(year, month, day)\n",
    "    url = \"http://api.fixer.io/{}\".format(date_str)\n",
    "    response_bytes = urllib.request.urlopen(url).read()\n",
    "    data = json.loads(response_bytes)\n",
    "    return data[\"rates\"][\"CHF\"]\n",
    "\n",
    "print(fetch_exchange_rate(2015, 1, 1))\n",
    "print(fetch_exchange_rate(2017, 12, 1))\n",
    "print(fetch_exchange_rate(2017, 12, 1))\n",
    "print(fetch_exchange_rate(2017, 12, 1))\n",
    "    "
   ]
  },
  {
   "cell_type": "code",
   "execution_count": 65,
   "metadata": {},
   "outputs": [],
   "source": [
    "def to_list(generator):\n",
    "    def wrapped(*args, **kwargs):\n",
    "        return list(generator(*args, **kwargs))\n",
    "    return wrapped"
   ]
  },
  {
   "cell_type": "code",
   "execution_count": 66,
   "metadata": {},
   "outputs": [],
   "source": [
    "from datetime import datetime\n",
    "\n",
    "@to_list\n",
    "def first_month_rates():\n",
    "    for year in (2015, 2016, 2017):\n",
    "        for month in range(1, 13):\n",
    "            yield datetime(year, month, 1), fetch_exchange_rate(year, month, 1)\n",
    "            \n"
   ]
  },
  {
   "cell_type": "code",
   "execution_count": 67,
   "metadata": {},
   "outputs": [
    {
     "name": "stdout",
     "output_type": "stream",
     "text": [
      "key (2015, 2, 1) not in cache\n",
      "key (2015, 3, 1) not in cache\n",
      "key (2015, 4, 1) not in cache\n",
      "key (2015, 5, 1) not in cache\n",
      "key (2015, 6, 1) not in cache\n",
      "key (2015, 7, 1) not in cache\n",
      "key (2015, 8, 1) not in cache\n",
      "key (2015, 9, 1) not in cache\n",
      "key (2015, 10, 1) not in cache\n",
      "key (2015, 11, 1) not in cache\n",
      "key (2015, 12, 1) not in cache\n",
      "key (2016, 1, 1) not in cache\n",
      "key (2016, 2, 1) not in cache\n",
      "key (2016, 3, 1) not in cache\n",
      "key (2016, 4, 1) not in cache\n",
      "key (2016, 5, 1) not in cache\n",
      "key (2016, 6, 1) not in cache\n",
      "key (2016, 7, 1) not in cache\n",
      "key (2016, 8, 1) not in cache\n",
      "key (2016, 9, 1) not in cache\n",
      "key (2016, 10, 1) not in cache\n",
      "key (2016, 11, 1) not in cache\n",
      "key (2016, 12, 1) not in cache\n",
      "key (2017, 1, 1) not in cache\n",
      "key (2017, 2, 1) not in cache\n",
      "key (2017, 3, 1) not in cache\n",
      "key (2017, 4, 1) not in cache\n",
      "key (2017, 5, 1) not in cache\n",
      "key (2017, 6, 1) not in cache\n",
      "key (2017, 7, 1) not in cache\n",
      "key (2017, 8, 1) not in cache\n",
      "key (2017, 9, 1) not in cache\n",
      "key (2017, 10, 1) not in cache\n",
      "key (2017, 11, 1) not in cache\n"
     ]
    },
    {
     "data": {
      "image/png": "[encoded data removed]",
      "text/plain": [
       "<matplotlib.figure.Figure at 0x1074f26a0>"
      ]
     },
     "metadata": {},
     "output_type": "display_data"
    }
   ],
   "source": [
    "from matplotlib import pylab\n",
    "\n",
    "dates_and_rates = first_month_rates()\n",
    "dates = [date for (date, rate) in dates_and_rates]\n",
    "rates = [rate for (date, rate) in dates_and_rates]\n",
    "\n",
    "pylab.figure(figsize=(20,4))\n",
    "pylab.plot(dates, rates)\n",
    "pylab.show()"
   ]
  },
  {
   "cell_type": "code",
   "execution_count": 78,
   "metadata": {},
   "outputs": [
    {
     "name": "stdout",
     "output_type": "stream",
     "text": [
      "key (2016, 1) not in cache\n"
     ]
    },
    {
     "data": {
      "text/plain": [
       "(datetime.datetime(2016, 1, 1, 0, 0), 1.093974193548387)"
      ]
     },
     "execution_count": 78,
     "metadata": {},
     "output_type": "execute_result"
    }
   ],
   "source": [
    "from statistics import mean\n",
    "import time\n",
    "\n",
    "def is_leap_year(year):\n",
    "    if year % 400 == 0:\n",
    "        return True\n",
    "    if year % 100 == 0:\n",
    "        return False\n",
    "    return year % 4 == 0\n",
    "\n",
    "\n",
    "def last_day(year, month):\n",
    "    if month == 2:\n",
    "        return 29 if is_leap_year(year) else 28\n",
    "    if month in (1, 3, 5, 7, 8, 10, 12):\n",
    "        return 31\n",
    "    return 30\n",
    "\n",
    "@cache\n",
    "def monthly_average_exchange_rate(year, month):\n",
    "    rates = []\n",
    "    for day in range(1, last_day(year, month) + 1):\n",
    "        rates.append(fetch_exchange_rate(year, month, day))\n",
    "        time.sleep(.2)\n",
    "       \n",
    "    return datetime(year, month, 1), mean(rates)\n",
    "\n",
    "monthly_average_exchange_rate(2016, 1)    "
   ]
  },
  {
   "cell_type": "code",
   "execution_count": 80,
   "metadata": {},
   "outputs": [
    {
     "data": {
      "image/png": "[encoded data removed]",
      "text/plain": [
       "<matplotlib.figure.Figure at 0x10728ea90>"
      ]
     },
     "metadata": {},
     "output_type": "display_data"
    }
   ],
   "source": [
    "dates_and_rates = first_month_rates()\n",
    "dates = [date for (date, rate) in dates_and_rates]\n",
    "rates = [rate for (date, rate) in dates_and_rates]\n",
    "\n",
    "pylab.figure(figsize=(20,4))\n",
    "pylab.plot(dates, rates)\n",
    "\n",
    "while True:\n",
    "    try:\n",
    "        dates_and_rates = [monthly_average_exchange_rate(2017, month) for month in range(1, 13)]\n",
    "    except urllib.request.HTTPError:\n",
    "        print(\"try again\")\n",
    "        time.sleep(3)\n",
    "        continue\n",
    "    break\n",
    "    \n",
    "\n",
    "dates = [date for (date, rate) in dates_and_rates]\n",
    "rates = [rate for (date, rate) in dates_and_rates]\n",
    "\n",
    "pylab.plot(dates, rates, \"r:\")\n",
    "pylab.show()"
   ]
  },
  {
   "cell_type": "code",
   "execution_count": null,
   "metadata": {},
   "outputs": [],
   "source": []
  }
 ],
 "metadata": {
  "kernelspec": {
   "display_name": "Python 3",
   "language": "python",
   "name": "python3"
  },
  "language_info": {
   "codemirror_mode": {
    "name": "ipython",
    "version": 3
   },
   "file_extension": ".py",
   "mimetype": "text/x-python",
   "name": "python",
   "nbconvert_exporter": "python",
   "pygments_lexer": "ipython3",
   "version": "3.6.0"
  }
 },
 "nbformat": 4,
 "nbformat_minor": 2
}
