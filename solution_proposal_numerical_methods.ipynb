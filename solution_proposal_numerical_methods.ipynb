{
 "cells": [
  {
   "cell_type": "code",
   "execution_count": 1,
   "metadata": {},
   "outputs": [
    {
     "name": "stdout",
     "output_type": "stream",
     "text": [
      "   0 x_mid=+1.00000e+00  f(x_mid)=-1.00000e+00\n",
      "   1 x_mid=+1.50000e+00  f(x_mid)=+2.50000e-01\n",
      "   2 x_mid=+1.25000e+00  f(x_mid)=-4.37500e-01\n",
      "   3 x_mid=+1.37500e+00  f(x_mid)=-1.09375e-01\n",
      "   4 x_mid=+1.43750e+00  f(x_mid)=+6.64062e-02\n",
      "   5 x_mid=+1.40625e+00  f(x_mid)=-2.24609e-02\n",
      "   6 x_mid=+1.42188e+00  f(x_mid)=+2.17285e-02\n",
      "   7 x_mid=+1.41406e+00  f(x_mid)=-4.27246e-04\n",
      "   8 x_mid=+1.41797e+00  f(x_mid)=+1.06354e-02\n",
      "   9 x_mid=+1.41602e+00  f(x_mid)=+5.10025e-03\n",
      "  10 x_mid=+1.41504e+00  f(x_mid)=+2.33555e-03\n",
      "  11 x_mid=+1.41455e+00  f(x_mid)=+9.53913e-04\n",
      "  12 x_mid=+1.41431e+00  f(x_mid)=+2.63274e-04\n",
      "  13 x_mid=+1.41418e+00  f(x_mid)=-8.20011e-05\n",
      "  14 x_mid=+1.41425e+00  f(x_mid)=+9.06326e-05\n",
      "  15 x_mid=+1.41422e+00  f(x_mid)=+4.31482e-06\n",
      "  16 x_mid=+1.41420e+00  f(x_mid)=-3.88434e-05\n",
      "  17 x_mid=+1.41421e+00  f(x_mid)=-1.72643e-05\n",
      "1.4142112731933594\n"
     ]
    }
   ],
   "source": [
    "def find_root_bisect(function, x0, x1, eps=1e-5, max_iter=10000, debug=False):\n",
    "    \n",
    "    assert x0 < x1\n",
    "    assert function(x0) < 0, \"need monotonous growing function + suitable x values\"\n",
    "    assert function(x1) > 0, \"need monotonous growing function + suitable x values\"\n",
    "    \n",
    "    iter_count = 0\n",
    "    \n",
    "    while x1 - x0 > eps and iter_count < max_iter:\n",
    "        x_mid = (x0 + x1) / 2\n",
    "        f_mid = function(x_mid)\n",
    "        if debug:\n",
    "            print(\"{:4d} x_mid={:+.5e}  f(x_mid)={:+.5e}\".format(iter_count, x_mid, f_mid))\n",
    "        if f_mid < 0:\n",
    "            x0 = x_mid\n",
    "        else:\n",
    "            x1 = x_mid\n",
    "            \n",
    "        iter_count += 1\n",
    "        \n",
    "    if x1 - x0 > eps:   # iteration failed\n",
    "        return None\n",
    "\n",
    "    return (x0 + x1) / 2.0\n",
    "        \n",
    "    \n",
    "def x_squared_minus_2(x):\n",
    "    return x * x - 2\n",
    "\n",
    "\n",
    "print(find_root_bisect(x_squared_minus_2, 0, 2, debug=True))"
   ]
  },
  {
   "cell_type": "markdown",
   "metadata": {},
   "source": [
    "Python also knows \"anoymous functions\", so called \"lambda\" functions. The are intended to be passed around, and are restricted compared to regular functions (eg no \"for\", \"if\", ..):\n",
    "\n",
    "Syntax is `lambda <ARGS>: <RETURN_VALUE>`:"
   ]
  },
  {
   "cell_type": "code",
   "execution_count": 2,
   "metadata": {},
   "outputs": [
    {
     "name": "stdout",
     "output_type": "stream",
     "text": [
      "1.4142112731933594\n"
     ]
    }
   ],
   "source": [
    "print(find_root_bisect(lambda x: x**2 - 2, 0, 2))"
   ]
  },
  {
   "cell_type": "code",
   "execution_count": 3,
   "metadata": {},
   "outputs": [
    {
     "name": "stdout",
     "output_type": "stream",
     "text": [
      "<function <lambda> at 0x1056d5c80>\n"
     ]
    }
   ],
   "source": [
    "print(lambda a, b: a + b)"
   ]
  },
  {
   "cell_type": "code",
   "execution_count": 4,
   "metadata": {},
   "outputs": [
    {
     "name": "stdout",
     "output_type": "stream",
     "text": [
      "3\n"
     ]
    }
   ],
   "source": [
    "print((lambda a, b: a + b)(1, 2))"
   ]
  },
  {
   "cell_type": "code",
   "execution_count": 5,
   "metadata": {},
   "outputs": [
    {
     "name": "stdout",
     "output_type": "stream",
     "text": [
      "   0 x0=+1.00000e+01 f(x0)=+9.80000e+01\n",
      "   1 x0=+5.10000e+00 f(x0)=+2.40100e+01\n",
      "   2 x0=+2.74608e+00 f(x0)=+5.54095e+00\n",
      "   3 x0=+1.73719e+00 f(x0)=+1.01785e+00\n",
      "   4 x0=+1.44424e+00 f(x0)=+8.58237e-02\n",
      "   5 x0=+1.41453e+00 f(x0)=+8.82829e-04\n",
      "1.4142135968022693\n"
     ]
    }
   ],
   "source": [
    "def find_root_newton(function, derivative, x0, eps=1e-5, max_iter=10, debug=False):\n",
    "    \n",
    "    iter_count = 0\n",
    "    f0 = function(x0)\n",
    "    \n",
    "    while abs(f0) > eps and iter_count < max_iter:\n",
    "        if debug:\n",
    "            print(\"{:4d} x0={:+.5e} f(x0)={:+.5e}\".format(iter_count, x0, f0))\n",
    "        x0 = x0 - f0 / derivative(x0)\n",
    "        iter_count += 1\n",
    "        f0 = function(x0)\n",
    "        \n",
    "    if abs(function(x0)) > eps:   # iteration failed\n",
    "        return None\n",
    "\n",
    "    return x0\n",
    "        \n",
    "    \n",
    "def x_squared_minus_2(x):\n",
    "    return x * x - 2\n",
    "\n",
    "\n",
    "def two_x(x):\n",
    "    return 2 * x\n",
    "\n",
    "\n",
    "print(find_root_newton(x_squared_minus_2, two_x, 10, debug=True))"
   ]
  },
  {
   "cell_type": "code",
   "execution_count": 6,
   "metadata": {},
   "outputs": [
    {
     "name": "stdout",
     "output_type": "stream",
     "text": [
      "   0 x0=+1.00000e+01 f(x0)=+9.80000e+01\n",
      "   1 x0=+5.10000e+00 f(x0)=+2.40100e+01\n",
      "   2 x0=+2.74608e+00 f(x0)=+5.54095e+00\n",
      "   3 x0=+1.73719e+00 f(x0)=+1.01785e+00\n",
      "   4 x0=+1.44424e+00 f(x0)=+8.58237e-02\n",
      "   5 x0=+1.41453e+00 f(x0)=+8.82829e-04\n",
      "1.4142135968022693\n"
     ]
    }
   ],
   "source": [
    "print(find_root_newton(lambda x: x*x - 2, lambda x: 2*x, 10, debug=True))"
   ]
  },
  {
   "cell_type": "markdown",
   "metadata": {},
   "source": [
    "## Comparison:\n",
    "\n",
    "### Bisection:\n",
    "- slow (many iterations)\n",
    "- two suitable starting values required\n",
    "- derivative not necessary\n",
    "\n",
    "### Newton iterations:\n",
    "- fast (less iterations)\n",
    "- only one staring value required\n",
    "- derivative required\n",
    "\n"
   ]
  },
  {
   "cell_type": "code",
   "execution_count": 7,
   "metadata": {},
   "outputs": [
    {
     "name": "stdout",
     "output_type": "stream",
     "text": [
      "     10 3.20000000  5.84073e-02\n",
      "    100 2.84000000  3.01593e-01\n",
      "   1000 3.19200000  5.04073e-02\n",
      "  10000 3.15240000  1.08073e-02\n",
      " 100000 3.14512000  3.52735e-03\n",
      "1000000 3.14271600  1.12335e-03\n"
     ]
    }
   ],
   "source": [
    "import random\n",
    "import math\n",
    "\n",
    "\n",
    "def montecarlo_pi(n_points):\n",
    "    hits = 0\n",
    "    for i in range(n_points):\n",
    "        x = random.random()\n",
    "        y = random.random()\n",
    "        if math.hypot(x, y) <= 1:\n",
    "            hits += 1\n",
    "    return hits / n_points * 4\n",
    "\n",
    "\n",
    "for n_points in (10, 100, 1000, 10000, 100000, 1000000):\n",
    "    pi_approx = montecarlo_pi(n_points)\n",
    "    err = abs(math.pi - pi_approx)\n",
    "    print(\"{:7d} {:.8f}  {:.5e}\".format(n_points, pi_approx, err))"
   ]
  },
  {
   "cell_type": "code",
   "execution_count": 8,
   "metadata": {},
   "outputs": [
    {
     "name": "stdout",
     "output_type": "stream",
     "text": [
      "    10 3.04183962  9.97530e-02\n",
      "   100 3.13159290  9.99975e-03\n",
      "  1000 3.14059265  1.00000e-03\n",
      " 10000 3.14149265  1.00000e-04\n",
      "100000 3.14158265  1.00000e-05\n"
     ]
    }
   ],
   "source": [
    "def leibnitz_pi(n_summands):\n",
    "    sum_ = 0.0\n",
    "    sign = 1\n",
    "    for i in range(n_summands):\n",
    "        sum_ += sign / (2 * i + 1)\n",
    "        sign = -sign\n",
    "    return sum_ * 4\n",
    "\n",
    "\n",
    "for n_summands in (10, 100, 1000, 10000, 100000):\n",
    "    pi_approx = leibnitz_pi(n_summands)\n",
    "    err = abs(math.pi - pi_approx)\n",
    "    print(\"{:6d} {:.8f}  {:.5e}\".format(n_summands, pi_approx, err))"
   ]
  },
  {
   "cell_type": "markdown",
   "metadata": {},
   "source": [
    "## Comparison:\n",
    "\n",
    "- monte carlo converges slow (error ~ $\\frac{1}{\\sqrt{n}}$)\n",
    "- leibnitz converges faster (error ~ $\\frac{1}{n}$)"
   ]
  },
  {
   "cell_type": "markdown",
   "metadata": {},
   "source": [
    "## Additional  much faster approach (not in required):\n",
    "\n",
    "We use\n",
    "$$\n",
    "   \\sum_1^n \\frac{1}{n^4} \\to \\frac{\\pi^4}{90}\n",
    "$$"
   ]
  },
  {
   "cell_type": "code",
   "execution_count": 9,
   "metadata": {},
   "outputs": [
    {
     "name": "stdout",
     "output_type": "stream",
     "text": [
      "    10 3.14131204  2.80614e-04\n",
      "   100 3.14159241  2.45539e-07\n",
      "  1000 3.14159265  2.42248e-10\n",
      " 10000 3.14159265  2.01172e-13\n",
      "100000 3.14159265  2.01172e-13\n"
     ]
    }
   ],
   "source": [
    "def leibnitz_bessel(n_summands):\n",
    "    sum_ = 0.0\n",
    "    for i in range(1, n_summands):\n",
    "        sum_ += 1 / (i ** 4)\n",
    "    return (90 * sum_) ** .25\n",
    "\n",
    "\n",
    "for n_summands in (10, 100, 1000, 10000, 100000):\n",
    "    pi_approx = leibnitz_bessel(n_summands)\n",
    "    err = abs(math.pi - pi_approx)\n",
    "    print(\"{:6d} {:.8f}  {:.5e}\".format(n_summands, pi_approx, err))"
   ]
  },
  {
   "cell_type": "code",
   "execution_count": 10,
   "metadata": {},
   "outputs": [
    {
     "data": {
      "text/html": [
       "<style>\n",
       "    \n",
       "    @import url('http://fonts.googleapis.com/css?family=Source+Code+Pro');\n",
       "    \n",
       "    @import url('http://fonts.googleapis.com/css?family=Kameron');\n",
       "    @import url('http://fonts.googleapis.com/css?family=Crimson+Text');\n",
       "    \n",
       "    @import url('http://fonts.googleapis.com/css?family=Lato');\n",
       "    @import url('http://fonts.googleapis.com/css?family=Source+Sans+Pro');\n",
       "    \n",
       "    @import url('http://fonts.googleapis.com/css?family=Lora'); \n",
       "\n",
       "    \n",
       "    body {\n",
       "        font-family: 'Lora', Consolas, sans-serif;\n",
       "      \n",
       "    }\n",
       "    .rendered_html code\n",
       "    {\n",
       "        color: black;\n",
       "        background: #eaf0ff;\n",
       "        padding: 1pt;\n",
       "        font-family:  'Source Code Pro', Consolas, monocco, monospace;\n",
       "    }\n",
       "    \n",
       "    .CodeMirror pre {\n",
       "    font-family: 'Source Code Pro', monocco, Consolas, monocco, monospace;\n",
       "    }\n",
       "    \n",
       "    .cm-s-ipython span.cm-keyword {\n",
       "        font-weight: normal;\n",
       "     }\n",
       "     \n",
       "     strong {\n",
       "         background: #ffe7e7;\n",
       "         padding: 1pt;\n",
       "     }\n",
       "     \n",
       "    \n",
       "    div #notebook {\n",
       "        # font-size: 10pt; \n",
       "        line-height: 145%;\n",
       "        }\n",
       "        \n",
       "    li {\n",
       "        line-heigt: 145%;\n",
       "    }\n",
       "\n",
       "    div.output_area pre {\n",
       "        background: #fffdf0;\n",
       "        padding: 3pt;\n",
       "    }\n",
       "    h1, h2, h3, h4 {\n",
       "        font-family: Kameron, arial;\n",
       "    }\n",
       "    \n",
       "    div#maintoolbar {display: none !important;}\n",
       "    </style>"
      ],
      "text/plain": [
       "<IPython.core.display.HTML object>"
      ]
     },
     "execution_count": 10,
     "metadata": {},
     "output_type": "execute_result"
    }
   ],
   "source": [
    "#REMOVEBEGIN\n",
    "# THE LINES BELOW ARE JUST FOR FORMATTING THE INSTRUCTIONS ABOVE !\n",
    "from IPython import utils, paths\n",
    "from IPython.core.display import HTML\n",
    "import os\n",
    "def css_styling():\n",
    "    \"\"\"Load default custom.css file from ipython profile\"\"\"\n",
    "    # base = utils.path.get_ipython_dir()\n",
    "    base = paths.get_ipython_dir()\n",
    "    styles = \"\"\"<style>\n",
    "    \n",
    "    @import url('http://fonts.googleapis.com/css?family=Source+Code+Pro');\n",
    "    \n",
    "    @import url('http://fonts.googleapis.com/css?family=Kameron');\n",
    "    @import url('http://fonts.googleapis.com/css?family=Crimson+Text');\n",
    "    \n",
    "    @import url('http://fonts.googleapis.com/css?family=Lato');\n",
    "    @import url('http://fonts.googleapis.com/css?family=Source+Sans+Pro');\n",
    "    \n",
    "    @import url('http://fonts.googleapis.com/css?family=Lora'); \n",
    "\n",
    "    \n",
    "    body {\n",
    "        font-family: 'Lora', Consolas, sans-serif;\n",
    "      \n",
    "    }\n",
    "    .rendered_html code\n",
    "    {\n",
    "        color: black;\n",
    "        background: #eaf0ff;\n",
    "        padding: 1pt;\n",
    "        font-family:  'Source Code Pro', Consolas, monocco, monospace;\n",
    "    }\n",
    "    \n",
    "    .CodeMirror pre {\n",
    "    font-family: 'Source Code Pro', monocco, Consolas, monocco, monospace;\n",
    "    }\n",
    "    \n",
    "    .cm-s-ipython span.cm-keyword {\n",
    "        font-weight: normal;\n",
    "     }\n",
    "     \n",
    "     strong {\n",
    "         background: #ffe7e7;\n",
    "         padding: 1pt;\n",
    "     }\n",
    "     \n",
    "    \n",
    "    div #notebook {\n",
    "        # font-size: 10pt; \n",
    "        line-height: 145%;\n",
    "        }\n",
    "        \n",
    "    li {\n",
    "        line-heigt: 145%;\n",
    "    }\n",
    "\n",
    "    div.output_area pre {\n",
    "        background: #fffdf0;\n",
    "        padding: 3pt;\n",
    "    }\n",
    "    h1, h2, h3, h4 {\n",
    "        font-family: Kameron, arial;\n",
    "    }\n",
    "    \n",
    "    div#maintoolbar {display: none !important;}\n",
    "    </style>\"\"\"\n",
    "    return HTML(styles)\n",
    "css_styling()\n",
    "#REMOVEEND"
   ]
  }
 ],
 "metadata": {
  "kernelspec": {
   "display_name": "Python 3",
   "language": "python",
   "name": "python3"
  },
  "language_info": {
   "codemirror_mode": {
    "name": "ipython",
    "version": 3
   },
   "file_extension": ".py",
   "mimetype": "text/x-python",
   "name": "python",
   "nbconvert_exporter": "python",
   "pygments_lexer": "ipython3",
   "version": "3.6.0"
  }
 },
 "nbformat": 4,
 "nbformat_minor": 2
}
